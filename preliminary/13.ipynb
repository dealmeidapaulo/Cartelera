{
 "cells": [
  {
   "cell_type": "code",
   "execution_count": 1,
   "metadata": {},
   "outputs": [],
   "source": [
    "import pandas as pd\n",
    "from csv import writer\n",
    "import numpy as np\n",
    "import pandas as pd\n",
    "from lib import lib_soup_alternativaTeatral as alternativaTeatral"
   ]
  },
  {
   "attachments": {},
   "cell_type": "markdown",
   "metadata": {},
   "source": [
    "Voy a querer obtener los Comentarios del Público en Alternativa Teatral."
   ]
  },
  {
   "cell_type": "code",
   "execution_count": 3,
   "metadata": {},
   "outputs": [
    {
     "data": {
      "text/html": [
       "<div>\n",
       "<style scoped>\n",
       "    .dataframe tbody tr th:only-of-type {\n",
       "        vertical-align: middle;\n",
       "    }\n",
       "\n",
       "    .dataframe tbody tr th {\n",
       "        vertical-align: top;\n",
       "    }\n",
       "\n",
       "    .dataframe thead th {\n",
       "        text-align: right;\n",
       "    }\n",
       "</style>\n",
       "<table border=\"1\" class=\"dataframe\">\n",
       "  <thead>\n",
       "    <tr style=\"text-align: right;\">\n",
       "      <th></th>\n",
       "      <th>urlAT</th>\n",
       "      <th>categoríaAT</th>\n",
       "      <th>página</th>\n",
       "    </tr>\n",
       "  </thead>\n",
       "  <tbody>\n",
       "    <tr>\n",
       "      <th>0</th>\n",
       "      <td>https://www.alternativateatral.com//obra82180-...</td>\n",
       "      <td>4</td>\n",
       "      <td>1</td>\n",
       "    </tr>\n",
       "    <tr>\n",
       "      <th>1</th>\n",
       "      <td>https://www.alternativateatral.com//obra82177-...</td>\n",
       "      <td>5</td>\n",
       "      <td>1</td>\n",
       "    </tr>\n",
       "    <tr>\n",
       "      <th>2</th>\n",
       "      <td>https://www.alternativateatral.com//obra82180-...</td>\n",
       "      <td>3</td>\n",
       "      <td>1</td>\n",
       "    </tr>\n",
       "    <tr>\n",
       "      <th>3</th>\n",
       "      <td>https://www.alternativateatral.com//obra67150-...</td>\n",
       "      <td>4</td>\n",
       "      <td>1</td>\n",
       "    </tr>\n",
       "    <tr>\n",
       "      <th>4</th>\n",
       "      <td>https://www.alternativateatral.com//obra73854-...</td>\n",
       "      <td>0</td>\n",
       "      <td>1</td>\n",
       "    </tr>\n",
       "    <tr>\n",
       "      <th>...</th>\n",
       "      <td>...</td>\n",
       "      <td>...</td>\n",
       "      <td>...</td>\n",
       "    </tr>\n",
       "    <tr>\n",
       "      <th>64871</th>\n",
       "      <td>https://www.alternativateatral.com//obra76351-...</td>\n",
       "      <td>5</td>\n",
       "      <td>9687</td>\n",
       "    </tr>\n",
       "    <tr>\n",
       "      <th>64872</th>\n",
       "      <td>https://www.alternativateatral.com//obra76550-...</td>\n",
       "      <td>4</td>\n",
       "      <td>9687</td>\n",
       "    </tr>\n",
       "    <tr>\n",
       "      <th>64873</th>\n",
       "      <td>https://www.alternativateatral.com//obra76106-...</td>\n",
       "      <td>5</td>\n",
       "      <td>9687</td>\n",
       "    </tr>\n",
       "    <tr>\n",
       "      <th>64874</th>\n",
       "      <td>https://www.alternativateatral.com//obra76106-...</td>\n",
       "      <td>5</td>\n",
       "      <td>9687</td>\n",
       "    </tr>\n",
       "    <tr>\n",
       "      <th>64875</th>\n",
       "      <td>https://www.alternativateatral.com//obra75534-...</td>\n",
       "      <td>0</td>\n",
       "      <td>9687</td>\n",
       "    </tr>\n",
       "  </tbody>\n",
       "</table>\n",
       "<p>64876 rows × 3 columns</p>\n",
       "</div>"
      ],
      "text/plain": [
       "                                                   urlAT  categoríaAT  página\n",
       "0      https://www.alternativateatral.com//obra82180-...            4       1\n",
       "1      https://www.alternativateatral.com//obra82177-...            5       1\n",
       "2      https://www.alternativateatral.com//obra82180-...            3       1\n",
       "3      https://www.alternativateatral.com//obra67150-...            4       1\n",
       "4      https://www.alternativateatral.com//obra73854-...            0       1\n",
       "...                                                  ...          ...     ...\n",
       "64871  https://www.alternativateatral.com//obra76351-...            5    9687\n",
       "64872  https://www.alternativateatral.com//obra76550-...            4    9687\n",
       "64873  https://www.alternativateatral.com//obra76106-...            5    9687\n",
       "64874  https://www.alternativateatral.com//obra76106-...            5    9687\n",
       "64875  https://www.alternativateatral.com//obra75534-...            0    9687\n",
       "\n",
       "[64876 rows x 3 columns]"
      ]
     },
     "execution_count": 3,
     "metadata": {},
     "output_type": "execute_result"
    }
   ],
   "source": [
    "df_x4 = pd.read_csv(\"data//df_x4.csv\")\n",
    "df_x4"
   ]
  },
  {
   "cell_type": "code",
   "execution_count": 4,
   "metadata": {},
   "outputs": [
    {
     "name": "stdout",
     "output_type": "stream",
     "text": [
      "9694\n",
      "9711\n",
      "9779\n",
      "9797\n",
      "9801\n"
     ]
    }
   ],
   "source": [
    "j = 64878\n",
    "for i in range(9688,42272):\n",
    "    try:\n",
    "        L = alternativaTeatral.opiniones_getOpiniones(i)\n",
    "        for l in L:\n",
    "            df_x4.loc[j] = [l[0],l[1],i]\n",
    "            j += 1\n",
    "        df_x4.to_csv(\"data/df_x4.csv\", encoding='utf-8', index=False)\n",
    "    except: print(i)"
   ]
  },
  {
   "cell_type": "code",
   "execution_count": null,
   "metadata": {},
   "outputs": [],
   "source": [
    "alternativaTeatral.opiniones_getOpiniones(8061)"
   ]
  }
 ],
 "metadata": {
  "kernelspec": {
   "display_name": "Python 3",
   "language": "python",
   "name": "python3"
  },
  "language_info": {
   "codemirror_mode": {
    "name": "ipython",
    "version": 3
   },
   "file_extension": ".py",
   "mimetype": "text/x-python",
   "name": "python",
   "nbconvert_exporter": "python",
   "pygments_lexer": "ipython3",
   "version": "3.10.10"
  },
  "orig_nbformat": 4,
  "vscode": {
   "interpreter": {
    "hash": "f8ca15d83b6fb72cece3edcf60f6aa40d2cbdeb5c60e0f188ff8c7c65828fd00"
   }
  }
 },
 "nbformat": 4,
 "nbformat_minor": 2
}
