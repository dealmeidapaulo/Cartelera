{
 "cells": [
  {
   "cell_type": "code",
   "execution_count": 1,
   "metadata": {},
   "outputs": [],
   "source": [
    "import pandas as pd\n",
    "from csv import writer\n",
    "import numpy as np\n",
    "import pandas as pd\n",
    "from lib import lib_soup_alternativaTeatral as alternativaTeatral"
   ]
  },
  {
   "attachments": {},
   "cell_type": "markdown",
   "metadata": {},
   "source": [
    "Voy a querer obtener los Comentarios del Público en Alternativa Teatral."
   ]
  },
  {
   "cell_type": "code",
   "execution_count": 2,
   "metadata": {},
   "outputs": [
    {
     "data": {
      "text/html": [
       "<div>\n",
       "<style scoped>\n",
       "    .dataframe tbody tr th:only-of-type {\n",
       "        vertical-align: middle;\n",
       "    }\n",
       "\n",
       "    .dataframe tbody tr th {\n",
       "        vertical-align: top;\n",
       "    }\n",
       "\n",
       "    .dataframe thead th {\n",
       "        text-align: right;\n",
       "    }\n",
       "</style>\n",
       "<table border=\"1\" class=\"dataframe\">\n",
       "  <thead>\n",
       "    <tr style=\"text-align: right;\">\n",
       "      <th></th>\n",
       "      <th>urlAT</th>\n",
       "      <th>categoríaAT</th>\n",
       "      <th>página</th>\n",
       "    </tr>\n",
       "  </thead>\n",
       "  <tbody>\n",
       "    <tr>\n",
       "      <th>0</th>\n",
       "      <td>https://www.alternativateatral.com//obra82180-...</td>\n",
       "      <td>4</td>\n",
       "      <td>1</td>\n",
       "    </tr>\n",
       "    <tr>\n",
       "      <th>1</th>\n",
       "      <td>https://www.alternativateatral.com//obra82177-...</td>\n",
       "      <td>5</td>\n",
       "      <td>1</td>\n",
       "    </tr>\n",
       "    <tr>\n",
       "      <th>2</th>\n",
       "      <td>https://www.alternativateatral.com//obra82180-...</td>\n",
       "      <td>3</td>\n",
       "      <td>1</td>\n",
       "    </tr>\n",
       "    <tr>\n",
       "      <th>3</th>\n",
       "      <td>https://www.alternativateatral.com//obra67150-...</td>\n",
       "      <td>4</td>\n",
       "      <td>1</td>\n",
       "    </tr>\n",
       "    <tr>\n",
       "      <th>4</th>\n",
       "      <td>https://www.alternativateatral.com//obra73854-...</td>\n",
       "      <td>0</td>\n",
       "      <td>1</td>\n",
       "    </tr>\n",
       "    <tr>\n",
       "      <th>...</th>\n",
       "      <td>...</td>\n",
       "      <td>...</td>\n",
       "      <td>...</td>\n",
       "    </tr>\n",
       "    <tr>\n",
       "      <th>47245</th>\n",
       "      <td>https://www.alternativateatral.com//obra33486-...</td>\n",
       "      <td>4</td>\n",
       "      <td>7044</td>\n",
       "    </tr>\n",
       "    <tr>\n",
       "      <th>47246</th>\n",
       "      <td>https://www.alternativateatral.com//obra74405-...</td>\n",
       "      <td>4</td>\n",
       "      <td>7044</td>\n",
       "    </tr>\n",
       "    <tr>\n",
       "      <th>47247</th>\n",
       "      <td>https://www.alternativateatral.com//obra45943-...</td>\n",
       "      <td>4</td>\n",
       "      <td>7044</td>\n",
       "    </tr>\n",
       "    <tr>\n",
       "      <th>47248</th>\n",
       "      <td>https://www.alternativateatral.com//obra54412-...</td>\n",
       "      <td>4</td>\n",
       "      <td>7044</td>\n",
       "    </tr>\n",
       "    <tr>\n",
       "      <th>47249</th>\n",
       "      <td>https://www.alternativateatral.com//obra74890-...</td>\n",
       "      <td>4</td>\n",
       "      <td>7044</td>\n",
       "    </tr>\n",
       "  </tbody>\n",
       "</table>\n",
       "<p>47250 rows × 3 columns</p>\n",
       "</div>"
      ],
      "text/plain": [
       "                                                   urlAT  categoríaAT  página\n",
       "0      https://www.alternativateatral.com//obra82180-...            4       1\n",
       "1      https://www.alternativateatral.com//obra82177-...            5       1\n",
       "2      https://www.alternativateatral.com//obra82180-...            3       1\n",
       "3      https://www.alternativateatral.com//obra67150-...            4       1\n",
       "4      https://www.alternativateatral.com//obra73854-...            0       1\n",
       "...                                                  ...          ...     ...\n",
       "47245  https://www.alternativateatral.com//obra33486-...            4    7044\n",
       "47246  https://www.alternativateatral.com//obra74405-...            4    7044\n",
       "47247  https://www.alternativateatral.com//obra45943-...            4    7044\n",
       "47248  https://www.alternativateatral.com//obra54412-...            4    7044\n",
       "47249  https://www.alternativateatral.com//obra74890-...            4    7044\n",
       "\n",
       "[47250 rows x 3 columns]"
      ]
     },
     "execution_count": 2,
     "metadata": {},
     "output_type": "execute_result"
    }
   ],
   "source": [
    "df_x4 = pd.read_csv(\"data//df_x4.csv\")\n",
    "df_x4"
   ]
  },
  {
   "cell_type": "code",
   "execution_count": 3,
   "metadata": {},
   "outputs": [
    {
     "name": "stdout",
     "output_type": "stream",
     "text": [
      "7152\n",
      "7223\n",
      "7231\n",
      "7300\n",
      "7305\n",
      "7340\n",
      "7341\n",
      "7393\n",
      "7402\n",
      "7416\n",
      "7429\n",
      "7434\n",
      "7457\n",
      "7533\n",
      "7617\n",
      "7622\n",
      "7664\n",
      "7684\n",
      "7735\n",
      "7824\n",
      "7827\n",
      "7907\n",
      "7924\n",
      "7936\n",
      "7954\n",
      "7976\n",
      "7989\n",
      "7997\n",
      "8007\n",
      "8075\n",
      "8084\n",
      "8085\n",
      "8102\n",
      "8103\n",
      "8118\n",
      "8146\n",
      "8192\n",
      "8219\n",
      "8229\n",
      "8233\n",
      "8237\n",
      "8244\n",
      "8262\n"
     ]
    }
   ],
   "source": [
    "j = 47252\n",
    "for i in range(7045,42272):\n",
    "    try:\n",
    "        L = alternativaTeatral.opiniones_getOpiniones(i)\n",
    "        for l in L:\n",
    "            df_x4.loc[j] = [l[0],l[1],i]\n",
    "            j += 1\n",
    "        df_x4.to_csv(\"data/df_x4.csv\", encoding='utf-8', index=False)\n",
    "    except: print(i)"
   ]
  },
  {
   "cell_type": "code",
   "execution_count": null,
   "metadata": {},
   "outputs": [],
   "source": [
    "alternativaTeatral.opiniones_getOpiniones(8061)"
   ]
  }
 ],
 "metadata": {
  "kernelspec": {
   "display_name": "Python 3",
   "language": "python",
   "name": "python3"
  },
  "language_info": {
   "codemirror_mode": {
    "name": "ipython",
    "version": 3
   },
   "file_extension": ".py",
   "mimetype": "text/x-python",
   "name": "python",
   "nbconvert_exporter": "python",
   "pygments_lexer": "ipython3",
   "version": "3.10.10"
  },
  "orig_nbformat": 4,
  "vscode": {
   "interpreter": {
    "hash": "f8ca15d83b6fb72cece3edcf60f6aa40d2cbdeb5c60e0f188ff8c7c65828fd00"
   }
  }
 },
 "nbformat": 4,
 "nbformat_minor": 2
}
