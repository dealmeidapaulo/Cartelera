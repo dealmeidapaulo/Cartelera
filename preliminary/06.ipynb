{
 "cells": [
  {
   "cell_type": "code",
   "execution_count": 1,
   "metadata": {},
   "outputs": [],
   "source": [
    "import pandas as pd\n",
    "from csv import writer\n",
    "import numpy as np\n",
    "from lib import lib_soup as sp, lib_soup_alternativaTeatral as alternativaTeatral, lib_soup_farsamag as farsaMag"
   ]
  },
  {
   "cell_type": "code",
   "execution_count": 2,
   "metadata": {},
   "outputs": [
    {
     "data": {
      "text/html": [
       "<div>\n",
       "<style scoped>\n",
       "    .dataframe tbody tr th:only-of-type {\n",
       "        vertical-align: middle;\n",
       "    }\n",
       "\n",
       "    .dataframe tbody tr th {\n",
       "        vertical-align: top;\n",
       "    }\n",
       "\n",
       "    .dataframe thead th {\n",
       "        text-align: right;\n",
       "    }\n",
       "</style>\n",
       "<table border=\"1\" class=\"dataframe\">\n",
       "  <thead>\n",
       "    <tr style=\"text-align: right;\">\n",
       "      <th></th>\n",
       "      <th>nombre</th>\n",
       "      <th>urlAT</th>\n",
       "      <th>derivadas</th>\n",
       "      <th>urlF</th>\n",
       "      <th>categoríaF</th>\n",
       "    </tr>\n",
       "  </thead>\n",
       "  <tbody>\n",
       "    <tr>\n",
       "      <th>0</th>\n",
       "      <td>Gansos</td>\n",
       "      <td>NaN</td>\n",
       "      <td>/obra74685-gansos, /obra54414-los-gansos-grazn...</td>\n",
       "      <td>https://farsamag.com/obras/gansos/</td>\n",
       "      <td>Reseña</td>\n",
       "    </tr>\n",
       "    <tr>\n",
       "      <th>1</th>\n",
       "      <td>Las oceánicas</td>\n",
       "      <td>https://www.alternativateatral.com//obra74192-...</td>\n",
       "      <td>/obra74192-las-oceanicas</td>\n",
       "      <td>https://farsamag.com/obras/las-oceanicas/</td>\n",
       "      <td>Reseña</td>\n",
       "    </tr>\n",
       "    <tr>\n",
       "      <th>2</th>\n",
       "      <td>Lorca, el teatro bajo la arena</td>\n",
       "      <td>https://www.alternativateatral.com//obra78212-...</td>\n",
       "      <td>/obra78212-lorca-el-teatro-bajo-la-arena</td>\n",
       "      <td>https://farsamag.com/obras/lorca-el-teatro-baj...</td>\n",
       "      <td>Imperdible</td>\n",
       "    </tr>\n",
       "    <tr>\n",
       "      <th>3</th>\n",
       "      <td>A Chorus Line</td>\n",
       "      <td>https://www.alternativateatral.com//obra63013-...</td>\n",
       "      <td>/obra64382-a-chorus-line, /obra63013-chorus-line</td>\n",
       "      <td>https://farsamag.com/obras/a-chorus-line/</td>\n",
       "      <td>Reseña</td>\n",
       "    </tr>\n",
       "    <tr>\n",
       "      <th>4</th>\n",
       "      <td>Impalpable</td>\n",
       "      <td>https://www.alternativateatral.com//obra21551-...</td>\n",
       "      <td>/obra21551-impalpable, /obra9731-la-madre-impa...</td>\n",
       "      <td>https://farsamag.com/obras/impalpable/</td>\n",
       "      <td>Destacada</td>\n",
       "    </tr>\n",
       "    <tr>\n",
       "      <th>...</th>\n",
       "      <td>...</td>\n",
       "      <td>...</td>\n",
       "      <td>...</td>\n",
       "      <td>...</td>\n",
       "      <td>...</td>\n",
       "    </tr>\n",
       "    <tr>\n",
       "      <th>294</th>\n",
       "      <td>Los abrazos huecos</td>\n",
       "      <td>https://www.alternativateatral.com//obra63208-...</td>\n",
       "      <td>/obra63208-los-abrazos-huecos</td>\n",
       "      <td>https://farsamag.com/obras/los-abrazos-huecos/</td>\n",
       "      <td>Destacada</td>\n",
       "    </tr>\n",
       "    <tr>\n",
       "      <th>295</th>\n",
       "      <td>Actriz</td>\n",
       "      <td>NaN</td>\n",
       "      <td>/obra69780-actriz, /obra34269-actriz, /obra625...</td>\n",
       "      <td>https://farsamag.com/obras/actriz/</td>\n",
       "      <td>Destacada</td>\n",
       "    </tr>\n",
       "    <tr>\n",
       "      <th>296</th>\n",
       "      <td>Forever Young</td>\n",
       "      <td>NaN</td>\n",
       "      <td>/obra24072-forever-young, /obra69181-forever-y...</td>\n",
       "      <td>https://farsamag.com/obras/forever-young/</td>\n",
       "      <td>Imperdible</td>\n",
       "    </tr>\n",
       "    <tr>\n",
       "      <th>297</th>\n",
       "      <td>Solo vine a ver el jardín</td>\n",
       "      <td>https://www.alternativateatral.com//obra59640-...</td>\n",
       "      <td>/obra59640-solo-vine-a-ver-el-jardin, /obra78-...</td>\n",
       "      <td>https://farsamag.com/obras/solo-vine-a-ver-el-...</td>\n",
       "      <td>Reseña</td>\n",
       "    </tr>\n",
       "    <tr>\n",
       "      <th>298</th>\n",
       "      <td>Hidalgo</td>\n",
       "      <td>NaN</td>\n",
       "      <td>/obra52560-hidalgo, /obra43556-hidalgo, /obra6...</td>\n",
       "      <td>https://farsamag.com/obras/hidalgo/</td>\n",
       "      <td>Reseña</td>\n",
       "    </tr>\n",
       "  </tbody>\n",
       "</table>\n",
       "<p>299 rows × 5 columns</p>\n",
       "</div>"
      ],
      "text/plain": [
       "                             nombre  \\\n",
       "0                            Gansos   \n",
       "1                     Las oceánicas   \n",
       "2    Lorca, el teatro bajo la arena   \n",
       "3                     A Chorus Line   \n",
       "4                        Impalpable   \n",
       "..                              ...   \n",
       "294              Los abrazos huecos   \n",
       "295                          Actriz   \n",
       "296                   Forever Young   \n",
       "297       Solo vine a ver el jardín   \n",
       "298                         Hidalgo   \n",
       "\n",
       "                                                 urlAT  \\\n",
       "0                                                  NaN   \n",
       "1    https://www.alternativateatral.com//obra74192-...   \n",
       "2    https://www.alternativateatral.com//obra78212-...   \n",
       "3    https://www.alternativateatral.com//obra63013-...   \n",
       "4    https://www.alternativateatral.com//obra21551-...   \n",
       "..                                                 ...   \n",
       "294  https://www.alternativateatral.com//obra63208-...   \n",
       "295                                                NaN   \n",
       "296                                                NaN   \n",
       "297  https://www.alternativateatral.com//obra59640-...   \n",
       "298                                                NaN   \n",
       "\n",
       "                                             derivadas  \\\n",
       "0    /obra74685-gansos, /obra54414-los-gansos-grazn...   \n",
       "1                             /obra74192-las-oceanicas   \n",
       "2             /obra78212-lorca-el-teatro-bajo-la-arena   \n",
       "3     /obra64382-a-chorus-line, /obra63013-chorus-line   \n",
       "4    /obra21551-impalpable, /obra9731-la-madre-impa...   \n",
       "..                                                 ...   \n",
       "294                      /obra63208-los-abrazos-huecos   \n",
       "295  /obra69780-actriz, /obra34269-actriz, /obra625...   \n",
       "296  /obra24072-forever-young, /obra69181-forever-y...   \n",
       "297  /obra59640-solo-vine-a-ver-el-jardin, /obra78-...   \n",
       "298  /obra52560-hidalgo, /obra43556-hidalgo, /obra6...   \n",
       "\n",
       "                                                  urlF  categoríaF  \n",
       "0                   https://farsamag.com/obras/gansos/      Reseña  \n",
       "1            https://farsamag.com/obras/las-oceanicas/      Reseña  \n",
       "2    https://farsamag.com/obras/lorca-el-teatro-baj...  Imperdible  \n",
       "3            https://farsamag.com/obras/a-chorus-line/      Reseña  \n",
       "4               https://farsamag.com/obras/impalpable/   Destacada  \n",
       "..                                                 ...         ...  \n",
       "294     https://farsamag.com/obras/los-abrazos-huecos/   Destacada  \n",
       "295                 https://farsamag.com/obras/actriz/   Destacada  \n",
       "296          https://farsamag.com/obras/forever-young/  Imperdible  \n",
       "297  https://farsamag.com/obras/solo-vine-a-ver-el-...      Reseña  \n",
       "298                https://farsamag.com/obras/hidalgo/      Reseña  \n",
       "\n",
       "[299 rows x 5 columns]"
      ]
     },
     "execution_count": 2,
     "metadata": {},
     "output_type": "execute_result"
    }
   ],
   "source": [
    "df_x1 = pd.read_csv(\"data//df_x1.csv\")\n",
    "df_x1"
   ]
  },
  {
   "cell_type": "code",
   "execution_count": 3,
   "metadata": {},
   "outputs": [
    {
     "data": {
      "text/plain": [
       "[['/obra74685-gansos',\n",
       "  ' /obra54414-los-gansos-graznan-un-rato-y-se-callan',\n",
       "  ' /obra13818-trenes--y--gansos'],\n",
       " ['/obra42743-el-efecto-de-los-rayos-gamma-sobre-las-calendulas',\n",
       "  ' /obra35514-el-efecto-de-los-rayos-gamma-sobre-las-calendulas',\n",
       "  ' /obra71282-el-efecto-de-los-rayos-gamma-sobre-las-calendulas'],\n",
       " ['/obra25509-la-mujer-puerca',\n",
       "  ' /obra71338-la-mujer-puerca',\n",
       "  ' /obra41386-la-mujer-puerca'],\n",
       " ['/obra75267-precoz',\n",
       "  ' /obra21945-caperucita-cachonda-y-el-lobo-precoz',\n",
       "  ' /obra75111-acefalia-precoz'],\n",
       " ['/obra71648-casi-normales',\n",
       "  ' /obra22793-casi-normales',\n",
       "  ' /obra56626-workshop-casi-normales'],\n",
       " ['/obra59192-ametralladora',\n",
       "  ' /obra73377-solxs-ametralladora-el-corazon',\n",
       "  ' /obra73370-ametralladora'],\n",
       " ['/obra73427-el-ano-de-ricardo',\n",
       "  ' /obra33281-ricardo-capellano-ultima-presentacion-del-concierto',\n",
       "  ' /obra29677-presentacion-del-disco-de-ricardo-capellano'],\n",
       " ['/obra42627-adela-esta-cazando-patos',\n",
       "  ' /obra23565-adela-esta-cazando-patos',\n",
       "  ' /obra8380-adela-esta-cazando-patos'],\n",
       " ['/obra45943-campo-minado',\n",
       "  ' /obra5695-campo-minado',\n",
       "  ' /obra71848-anatomia-de-un-campo-minado'],\n",
       " ['/obra62616-el-equilibrista',\n",
       "  ' /obra70879-el-equilibrista',\n",
       "  ' /obra54293-el-equilibrista'],\n",
       " ['/obra77510-mis-palabras',\n",
       "  ' /obra3658-misiles-de-palabras-stand-up',\n",
       "  ' /obra46493-la-humillacion-de-las-palabras'],\n",
       " ['/obra77322-mujeres-en-el-bano',\n",
       "  ' /obra48828-mujeres-en-el-bano',\n",
       "  ' /obra8378-mujeres-en-el-bano'],\n",
       " ['/obra74645-consagrada',\n",
       "  ' /obra44544-laicas-consagradas',\n",
       "  ' /obra67749-siervas-consagradas'],\n",
       " ['/obra55055-la-ira-de-narciso',\n",
       "  ' /obra39693-la-ira-de-narciso',\n",
       "  ' /obra55223-la-ira-de-narciso-work-in-progress'],\n",
       " ['/obra49569-el-mar-de-noche',\n",
       "  ' /obra68010-noche-de-duos-de-autor-duo-manzoni-martinez-y-duo-alvarez-delgado',\n",
       "  ' /obra19948-noche-en-vela-ciudanza-en-la-plaza-san-martin-de-tours'],\n",
       " ['/obra80377-workshop-la-traduccion-prueba-8-proyecto-pruebas',\n",
       "  ' /obra78475-la-traduccion-prueba-8-proyecto-pruebas',\n",
       "  ' /obra59576-traduccion-de-las-noches'],\n",
       " ['/obra51202-el-viejo-principe',\n",
       "  ' /obra50941-el-viejo-principe',\n",
       "  ' /obra28638-el-viejo-principe'],\n",
       " ['/obra35866-el-farmer',\n",
       "  ' /obra1672-el-farmer-rosas-en-el-destierro',\n",
       "  ' /obra1287-el-farmer'],\n",
       " ['/obra33486-mi-hijo-solo-camina-un-poco-mas-lento',\n",
       "  ' /obra77564-mi-hijo-solo-camina-un-poco-mas-lento',\n",
       "  ' /obra41671-mi-hijo-solo-camina-un-poco-mas-lento'],\n",
       " ['/obra40785-empleados',\n",
       "  ' /obra38659-empleados-work-in-progress',\n",
       "  ' /obra2592-stars-artistas-y-empleados-publicos'],\n",
       " ['/obra36044-el-amor-es-un-bien',\n",
       "  ' /obra77508-presentacion-del-libro-el-amor-es-un-bien-y-otras-/obras',\n",
       "  ' /obra63238-el-amor-es-un-bien-fiba'],\n",
       " ['/obra24072-forever-young',\n",
       "  ' /obra69181-forever-young-muestras-de-fin-de-ano-accion',\n",
       "  ' /obra54401-eternamente-jovenes-forever-young']]"
      ]
     },
     "execution_count": 3,
     "metadata": {},
     "output_type": "execute_result"
    }
   ],
   "source": [
    "ñ1 = [str(i).split(\",\") for i in df_x1['derivadas'].to_list()]\n",
    "ñ1 = [i for i in ñ1 if len(i) == 3]\n",
    "ñ1"
   ]
  },
  {
   "cell_type": "code",
   "execution_count": 4,
   "metadata": {},
   "outputs": [
    {
     "data": {
      "text/plain": [
       "22"
      ]
     },
     "execution_count": 4,
     "metadata": {},
     "output_type": "execute_result"
    }
   ],
   "source": [
    "len(ñ1)"
   ]
  },
  {
   "cell_type": "code",
   "execution_count": 8,
   "metadata": {},
   "outputs": [],
   "source": [
    "l = [0,0,0,0,1,0,0,0,0,0,0,0,0,0,0,1,0,0,0,0,0,0]"
   ]
  },
  {
   "cell_type": "code",
   "execution_count": 9,
   "metadata": {},
   "outputs": [
    {
     "data": {
      "text/plain": [
       "['/obra74685-gansos',\n",
       " '/obra42743-el-efecto-de-los-rayos-gamma-sobre-las-calendulas',\n",
       " '/obra25509-la-mujer-puerca',\n",
       " '/obra75267-precoz',\n",
       " ' /obra22793-casi-normales',\n",
       " '/obra59192-ametralladora',\n",
       " '/obra73427-el-ano-de-ricardo',\n",
       " '/obra42627-adela-esta-cazando-patos',\n",
       " '/obra45943-campo-minado',\n",
       " '/obra62616-el-equilibrista',\n",
       " '/obra77510-mis-palabras',\n",
       " '/obra77322-mujeres-en-el-bano',\n",
       " '/obra74645-consagrada',\n",
       " '/obra55055-la-ira-de-narciso',\n",
       " '/obra49569-el-mar-de-noche',\n",
       " ' /obra78475-la-traduccion-prueba-8-proyecto-pruebas',\n",
       " '/obra51202-el-viejo-principe',\n",
       " '/obra35866-el-farmer',\n",
       " '/obra33486-mi-hijo-solo-camina-un-poco-mas-lento',\n",
       " '/obra40785-empleados',\n",
       " '/obra36044-el-amor-es-un-bien',\n",
       " '/obra24072-forever-young']"
      ]
     },
     "execution_count": 9,
     "metadata": {},
     "output_type": "execute_result"
    }
   ],
   "source": [
    "for i in range(0,22):\n",
    "    ñ1[i] = ñ1[i][l[i]]\n",
    "\n",
    "ñ1"
   ]
  },
  {
   "cell_type": "code",
   "execution_count": 11,
   "metadata": {},
   "outputs": [
    {
     "data": {
      "text/plain": [
       "['https://www.alternativateatral.com//obra74685-gansos',\n",
       " 'https://www.alternativateatral.com//obra42743-el-efecto-de-los-rayos-gamma-sobre-las-calendulas',\n",
       " 'https://www.alternativateatral.com//obra25509-la-mujer-puerca',\n",
       " 'https://www.alternativateatral.com//obra75267-precoz',\n",
       " 'https://www.alternativateatral.com/ /obra22793-casi-normales',\n",
       " 'https://www.alternativateatral.com//obra59192-ametralladora',\n",
       " 'https://www.alternativateatral.com//obra73427-el-ano-de-ricardo',\n",
       " 'https://www.alternativateatral.com//obra42627-adela-esta-cazando-patos',\n",
       " 'https://www.alternativateatral.com//obra45943-campo-minado',\n",
       " 'https://www.alternativateatral.com//obra62616-el-equilibrista',\n",
       " 'https://www.alternativateatral.com//obra77510-mis-palabras',\n",
       " 'https://www.alternativateatral.com//obra77322-mujeres-en-el-bano',\n",
       " 'https://www.alternativateatral.com//obra74645-consagrada',\n",
       " 'https://www.alternativateatral.com//obra55055-la-ira-de-narciso',\n",
       " 'https://www.alternativateatral.com//obra49569-el-mar-de-noche',\n",
       " 'https://www.alternativateatral.com/ /obra78475-la-traduccion-prueba-8-proyecto-pruebas',\n",
       " 'https://www.alternativateatral.com//obra51202-el-viejo-principe',\n",
       " 'https://www.alternativateatral.com//obra35866-el-farmer',\n",
       " 'https://www.alternativateatral.com//obra33486-mi-hijo-solo-camina-un-poco-mas-lento',\n",
       " 'https://www.alternativateatral.com//obra40785-empleados',\n",
       " 'https://www.alternativateatral.com//obra36044-el-amor-es-un-bien',\n",
       " 'https://www.alternativateatral.com//obra24072-forever-young']"
      ]
     },
     "execution_count": 11,
     "metadata": {},
     "output_type": "execute_result"
    }
   ],
   "source": [
    "ñ1 = ['https://www.alternativateatral.com/'+i for i in ñ1]\n",
    "ñ1"
   ]
  }
 ],
 "metadata": {
  "kernelspec": {
   "display_name": "Python 3",
   "language": "python",
   "name": "python3"
  },
  "language_info": {
   "codemirror_mode": {
    "name": "ipython",
    "version": 3
   },
   "file_extension": ".py",
   "mimetype": "text/x-python",
   "name": "python",
   "nbconvert_exporter": "python",
   "pygments_lexer": "ipython3",
   "version": "3.10.9"
  },
  "orig_nbformat": 4,
  "vscode": {
   "interpreter": {
    "hash": "f8ca15d83b6fb72cece3edcf60f6aa40d2cbdeb5c60e0f188ff8c7c65828fd00"
   }
  }
 },
 "nbformat": 4,
 "nbformat_minor": 2
}
