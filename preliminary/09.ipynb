{
 "cells": [
  {
   "cell_type": "code",
   "execution_count": 41,
   "metadata": {},
   "outputs": [],
   "source": [
    "import pandas as pd\n",
    "from csv import writer\n",
    "import numpy as np\n",
    "from lib import lib_soup as sp, lib_soup_alternativaTeatral as alternativaTeatral, lib_soup_farsamag as farsaMag"
   ]
  },
  {
   "cell_type": "code",
   "execution_count": 42,
   "metadata": {},
   "outputs": [
    {
     "data": {
      "text/html": [
       "<div>\n",
       "<style scoped>\n",
       "    .dataframe tbody tr th:only-of-type {\n",
       "        vertical-align: middle;\n",
       "    }\n",
       "\n",
       "    .dataframe tbody tr th {\n",
       "        vertical-align: top;\n",
       "    }\n",
       "\n",
       "    .dataframe thead th {\n",
       "        text-align: right;\n",
       "    }\n",
       "</style>\n",
       "<table border=\"1\" class=\"dataframe\">\n",
       "  <thead>\n",
       "    <tr style=\"text-align: right;\">\n",
       "      <th></th>\n",
       "      <th>nombre</th>\n",
       "      <th>urlAT</th>\n",
       "      <th>derivadas</th>\n",
       "      <th>urlF</th>\n",
       "      <th>categoríaF</th>\n",
       "    </tr>\n",
       "  </thead>\n",
       "  <tbody>\n",
       "    <tr>\n",
       "      <th>0</th>\n",
       "      <td>Gansos</td>\n",
       "      <td>https://www.alternativateatral.com//obra74685-...</td>\n",
       "      <td>/obra74685-gansos, /obra54414-los-gansos-grazn...</td>\n",
       "      <td>https://farsamag.com/obras/gansos/</td>\n",
       "      <td>1</td>\n",
       "    </tr>\n",
       "    <tr>\n",
       "      <th>1</th>\n",
       "      <td>Las oceánicas</td>\n",
       "      <td>https://www.alternativateatral.com//obra74192-...</td>\n",
       "      <td>/obra74192-las-oceanicas</td>\n",
       "      <td>https://farsamag.com/obras/las-oceanicas/</td>\n",
       "      <td>1</td>\n",
       "    </tr>\n",
       "    <tr>\n",
       "      <th>2</th>\n",
       "      <td>Lorca, el teatro bajo la arena</td>\n",
       "      <td>https://www.alternativateatral.com//obra78212-...</td>\n",
       "      <td>/obra78212-lorca-el-teatro-bajo-la-arena</td>\n",
       "      <td>https://farsamag.com/obras/lorca-el-teatro-baj...</td>\n",
       "      <td>10</td>\n",
       "    </tr>\n",
       "    <tr>\n",
       "      <th>3</th>\n",
       "      <td>A Chorus Line</td>\n",
       "      <td>https://www.alternativateatral.com//obra63013-...</td>\n",
       "      <td>/obra64382-a-chorus-line, /obra63013-chorus-line</td>\n",
       "      <td>https://farsamag.com/obras/a-chorus-line/</td>\n",
       "      <td>1</td>\n",
       "    </tr>\n",
       "    <tr>\n",
       "      <th>4</th>\n",
       "      <td>Impalpable</td>\n",
       "      <td>https://www.alternativateatral.com//obra21551-...</td>\n",
       "      <td>/obra21551-impalpable, /obra9731-la-madre-impa...</td>\n",
       "      <td>https://farsamag.com/obras/impalpable/</td>\n",
       "      <td>5</td>\n",
       "    </tr>\n",
       "    <tr>\n",
       "      <th>...</th>\n",
       "      <td>...</td>\n",
       "      <td>...</td>\n",
       "      <td>...</td>\n",
       "      <td>...</td>\n",
       "      <td>...</td>\n",
       "    </tr>\n",
       "    <tr>\n",
       "      <th>289</th>\n",
       "      <td>Los abrazos huecos</td>\n",
       "      <td>https://www.alternativateatral.com//obra63208-...</td>\n",
       "      <td>/obra63208-los-abrazos-huecos</td>\n",
       "      <td>https://farsamag.com/obras/los-abrazos-huecos/</td>\n",
       "      <td>5</td>\n",
       "    </tr>\n",
       "    <tr>\n",
       "      <th>290</th>\n",
       "      <td>Actriz</td>\n",
       "      <td>NaN</td>\n",
       "      <td>/obra69780-actriz, /obra34269-actriz, /obra625...</td>\n",
       "      <td>https://farsamag.com/obras/actriz/</td>\n",
       "      <td>5</td>\n",
       "    </tr>\n",
       "    <tr>\n",
       "      <th>291</th>\n",
       "      <td>Forever Young</td>\n",
       "      <td>https://www.alternativateatral.com//obra24072-...</td>\n",
       "      <td>/obra24072-forever-young, /obra69181-forever-y...</td>\n",
       "      <td>https://farsamag.com/obras/forever-young/</td>\n",
       "      <td>10</td>\n",
       "    </tr>\n",
       "    <tr>\n",
       "      <th>292</th>\n",
       "      <td>Solo vine a ver el jardín</td>\n",
       "      <td>https://www.alternativateatral.com//obra59640-...</td>\n",
       "      <td>/obra59640-solo-vine-a-ver-el-jardin, /obra78-...</td>\n",
       "      <td>https://farsamag.com/obras/solo-vine-a-ver-el-...</td>\n",
       "      <td>1</td>\n",
       "    </tr>\n",
       "    <tr>\n",
       "      <th>293</th>\n",
       "      <td>Hidalgo</td>\n",
       "      <td>NaN</td>\n",
       "      <td>/obra52560-hidalgo, /obra43556-hidalgo, /obra6...</td>\n",
       "      <td>https://farsamag.com/obras/hidalgo/</td>\n",
       "      <td>1</td>\n",
       "    </tr>\n",
       "  </tbody>\n",
       "</table>\n",
       "<p>294 rows × 5 columns</p>\n",
       "</div>"
      ],
      "text/plain": [
       "                             nombre  \\\n",
       "0                            Gansos   \n",
       "1                     Las oceánicas   \n",
       "2    Lorca, el teatro bajo la arena   \n",
       "3                     A Chorus Line   \n",
       "4                        Impalpable   \n",
       "..                              ...   \n",
       "289              Los abrazos huecos   \n",
       "290                          Actriz   \n",
       "291                   Forever Young   \n",
       "292       Solo vine a ver el jardín   \n",
       "293                         Hidalgo   \n",
       "\n",
       "                                                 urlAT  \\\n",
       "0    https://www.alternativateatral.com//obra74685-...   \n",
       "1    https://www.alternativateatral.com//obra74192-...   \n",
       "2    https://www.alternativateatral.com//obra78212-...   \n",
       "3    https://www.alternativateatral.com//obra63013-...   \n",
       "4    https://www.alternativateatral.com//obra21551-...   \n",
       "..                                                 ...   \n",
       "289  https://www.alternativateatral.com//obra63208-...   \n",
       "290                                                NaN   \n",
       "291  https://www.alternativateatral.com//obra24072-...   \n",
       "292  https://www.alternativateatral.com//obra59640-...   \n",
       "293                                                NaN   \n",
       "\n",
       "                                             derivadas  \\\n",
       "0    /obra74685-gansos, /obra54414-los-gansos-grazn...   \n",
       "1                             /obra74192-las-oceanicas   \n",
       "2             /obra78212-lorca-el-teatro-bajo-la-arena   \n",
       "3     /obra64382-a-chorus-line, /obra63013-chorus-line   \n",
       "4    /obra21551-impalpable, /obra9731-la-madre-impa...   \n",
       "..                                                 ...   \n",
       "289                      /obra63208-los-abrazos-huecos   \n",
       "290  /obra69780-actriz, /obra34269-actriz, /obra625...   \n",
       "291  /obra24072-forever-young, /obra69181-forever-y...   \n",
       "292  /obra59640-solo-vine-a-ver-el-jardin, /obra78-...   \n",
       "293  /obra52560-hidalgo, /obra43556-hidalgo, /obra6...   \n",
       "\n",
       "                                                  urlF  categoríaF  \n",
       "0                   https://farsamag.com/obras/gansos/           1  \n",
       "1            https://farsamag.com/obras/las-oceanicas/           1  \n",
       "2    https://farsamag.com/obras/lorca-el-teatro-baj...          10  \n",
       "3            https://farsamag.com/obras/a-chorus-line/           1  \n",
       "4               https://farsamag.com/obras/impalpable/           5  \n",
       "..                                                 ...         ...  \n",
       "289     https://farsamag.com/obras/los-abrazos-huecos/           5  \n",
       "290                 https://farsamag.com/obras/actriz/           5  \n",
       "291          https://farsamag.com/obras/forever-young/          10  \n",
       "292  https://farsamag.com/obras/solo-vine-a-ver-el-...           1  \n",
       "293                https://farsamag.com/obras/hidalgo/           1  \n",
       "\n",
       "[294 rows x 5 columns]"
      ]
     },
     "execution_count": 42,
     "metadata": {},
     "output_type": "execute_result"
    }
   ],
   "source": [
    "df_x1 = pd.read_csv(\"data//df_x1.csv\")\n",
    "df_x1"
   ]
  },
  {
   "cell_type": "code",
   "execution_count": 51,
   "metadata": {},
   "outputs": [
    {
     "data": {
      "text/plain": [
       "['/obra68104-perdon-sutottos, /obra77325-el-perdon, /obra76296-perdonalos-opera, /obra71880-podes-perdonarla, /obra60223-perdonestamos-en-guerra, /obra66242-perdon-por-mi-humor, /obra68418-perdon-es-que-te-amo-vol-2, /obra68829-perdon-si-molestamos, /obra52728-la-empresa-siempre-perdona, /obra41635-de-la-naturaleza-lo-siento-perdoname-gracias-te-amo, /obra41680-aqqua-de-la-naturaleza-lo-siento-perdoname-gracias-te-amo, /obra36009-perdon-es-que-te-amo, /obra35447-perdoname-por-ayer, /obra34578-perdoname, /obra37395-amor-es-nunca-tener-que-pedir-perdon, /obra31054-perdon-flaco-y-los-colgados-del-bigote, /obra28732-perdona-bonita-pero-lucas-me-queria-a-mi, /obra29901-la-empresa-perdona-un-momento-de-locura, /obra22047-perdon-por-ser-tan-puta, /obra21556-perdoname-que-te-disculpe, /obra20539-robespierre-el-perdon-no-existe, /obra25046-perdonenla-si-habla-de-amor, /obra21527-la-empresa-perdona-un-momento-de-locura, /obra20519-la-empresa-perdona-un-momento-de-locura, /obra19665-me-ensenaste-a-sonreir-y-a-perdonar, /obra16662-pedime-perdon, /obra16946-le-pidio-perdon-al-padre, /obra9307-perdonalos-senor-no-saben-lo-que-hacen, /obra9330-impro-fest-perdonalos-senor-la-celebracion-de-lo-efimero, /obra5126-perdon-por-la-espera, /obra2240-perdonar-es-dibino-una-farza-inpresentavle, /obra3116-perdon-por-mi-arte, /obra1901-refugiados-o-pedir-perdon, /obra1146-de-nudos-y-perdones, /obra58515-perdon-por-mi-pasado, /obra56923-te-perdono-la-sopa, /obra51819-se-mata-o-se-perdona, /obra50305-perdoname-el-odio, /obra35361-perdon-laura, /obra61681-perdoname-senor-he-sido-mala-de-todo-me-arrepiento, /obra42382-mil-anos-de-perdon, /obra60484-mil-anos-de-perdon, /obra50023-mil-anos-de-perdon',\n",
       " '/obra61040-todo-lo-posible, /obra63245-todo-lo-posible-fiba, /obra53234-todo-lo-posible-sala-4, /obra79598-todos-los-mundos-posibles',\n",
       " '/obra59854-la-elegida, /obra71696-la-elegida, /obra71500-la-elegida-on-line, /obra70322-visita-tactil-de-la-/obra-la-elegida-de-paula-fanelli, /obra50634-akllasumaq-la-elegida-por-su-belleza',\n",
       " '/obra40017-nerium-park, /obra51580-nerium-park, /obra71614-teatro-online-nerium-park, /obra42376-nerium-park-se-encuentra-con-el-publico',\n",
       " '/obra76357-el-amo-del-mundo, /obra11731-el-amo-del-mundo, /obra42637-el-amo-del-mundo, /obra78236-evita-juguetes-de-amor-o-de-como-un-nino-es-el-poeta-del-mundo, /obra74462-con-todo-el-amor-del-mundo, /obra54554-el-amor-es-el-fin-del-mundo-sala-2, /obra6039-la-muerte-del-raton-mas-famoso-del-mundo, /obra75583-el-amor-es-el-fin-del-mundo',\n",
       " '/obra40466-las-de-barranco, /obra64809-las-de-barranco, /obra64707-las-de-barranco, /obra64353-las-de-barranco, /obra66281-las-de-barranco, /obra57477-las-de-barranco, /obra57711-las-de-barranco, /obra31009-las-de-barranco, /obra36517-las-de-barranco, /obra37692-las-de-barranco, /obra9876-las-de-barranco, /obra17338-las-de-barranco, /obra23284-las-de-barranco, /obra14708-las-de-barranco, /obra20497-las-de-barranco, /obra21837-las-de-barranco, /obra18022-las-de-barranco, /obra10849-las-de-barranco, /obra10550-las-de-barranco, /obra12388-las-de-barranco, /obra8729-las-de-barranco, /obra3907-las-de-barranco, /obra6256-las-de-barranco, /obra3664-las-de-barranco, /obra3342-las-de-barranco, /obra2298-las-de-barranco, /obra223-las-de-barranco, /obra45032-las-de-barranco, /obra44128-las-de-barranco, /obra62963-las-de-barranco, /obra63325-las-de-barranco, /obra10055-las-de-barranco, /obra45547-las-de-barranco, /obra45994-las-de-barranco, /obra75302-pretenciosas-ridiculas-las-de-barranco, /obra75446-pretenciosas-ridiculas-las-de-barranco-streaming, /obra72061-bombon-digital-coro-municipal-de-ninos-usted-esta-actuando-las-de-barranco-humo-programa-3, /obra45461-las-de-barranco-hoy, /obra20387-otra-vez-las-de-barranco, /obra2481-las-de-barranco-ahora, /obra39583-las-mujeres-de-barranco, /obra56467-las-del-barranco, /obra27778-las-del-barranco, /obra22880-las-de-barranco, /obra50595-las-de-barranco',\n",
       " '/obra63932-para-partir, /obra62331-lectura-de-poesia-para-ninos-de-a-partir-de-2-anos-libro-haikus-poesia-de-un-mundo-pequeno, /obra61596-musica-para-compartir-ii, /obra44870-amalia-echeverz-y-fabiana-de-marco-musica-para-compartir, /obra38478-musica-para-compartir',\n",
       " '/obra67031-la-enamorada, /obra1488-la-enamorada, /obra40910-la-enamorada-del-muro, /obra18570-la-enamorada-del-muro, /obra43712-la-enamorada-del-rey, /obra49174-la-discreta-enamorada, /obra25063-la-puta-enamorada, /obra42691-la-discreta-enamorada',\n",
       " '/obra79593-despojo-una-comedia-familiarmente-bipolar, /obra77995-una-familia-encantada, /obra78692-una-y-mil, /obra58576-militonti-una-competencia-epica, /obra77624-una-familia-tipo, /obra63957-una-familia-feliz, /obra73454-herederos-un-velatorio-online-y-una-familia-desconectada, /obra49934-lo-total-un-milagro-en-algunas-luces-y-sombras, /obra3648-los-albornoz-delicias-de-una-familia-argentina, /obra68778-ciclo-de-guitarras-sebastian-luna-y-emiliano-ferrer, /obra68057-pueblerinos-como-una-gran-familia, /obra59205-las-mil-y-una-noches, /obra58445-una-familia-especial, /obra50504-la-vida-es-una-milonga, /obra52297-los-besugo-una-familia-pirata, /obra48242-las-mil-y-una-noches-relatos-para-ver-el-sol, /obra50723-una-mirada-familiar, /obra21269-las-mil-y-una-noches-arabes, /obra36321-inverosimil-una-tragedia-mundana, /obra41042-las-mil-y-una-voces-del-humor, /obra42274-las-mil-y-una, /obra42185-las-mil-noches-y-una-noche, /obra41109-las-mil-y-unas-noches, /obra37137-una-ultima-milonga-antes-del-alba, /obra39322-muestra-maximiliano-luna, /obra29294-siameses-historia-de-una-familia-normal, /obra32438-una-familia-tipo, /obra28296-una-sonrisa-vale-mas-que-mil-palabras, /obra30471-una-sonrisa-vale-mas-que-mil-palabras, /obra30502-la-vida-es-una-milonga, /obra25020-psicologia-barata-para-una-familia-berreta, /obra25381-una-historia-llena-de-mil-fantasias, /obra25337-los-locos-addams-una-familia-muy-normal, /obra13342-pequena-historia-de-una-familia-fragmentada, /obra19765-relatos-eroticos-sobre-una-seleccion-de-las-mil-y-una-noches, /obra13188-una-familia-muy-especial, /obra10118-las-mil-y-una-noches, /obra13546-una-familia-dentro-de-la-nieve, /obra16064-las-mil-y-una-noches, /obra16523-proyecciones-krause-una-deconstruccion-familiar, /obra16181-las-mil-y-una-historias, /obra15259-una-familia-tipo, /obra15411-una-sombra-donde-suena-camila-o-gorman, /obra9498-una-familia-poco-normal, /obra9926-los-albornoz-delicias-de-una-familia-argentina, /obra8479-los-sobrevivientes-una-historia-familiar, /obra5402-los-albornoz-delicias-de-una-familia-argentina, /obra2371-mil-cuentos-para-una-noche, /obra2720-las-mil-y-una-noches-argentinas, /obra45411-las-mil-y-una-noches, /obra11849-las-mil-y-una-nachas, /obra50086-las-mil-y-una-nachas, /obra49790-las-mil-y-una-nachas, /obra10099-una-historia-casi-verosimil, /obra42939-las-mil-y-una-alegrias, /obra48226-una-novia-una-casa-y-cien-mil-pesos, /obra2595-bajorey-el-estado-de-una-y-mil-noches, /obra80462-orquesta-tipica-di-pasquale-milagros-caliva-y-noelia-sinkunas, /obra42377-una-visita-familiar',\n",
       " '/obra79624-las-dos-reinas, /obra77690-las-reinas, /obra26528-las-reinas-del-strip, /obra7978-el-rey-las-reinas-el-medico-y-ella',\n",
       " '/obra67171-los-miedos, /obra51721-miedo, /obra56051-miedo, /obra23405-miiedo, /obra56773-ensayo-sobre-el-miedo-distopia-grotesca-sobre-el-fin-del-mundo, /obra54382-cuiqui-el-mundo-de-los-miedos, /obra77698-los-miedos-de-anita, /obra79544-tanto-miedo-que-da-risa, /obra76599-cuando-el-miedo-se-transforma-en-silencios, /obra74431-un-dia-vi-el-miedo-alejarse-de-mi, /obra74723-la-reina-del-miedo, /obra76546-noviembre-los-miedos-sobre-la-mesa, /obra76856-la-historia-de-mis-miedos, /obra74874-canciones-para-no-tener-miedo-virtual, /obra74849-para-ser-valiente-hay-que-tener-miedo, /obra75300-pesadilla-popular-lo-normal-es-tener-miedo, /obra21309-chau-senor-miedo, /obra71262-chau-senor-miedo, /obra40492-miedos, /obra63788-con-este-miedo-al-futuro, /obra62818-bombon-vecinal-no-tengas-miedo-no-de-moro-anghileri, /obra35617-el-miedo-de-toda-mujer, /obra57434-los-engranajes-del-miedo, /obra60670-lucas-rosasco-amor-y-miedo, /obra41378-angeli-improvisa-que-da-miedo, /obra52281-jorge-el-miedoso, /obra52359-la-princesa-azulada-la-valiente-de-los-miedos, /obra36755-juan-sin-miedo, /obra36424-cuatro-noches-y-el-miedo-a-estar-solo, /obra41981-chau-sr-miedo, /obra40055-no-tengas-miedo, /obra42456-historia-del-miedo, /obra29335-todos-mis-miedos, /obra34838-miedos-privados-en-lugares-publicos, /obra37618-el-miedo-mas-profundo, /obra24025-canciones-para-no-tener-miedo, /obra27759-chau-senor-miedo, /obra33352-ninacocinamiedos, /obra39379-las-aventuras-de-juan-sin-miedo, /obra27791-el-olor-del-miedo, /obra28571-rebeca-y-la-sociedad-antimiedo, /obra27718-cuentos-para-disfrutar-con-miedo, /obra20852-el-miedo, /obra23730-del-miedo-y-sus-racimos, /obra24558-juan-sin-miedo, /obra24497-juanito-una-aventura-sin-miedo, /obra16039-el-miedo-en-tiempos-de-lluvia, /obra17544-chau-senor-miedo, /obra19004-quien-dijo-miedo, /obra20686-chau-sr-miedo, /obra21903-no-te-quiero-miedo, /obra22844-sir-castillo-del-miedo-evo, /obra15992-tengo-miedo-torero, /obra17388-juan-sin-miedo, /obra16267-todos-los-miedos, /obra17818-bu-nadie-tiene-miedo, /obra15706-me-rio-del-miedo, /obra14683-juan-sin-miedo, /obra35607-paulatina-aproximacion-a-un-teorema-dramatico-del-miedo, /obra52044-las-mujeres-me-dan-miedo, /obra58162-quien-dijo-miedo, /obra73052-el-miedo-de-la-rosa, /obra34692-tengo-miedo-de-la-noche, /obra42116-vivir-sin-miedo, /obra58161-quien-dijo-miedo, /obra65821-sin-dudas-sin-miedos-sin-tiempo, /obra52043-las-mujeres-me-dan-miedo, /obra29123-no-seas-mala-me-da-miedo, /obra30012-a-mi-chica-le-gustan-las-de-miedo, /obra16565-la-nina-que-queria-aprender-a-tener-miedo',\n",
       " '/obra74386-el-test, /obra56193-el-test, /obra65947-el-testigo, /obra56262-el-testigo, /obra23229-el-testamento-de-leonardo, /obra18738-el-testigo-le-temoin, /obra11995-el-testamento-del-sastre, /obra47198-el-testamento-olografico-o-la-herencia-del-tio, /obra72823-infancia-basura-testimonio-ii-el, /obra65439-el-sagrado-testamento, /obra31824-breve-apologia-del-caos-por-exceso-de-testosterona-en-las-calles-de-manhattan, /obra26643-test-arte-en-la-escuela, /obra22977-historia-del-llanto-un-testimonio, /obra17752-potestad-el-ultimo-verso, /obra13108-cita-del-cinematografo-greitest-jits, /obra12423-testigos-del-pasado, /obra2760-el-mismo-testigo, /obra48324-el-testigo-invisible-o-la-capilla-en-los-bosques, /obra72054-el-testamento-de-don-tomas, /obra51814-el-testamento-de-fausto, /obra9734-el-testamento, /obra50015-el-testamento-olografo, /obra48683-la-loca-o-el-testamento-de-una-inglesa',\n",
       " '/obra58795-los-rotos, /obra68129-los-rotos-flora-no-es-un-canto-a-la-vida, /obra78617-la-teoria-de-los-vidrios-rotos, /obra76572-el-boulevard-de-los-suenos-rotos-una-comedia-de-oficina, /obra73280-el-club-de-los-corazoncitos-rotos, /obra65516-con-los-huevos-rotos, /obra51858-bidegain-y-los-psicopatas-ambulantes-presentan-rocanrotos, /obra41047-bidegain-y-los-psicopatas-ambulantes-presentan-rocanrotos, /obra52491-todo-y-nada-fragmentos-rotos-de-amor-y-un-sueno-espantoso-o-los-restos-de-tito-andronico, /obra26267-la-cena-de-los-crotos, /obra23457-a-donde-van-los-corazones-rotos, /obra18057-la-laguna-de-los-platos-rotos, /obra13035-los-espejos-rotos, /obra68127-los-rotos-de-carla-finco',\n",
       " '/obra77136-rota, /obra80094-el-manifiesto-de-las-alas-rotas, /obra79590-trotamundos-y-a-sonar, /obra33830-brotara, /obra73025-la-protagonista, /obra76247-canciones-que-brotan-vol-iii, /obra76245-canciones-que-brotan-vol-ii, /obra76244-canciones-que-brotan-vol-i, /obra76249-canciones-que-brotan-vol-v, /obra76248-canciones-que-brotan-vol-iv, /obra42584-crack-una-rota-comedia-de-amor, /obra71246-derrotas-cadenas-duo-el-balcon, /obra71424-lalo-rotaveria-lee-nestor-perlongher, /obra72261-los-cuatro-dias-de-lorca-leida-por-su-autor-y-protagonista, /obra66013-rotando-stand-up, /obra66555-trotamundos-la-aventura, /obra64210-protagonista, /obra66905-mujer-rota, /obra63795-mujeres-rotas, /obra68342-crack-una-comedia-rota-de-amor, /obra64962-victoria-birchner-brotar, /obra68527-ciclo-de-charlas-los-espectadores-como-protagonistas-en-el-campo-teatral-de-la-ciudad-de-buenos-aires-a-cargo-de-jorge-dubatti, /obra62881-vidriera-me-entusiasme-con-la-referencia-de-lalo-rotaveria, /obra56587-rotativo-de-stand-up-del-galpon, /obra57157-derrotas-cadenas-presentan-huid-mortales, /obra60803-quatrotango, /obra58191-personas-rotas, /obra56357-que-paso-con-lorena-rottatore-sala-6, /obra58963-el-tango-pide-pista-3-quatrotango-ensamble, /obra62496-volver-a-mi-una-charla-intima-con-la-autora-de-rota-se-camina-igual-lorena-pronsky, /obra58811-botis-cromatico-dolores-aguirre-y-julia-ortiz-de-perota-chingo, /obra41767-muneca-rota-policial-sinfonico, /obra45709-la-fiesta-rota-o-la-patria-deshuesada, /obra53634-protagonistas, /obra47382-trotar-pastar-y-dormir, /obra48170-derrotas-cadenas-huid-mortales, /obra50186-la-grotta-di-trofonio, /obra50354-medea-rota, /obra51574-escenas-de-una-fiesta-rota, /obra53780-emilia-envidia-minga-protagonistas, /obra32013-mujer-rota, /obra42718-el-rotativo-porteno, /obra40648-el-protagonista, /obra44085-princesas-rotas, /obra41695-lucila-laske-protangonista, /obra43574-el-hombre-de-la-nariz-rota, /obra40058-la-ausencia-del-dr-stockmann-una-conspiracion-sin-protagonista, /obra31321-trotamundos-y-a-sonar, /obra35061-rota-experiencia-performatica, /obra36904-derrotas-cadenas, /obra34491-el-rotativo-stand-up, /obra34772-casa-rota, /obra35293-flores-rotas, /obra38623-munequita-rota, /obra38560-daucus-carota-subespecie-sativus, /obra37530-soy-solo-derrotas-nunca-la-muerte-de-un-nandu-sono-tan-hermosa, /obra35982-el-pasajero-de-las-flores-rotas, /obra32509-gabinete-ba-ciclo-de-/obras-invitadas-rotativa, /obra29271-de-rotas-cadenas, /obra27829-arisas-stand-up-rotativo, /obra36215-ruido-de-rotas-cadenas, /obra45918-caperucita-rota, /obra44721-un-sudor-que-brota-despacio, /obra78565-garota-paladini, /obra71284-el-protagonista-ante-el-espejo, /obra54453-bancarrota, /obra52098-la-lanza-rota, /obra51520-con-las-alas-rotas, /obra41888-teatro-de-titeres-trotacaminos, /obra73853-ya-no-hay-como-salvar-la-porcelana-rota',\n",
       " '/obra37160-artaud, /obra79631-artaud-sesion-teatral, /obra470-artaud, /obra73730-arder-artaud-documental, /obra38609-artaud-1-lengua-madre, /obra27008-antonin-artaud, /obra15539-el-secreto-artaud, /obra6737-artaud-totem, /obra2151-artaud-erinnert-sich-an-hitler-und-das-romanische-cafe, /obra52397-quienes-son-artaud, /obra52314-para-cenar-artaud, /obra45840-artaud-66, /obra67451-parlantes-holofonicos-pescado-rabioso-artaud',\n",
       " '/obra74072-ping-pong, /obra59855-ping-pong, /obra48945-ping-pong, /obra62845-zapping-la-trup-zaping-pong, /obra70420-ping-pong-clown, /obra35481-el-robot-ping-pong, /obra33869-pong-ping, /obra26373-pong-ping, /obra10312-pingpong-fuera, /obra44674-el-pingpong',\n",
       " '/obra49217-la-savia, /obra73478-savia-sobre-la-mesa, /obra73484-savia-sobre-la-mesa-emergente, /obra76253-la-tango-en-savia, /obra61863-yo-ya-lo-sabia-sala-5, /obra63629-las-mujeres-sabias, /obra53781-yolanda-borra-todo-lo-que-dije-del-amor-porque-no-sabia-bien-quien-era, /obra39334-como-sabias-que-ese-libro-me-lo-regalo-mi-abuela, /obra22635-usted-sabia-que-mattaclark-esta-muerto, /obra13702-papa-derrama-sabias-palabras, /obra12601-la-reina-que-no-sabia-sumar, /obra9945-las-mujeres-sabias, /obra46973-las-mujeres-sabias, /obra10048-las-mujeres-sabias',\n",
       " '/obra54145-esa-nina, /obra61498-estan-lloviendo-hombres-esa-nina, /obra74282-esas-voces-femeninas, /obra34863-la-nina-el-diablo-y-la-princesa, /obra38076-esa-nina',\n",
       " '/obra80453-optimista-inestable, /obra72683-que-ordenador-el-bahiut, /obra2123-inestable, /obra37430-inestable-sutottos, /obra63141-tablao-inestable, /obra74339-l-aniversari-teatro-de-lo-inestable, /obra67940-los-inestables-de-siempre, /obra56509-inestables, /obra62242-inestable-realidad, /obra61477-inestable-pire-saint-quentin, /obra62878-fiesta-fin-de-ano-del-refugio-tocan-inestable-capuccino-billy-lampazo-blues, /obra40355-poeticas-inestables, /obra37005-la-orquesta-inestable-presenta-bambalinas, /obra32891-orquesta-inestable, /obra24298-elenco-inestable-stand-up, /obra27992-consorcio-inestable',\n",
       " '/obra56873-las-amargas-lagrimas-de-petra-von-kant, /obra65802-las-amargas-lagrimas-de-petra-von-kant, /obra55108-las-amargas-lagrimas-de-petra-von-kant, /obra14229-las-amargas-lagrimas-de-petra-von-kant, /obra3475-las-amargas-lagrimas-de-petra-von-kant',\n",
       " '/obra59917-juicio-a-una-zorra, /obra37868-juicio-a-una-zorra, /obra67643-festival-teatroxlaidentidad-juicio-a-una-zorra, /obra59916-work-in-progress-juicio-a-una-zorra',\n",
       " '/obra79831-el-nino-pez-y-el-sueno-de-negras-alas, /obra77297-negra-chagra-el-tierral-la-casimiro-brass, /obra78855-yo-negra, /obra78072-flores-negras-presenta-maldito-tango, /obra78534-jirones-de-una-estrella-negra, /obra77815-canciones-del-fin-del-mundo-negra-chagra-y-claudia-tomas, /obra77693-jacara-para-un-picaro-o-la-espana-negra, /obra74117-negracha-entre-empanadas-y-vino, /obra76425-mi-negra-modelo, /obra74935-la-caja-negra-argentina-amigometro, /obra75479-la-helada-negra, /obra76287-pena-el-patio-de-la-negra, /obra61391-bestia-negra, /obra67652-selva-negra, /obra70782-luz-negra, /obra72930-hojas-negras, /obra72760-cocarda-negra, /obra70196-la-mano-negra, /obra72399-la-caja-negra-argentina-covinculos, /obra72122-la-caja-negra-argentina-historias-para-viajar, /obra51080-noelia-moncada-encanto-negra, /obra59800-no-es-pais-para-negras-ii, /obra67020-3-negras-absurdas, /obra68333-noche-negra-/obras-cortas-del-negro-fontanarrosa, /obra65453-ovejas-negras, /obra70628-lengua-negra, /obra67559-la-caja-negra-argentina-ay-amor, /obra65825-la-caja-negra, /obra68331-simon-boccanegra, /obra65080-compania-oveja-negra-presenta-escrito-en-el-cuerpo, /obra52857-isla-negra, /obra63685-negra-negra-negra-soy, /obra62214-la-negra-chagra, /obra58976-refugio-mestizo-negra-santa-sisa-reggae-la-fogonera, /obra57964-virgen-de-manos-negras, /obra60088-conoce-la-musica-negra-directamente-desde-nyc-solo-una-noche, /obra57192-cantos-de-mi-tierra-negra, /obra61016-noelia-moncada-encanto-negra-y-tangos-encantados, /obra53657-las-negras, /obra54201-narices-negras, /obra53057-cristal-tinta-negra, /obra49611-la-organizacion-negra-ejercicio-documental, /obra47835-opus-cuatro-y-pimienta-negra, /obra50325-el-caso-del-hombre-de-la-valija-negra, /obra70869-simon-boccanegra, /obra70946-el-gato-de-amarilla-whisky-vodka-y-perfume-de-rosas-negras, /obra65151-historieta-negra, /obra70645-misa-negra, /obra63677-la-rosa-negra, /obra65060-luz-negra, /obra56540-farsa-cruel-y-bastante-negra-del-senor-lazaro-y-su-suerte-perra, /obra53417-comedia-negra, /obra51980-simon-bocanegra, /obra47634-romance-de-la-nina-negra, /obra48118-el-sueno-en-la-capilla-de-glesstorn-o-lafantasma-de-la-roca-negra, /obra49028-bandera-negra, /obra48969-cristiano-o-las-mascaras-negras, /obra48336-la-negra-zinda, /obra70781-luz-negra, /obra50106-tinta-negra, /obra67788-tinta-negra, /obra50776-la-mano-negra, /obra50300-andante-negra-en-104, /obra72739-lagrimas-negras-para-mima, /obra59988-la-linea-negra, /obra55905-la-hormiga-negra, /obra62997-lilith-luna-negra, /obra77459-las-lagrimas-negras-de-santita-monjardin, /obra57172-el-romance-de-la-negra-rubia, /obra48140-el-conde-geraldo-el-proscripto-o-el-hombre-de-la-selva-negra',\n",
       " '/obra64648-edipo-rey, /obra52948-edipo-rey, /obra31718-edipo-rey, /obra29496-edipo-rey, /obra20735-edipo-rey, /obra4684-edipo-rey, /obra11488-edipo-rey, /obra12114-edipo-rey, /obra44070-edipo-rey, /obra43831-edipo-rey, /obra46795-edipo-rey, /obra46567-edipo-rey, /obra70336-jose-abadi-intimo-habia-una-vez-edipo-rey, /obra65189-ediporey-trap-twitter-y-posverdad, /obra2050-edipo-rey-de-hungria',\n",
       " '/obra76202-los-secretos, /obra79202-hugo-lescano-el-detector-de-mentiras-los-secretos-del-lenguaje-corporal, /obra66610-los-secretos-de-la-abuela-gertrudis, /obra38587-claudio-y-caligula-los-secretos-del-fuego, /obra51272-los-secretos-de-la-abuela, /obra54997-la-tirania-de-los-secretos, /obra36706-los-secretos-de-scherezade, /obra30385-los-secretos-de-afrodita, /obra30276-el-cofre-de-los-secretos, /obra18210-los-secretos-de-la-casa, /obra13662-todos-los-secretos, /obra45687-los-oscuros-secretos',\n",
       " '/obra80279-compania, /obra79771-companias-populares-argentinas, /obra76335-compania, /obra78185-compania, /obra75155-compania, /obra68485-compania, /obra64698-compania, /obra56378-compania, /obra51765-compania, /obra78954-compania-artistica-clasica-del-sur-ciclo-contemporanexs, /obra79654-compania-galalirica-show-presenta-te-lirico-a-la-carta, /obra79444-la-popular-compania-de-danzas-presenta-amba-area-multipopular-por-bailarines-argentos, /obra77774-el-peligro-de-las-buenas-companias, /obra76409-compania-de-danza-de-las-trincheras, /obra74063-compania-poco-punk-presenta-un-bosque-al-reves-ft-chipa-chipa, /obra76034-compania-de-opera-alma-viva-presenta-opera-don-pasquale, /obra65057-quebochinche-compania-teatral-la-patrulla-italiana, /obra70803-companias-populares-argentinas-marzo, /obra71023-flamenco-compania, /obra70146-concierto-viii-compania-oblicua, /obra71233-5-aniversario-de-la-compania-teatral-siete-colores-diversidad, /obra73472-muestra-de-teatro-musical-compania-bicicleta-musical, /obra46478-compania-de-tango-de-la-una, /obra52683-la-margarita-compania-golondrinas-de-yeso, /obra59782-compania-prisma-visto-bueno, /obra58849-paseo-para-titeres-y-orquesta-cuarteto-polok-y-compania-pole-pole, /obra69438-companias-populares-argentinasviernes-2911, /obra63969-companias-populares-argentinas, /obra68288-compania-de-danza-de-las-trincheras-presenta-migajas, /obra67418-companias-populares-argentinas-septiembre, /obra66893-companias-populares-argentinas, /obra65452-companias-populares-argentinas, /obra65080-compania-oveja-negra-presenta-escrito-en-el-cuerpo, /obra69058-companias-populares-argentinas-noviembre, /obra71484-samsara-compania-indance, /obra66914-perez-y-compania, /obra64744-ciclo-teatro-breve-compania-simiento, /obra69583-final-contemporaneo-compania-universitaria-de-danza-unsam-compania-de-danza-de-la-una, /obra68295-ballet-folklorico-y-compania-de-tango-de-la-una, /obra63896-lorena-astudillo-en-compania, /obra63584-the-shakesperean-tour-de-la-compania-parafernalia-teatro, /obra51142-akasha-compania-indance, /obra60185-compania-danza-argentina-opera-prima, /obra63039-compania-nacional-de-danza-contemporanea, /obra61364-compania-nacional-de-danza-contemporanea, /obra61362-compania-de-tango-folklore-de-la-universidad-nacional-de-arte-una, /obra58262-raza-compania-de-danza-presenta-pop, /obra60983-ego-compania-absoluto, /obra57870-vivencias-en-compania, /obra62744-gala-de-ballet-2018-de-la-compania-ferrazzano, /obra60034-la-cena-de-los-espectros-cautivos-por-compania-revolt, /obra61363-gala-semda-propuestas-breves-de-distintos-grupos-y-companias, /obra61499-cautivos-callejones-sobre-poemas-de-lovecraft-por-compania-revolt, /obra44764-afo-compania-coral-del-mundo, /obra53686-compania-coroteatral, /obra51397-compania-de-danza-de-la-una-unanochedebaile, /obra54410-compania-cuarto-intermedio-sinfonia-para-un-sueno-fall-o-la-aproximacion-de-caer, /obra51012-compania-cuarto-intermedio-boceto-de-carmina-de-la-torre-aire-de-facundo-bustamante, /obra51899-compania-cuarto-intermedio-ciclo-1-danza-fecha-15-de-julio, /obra51892-compania-cuarto-intermedio-ciclo-1-danza-fecha-8-de-julio, /obra50108-tres-360-compania-360, /obra54119-grupo-alma-compania-de-danza-integradora-festeja-sus-20-anos-dejando-huellas, /obra41964-hurgo-compania-de-escuela-presenta-las-que-van-nocturna, /obra42419-pablo-basez-la-compania-electrica, /obra63842-la-compania-del-circo-magico, /obra61897-gran-compania-de-comedias-musicales-jenny-lovitz, /obra47582-compania-de-mimo-lemir, /obra62378-dulce-compania, /obra75243-abismal-compania-de-teatro-experimento-pierrot-cl, /obra71514-el-padre-el-hijo-y-compania',\n",
       " '/obra37360-las-ideas, /obra57038-aca-mueren-las-ideas, /obra62500-marcha-cuando-las-ideas-no-se-matan, /obra67843-la-musica-de-las-ideas, /obra21865-en-el-salon-de-las-ideas-abriendo-ventanas, /obra18695-a-poner-en-orden-las-ideas, /obra6716-del-color-de-las-orquideas-thriller-navideno',\n",
       " '/obra42975-la-rabia, /obra47466-la-valentina-rancho-ska-skalapepa-la-rabia, /obra8301-vuelve-la-rabia, /obra77796-filomena-y-timotea-narraviajeras-de-la-fantasia-una-/obra-en-lengua-de-senas-argentina-y-audio-en-simultaneo, /obra71332-la-traviata, /obra64530-la-traviata, /obra64455-la-traviata, /obra67623-la-traviata, /obra65874-la-traviata-verdi, /obra65795-la-traviata, /obra62707-the-met-hd-en-vivo-la-traviata, /obra49075-la-traviata-met-live-hd-metropolitan-opera-de-nueva-york-diferido, /obra53518-la-traviata, /obra51869-ciclo-de-opera-la-traviata, /obra51016-la-traviata, /obra38538-bravias-un-shakespeare-para-mujeres-solas-con-mascota, /obra41425-la-traviata, /obra27486-la-extraviada, /obra35964-la-traviata, /obra35505-la-traviata-alternativa, /obra28203-la-traviata, /obra30397-la-traviata, /obra30145-don-quijote-la-traviata, /obra15926-la-traviata, /obra15263-la-traviata, /obra15109-la-traviata, /obra15419-la-traviata, /obra6287-la-noche-de-los-extraviados, /obra8987-la-traviata, /obra7928-la-traviata-y-madama-butterfly, /obra6122-la-traviata, /obra72214-la-traviata, /obra55377-la-traviata, /obra51977-la-traviata, /obra52707-la-rabia, /obra78426-la-rabia, /obra49253-la-traviata',\n",
       " '/obra77605-teodoro-y-el-robot-sin-nombre, /obra53328-el-nombre, /obra78965-el-nombre, /obra76133-el-nombre, /obra56898-el-nombre, /obra60204-el-nombre, /obra36400-el-nombre, /obra31063-el-nombre, /obra17694-el-nombre, /obra17931-el-nombre, /obra12681-el-nombre, /obra5299-el-nombre, /obra4561-el-nombre, /obra427-el-nombre, /obra52024-en-el-nombre-de-maria, /obra78469-del-nombre-de-los-sentimientos, /obra70078-por-el-nombre-del-padre, /obra64790-nn-el-nombre-justo-que-me-reserva-la-ciencia, /obra63530-distrito-xvii-paris-el-nombre, /obra59462-gambaro-mas-gambaro-el-nombre-acuerdo-para-cambiar-de-casa, /obra42621-el-nombre-de-la-luna, /obra53940-el-nombre-del-error-sala-2, /obra45858-el-nombre-del-mundo-es-noche, /obra42513-no-diras-el-nombre-del-sr-perez-en-vano, /obra34670-en-el-nombre-de-juana, /obra35003-vos-sabes-que-el-nombre, /obra31381-del-nombre-de-los-sentimientos, /obra24491-el-nombre-de-maria-sol, /obra23070-el-nombre-del-olvido, /obra22986-en-el-nombre-de-raquel, /obra28235-el-nombre-de-las-cosas, /obra22833-lo-que-se-cifra-en-el-nombre, /obra18957-tribunales-en-el-nombre-del-pueblo, /obra9823-todos-los-miedos-no-tomaras-el-nombre-de-dios-en-vano, /obra6101-el-nombre-otros-tangos-2, /obra6015-en-el-nombre-de-mi-sangre, /obra1610-en-el-nombre-del-nombre, /obra77418-esos-nombres-tan-mal-puestos-el-dragon-y-la-mariposa, /obra72250-en-nombre-del-arte, /obra73498-el-hombre-sin-nombre, /obra61905-lectura-de-cuentos-para-ninos-adolescentes-y-adultos-nombre-del-libro-13-relatos-contra-el-bullying-ciberbullying-y-mobbing-e-ideas-concretas-para-combatirlos, /obra32595-las-cosas-por-su-nombre-la-venganza-del-negro, /obra19335-amanda-o-el-vicio-de-los-sin-nombre, /obra25800-el-que-borra-los-nombres, /obra22339-el-que-borra-los-nombres, /obra13801-mi-nombre-es-rachel-corrie, /obra9661-el-que-borra-los-nombres, /obra381-el-que-borra-los-nombres, /obra16444-el-nombre, /obra23658-el-nombre, /obra21066-el-nombre, /obra34103-el-nombre, /obra65093-el-nombre-del-mono, /obra43903-vos-sabes-que-el-nombre-escena, /obra19480-gran-nariz-y-el-rey-de-los-seiscientos-nombres, /obra54486-el-hombre-que-perdio-su-nombre, /obra11843-el-que-borra-los-nombres, /obra74641-el-secreto-de-tu-nombre',\n",
       " '/obra76295-rasgo-personal, /obra74592-dimensiones-el-unipersonal, /obra80178-personas-que-se-encuentran-en-lugares, /obra78865-tomas-sarquis-unipersonal, /obra80187-sebastian-emilio-lucia-diario-personal-sin-palabras, /obra25509-la-mujer-puerca, /obra25225-i-love-stand-up-stand-up-show, /obra20454-bastarda-sin-nombre, /obra28963-potestad, /obra41658-hijo-del-campo, /obra12047-dona-rosita-la-soltera-o-el-lenguaje-de-las-flores, /obra59449-cafe-chaman, /obra74934-lacrima-rapsodia-para-un-infante, /obra70530-una, /obra70118-algo-de-ricardo, /obra69903-tiapatria, /obra65478-gertrudis, /obra65272-kabaret-elektro-pank, /obra74553-todo-por-ver-el-mar, /obra73924-inmaculada-concepcion-una-mujer-italiana, /obra78816-peroncho-en-vivo, /obra75828-julius, /obra75314-martin-cirio-el-mundo-de-la-faraona, /obra76500-entre-nosotros-humor-consentido, /obra76453-idem-non-sum-idem, /obra77827-la-descamisada-evita-y-vos-frente-a-frente, /obra80157-el-bien, /obra80054-felicitas-o-las-ninas-mudas, /obra80031-moribundos, /obra79925-juanas-de-fuego, /obra79840-malambo, /obra80453-optimista-inestable, /obra78843-santiago-lo-que-puedo, /obra80385-todo-lo-que-tengo-que-hacer-para-estar-aca, /obra78772-como-te-digo-una-cosa-te-digo-la-otra, /obra78721-morir-en-carne-viva, /obra74014-el-unipersonal-de-luciano-mellera, /obra74297-carne-de-consumo-personal, /obra77400-personas-haciendo-cosas, /obra78985-lea-pannunzio-unipersonal, /obra78782-pablo-picotto-stand-up-y-personajes, /obra79364-fuera-de-foco-producciones-personales, /obra69203-seis-personajes-en-busca-de-autor, /obra75117-personaje, /obra76785-persona-sola, /obra76597-unipersonales-por-nacer-eli-trimarchi, /obra76044-unipersonales-por-nacer-stand-up-nadia-chiaramoni, /obra76699-unipersonales-demostracion-escuela-de-la-zancada, /obra76320-andando-unipersonal-viajero-de-clown, /obra75246-ciclo-de-unipersonales-vol-iv-el-bondi-creaciones, /obra76843-dicese-de-la-persona-cuyo-conyuge-ha-muerto, /obra76763-deshojado-unipersonal-de-un-actor-ciego, /obra72819-facfolc-un-manto-de-neblina-unipersonal-en-streaming, /obra72412-persona-libro, /obra72610-personal-trainer, /obra73121-interpersonal, /obra72726-ciclo-de-unipersonales-vol-iii-el-bondi-creaciones-funcion-2-2609, /obra72725-ciclo-de-unipersonales-vol-iii-el-bondi-creaciones-funcion-3-310, /obra72724-ciclo-de-unipersonales-vol-iii-el-bondi-creaciones-funcion-1-1909, /obra73438-dicese-de-una-persona-cuyo-conyuge-ha-muerto, /obra72824-quebrada-el-unipersonal-poetico-de-vir-sammartino, /obra71953-ciclo-tu-fuente-personal, /obra70611-fernando-ramirez-uno-y-personal, /obra70662-no-sos-vos-soy-yo-unimediopersonal, /obra68044-unipersonal-e-intransferible, /obra69342-de-visita-lara-ricote-un-unipersonal, /obra72000-una-busqueda-personal-sobre-la-decada-del-80, /obra72651-razones-personales, /obra71316-la-buena-persona-de-sechuan, /obra68783-la-mirada-o-el-rio-al-que-las-personas-se-arrojan-a-un-pozo',\n",
       " '/obra58639-la-respiracion, /obra76214-quitame-la-respiracion, /obra71466-teatro-online-la-respiracion, /obra14058-la-respiracion-del-vacio-trash',\n",
       " '/obra68084-turba, /obra77737-perturbados, /obra65179-turba-laura-sbdar-espacio-aforo, /obra33098-turbados-que-nunca, /obra14840-perturbados-entre-lilas, /obra6501-perturbaciones, /obra42109-turbamento, /obra57821-disturbanismo-y-anartismo',\n",
       " '/obra75314-martin-cirio-el-mundo-de-la-faraona, /obra40840-farra, /obra66859-la-fachalfarra, /obra77807-farra-el-ritual-de-la-risa, /obra79065-chuka-hurtado-mili-maine-y-mila-farras, /obra76604-farah-xvii-muestra-anual-de-alumnas, /obra66374-la-faraona, /obra67257-el-show-de-la-faraona, /obra65434-duo-lerner-moguilevsky-klezfarad, /obra70012-micro-teatro-zafarrancho-de-humor-y-esas-cosas, /obra40120-bufarra-carne-a-la-parrilla, /obra65507-la-gran-farandula, /obra69638-el-show-de-la-faraona-especial-fin-de-ana, /obra63350-lerner-moguilevsky-klezfarad, /obra68351-ciclo-todo-concuerda-teagan-faran-bruno-dambrosio-canciones-de-nuestro-pueblo, /obra63384-lecturas-a-cielo-abierto-i-acevedo-ariel-farace-jacqueline-golbert-iosi-havilio, /obra58172-ciclo-montana-rusa-lernermoguilevsky-duo-klezsfarad, /obra52580-la-faraona-coleccion-2017-alta-costura-en-trajes-de-danzas, /obra52055-hay-farra-en-la-kermesse, /obra49528-la-corte-de-faraon, /obra40116-payafufara, /obra39767-el-butifarra, /obra21545-lejos-lontano-faraway, /obra26409-ramses-ii-faraon-de-faraones, /obra23850-la-corte-del-faraon, /obra112-el-variete-del-farabute, /obra13815-comedy-bar-del-farabute, /obra21401-magia-y-humor-en-el-farabute, /obra12652-coplas-zarzuelas-y-la-corte-del-faraon, /obra2844-la-corte-de-faraon, /obra49897-hoy-la-corte-de-faraon-hoy, /obra65327-la-corte-de-faraon, /obra56805-la-corte-del-faraon, /obra58823-buti-farras-en-el-maipo, /obra58695-los-reyes-de-la-farandula, /obra60279-la-farandula-en-villa-lechuga, /obra47962-la-farandula-de-villa-lechuga, /obra69437-cuando-un-padre-va-de-farra, /obra47210-farras-carnavalescas, /obra3077-desde-la-reices-sefaradies-a-los-folclores-del-mundo, /obra3111-desde-las-raices-sefaradies-los-folclores-del-mundo, /obra70230-banda-caminantes-zafarrancho',\n",
       " '/obra51040-proximo, /obra71612-teatro-online-proximo, /obra72900-el-futuro-cercano-desafios-de-los-proximos-6-meses, /obra60795-el-proximo-verano, /obra66624-mi-proximo-ex, /obra65275-el-proximo-domingo, /obra32660-teatro-proximo, /obra32676-todos-los-jueves-hasta-el-proximo-jueves, /obra21513-el-proximo-domingo, /obra15168-el-proximo-domingo, /obra12064-alguien-proximo, /obra468-el-proximo-minuto, /obra70934-hasta-el-proximo-verano, /obra11775-seis-propuestas-para-el-proximo-milenio',\n",
       " '/obra67171-los-miedos, /obra54382-cuiqui-el-mundo-de-los-miedos, /obra77698-los-miedos-de-anita, /obra76546-noviembre-los-miedos-sobre-la-mesa, /obra52359-la-princesa-azulada-la-valiente-de-los-miedos, /obra16267-todos-los-miedos, /obra9823-todos-los-miedos-no-tomaras-el-nombre-de-dios-en-vano',\n",
       " '/obra48490-la-terquedad, /obra75062-la-terquedad-de-las-cucarachas, /obra48985-la-terquedad-de-las-cucarachas, /obra41410-piedra-mojada-o-la-terquedad',\n",
       " '/obra66024-karamazov, /obra25033-karamazov, /obra59434-los-hermanos-karamazov, /obra8375-karamazov',\n",
       " '/obra59570-petroleo, /obra59606-petroleo, /obra18724-petroleo, /obra41504-los-grandes-exitos-de-yaco-ruben-y-las-trillizas-de-petroleo, /obra21432-azul-petroleo, /obra44709-el-cuento-del-petroleo, /obra44715-buscando-raices-buscando-petroleo, /obra52541-chorros-de-petroleo, /obra71278-chorros-de-petroleo',\n",
       " '/obra79789-el-mecanismo-de-alaska, /obra75405-la-meca, /obra54244-la-mecanica-de-la-carne, /obra14108-la-mecanica-del-sol, /obra14651-105-pasos-o-la-mecanica-de-la-carne, /obra2223-el-camino-a-la-meca, /obra74698-la-naranja-mecanica-el-musical, /obra70714-molly-mecanica-singular, /obra62944-la-naranja-mecanica, /obra57563-mecanocracias-ciclo-escenico-autorregulado, /obra40204-tiper-tap-mecanografas-tituladas, /obra30985-la-mandarina-mecanica, /obra32408-la-palabra-mecanica-parte-i-think-big, /obra24710-mecanismos-de-erosion-para-la-tempestad-de-shakespeare, /obra13846-lazo-mecanico-familiar, /obra7670-la-comedia-mecanica, /obra9138-la-cuna-mecanica, /obra3285-lazo-mecanico-familiar, /obra50701-la-banana-mecanica',\n",
       " '/obra58470-lo-salvaje, /obra59319-la-plaza-de-los-ponys-salvajes-miniatura-teatral-hecha-con-poesia, /obra60169-lucio-mantel-ciclo-raiz-salvaje, /obra48800-la-noche-de-los-corazones-salvajes, /obra51703-los-salvajes, /obra66874-solo-el-ganso-salvaje',\n",
       " '/obra80294-toch-en-el-galpon-de-haedo, /obra76872-estocolmo-mon-amour, /obra76124-fantoche-herido, /obra78167-todavia-cantamos-y-tocamos, /obra77153-con-un-toque-de-rubor, /obra79597-irupe-la-nina-que-queria-tocar-la-luna, /obra78658-estocolmo, /obra67441-tina-modotti-a-mi-patria-te-llevo-para-que-no-te-toquen, /obra72940-se-largo-y-metimos-la-fiesta-dentro-no-toques-timbre-porque-no-funciona, /obra76642-emiliana-piccini-toca-inventario-en-vivo, /obra76018-la-orquesta-tipica-de-rojo-tango-toca-en-cafe-de-los-angelitos, /obra75687-reflejos-en-el-tocador, /obra75671-trio-spatocco-canepa-furio, /obra74508-son-pololos-vedette-motochorras, /obra74044-toque-de-quena, /obra76411-cooky-galleta-con-un-show-super-copado-superprotocolado, /obra76242-los-intocables-show-en-vivo, /obra60426-protocolo-cabrera, /obra56932-toque-de-queda, /obra66768-tokio-leva, /obra66294-desenchufados-teatro-al-toque, /obra71578-festivalito-lala-y-el-toque-toque, /obra71473-hector-romero-toca-en-vivo-en-facebook, /obra73109-el-dia-que-me-enamore-de-morir-protocolo-de-espera-en-el-segundo-piso, /obra73108-protocole-de-la-sororite, /obra73104-protocolo-arreit, /obra73702-todo-lo-que-toco-se-convierte-en-basura, /obra72803-con-toque-de-diva, /obra57991-tocando-al-frente, /obra57508-estocolmo, /obra61934-un-toque-de-conventillo, /obra67368-tuncha-toki, /obra67176-tokio, /obra66899-ciclo-todo-concuerda-manu-quiroga-toca-tchaikovsky, /obra70266-fidela-farsa-de-los-fantoches-liberados, /obra69617-el-toque-griego, /obra64093-mesmo-sem-te-tocar-incluso-sin-tocarte, /obra63729-laughing-stock, /obra63014-ciclo-de-pianistas-luis-gurevich-cuarteto-sindrome-de-estocolmo, /obra69443-motochorras-tv-show, /obra69289-improntus-toki-batuque-78, /obra68553-pablo-fernandez-letocs, /obra68143-trastocados-conurbano, /obra71650-mitocondrias, /obra62878-fiesta-fin-de-ano-del-refugio-tocan-inestable-capuccino-billy-lampazo-blues, /obra60326-las-cosas-que-no-se-tocan, /obra60175-jorge-nasser-llegar-armar-tocar, /obra58898-cine-rock-woodstock, /obra58874-raffo-cuatro-toques-para-anticipar-al-5, /obra58758-cine-rock-woodstock-let-it-be, /obra58570-lala-y-el-toque-toque, /obra61605-daniel-tocchini, /obra61473-centro-comunitario-kadima-presenta-a-la-cia-makumba-en-tocados-pro-fondo-bekeff, /obra61322-tangos-que-tocan, /obra56107-tokio, /obra69955-el-que-me-toca-es-un-chancho, /obra67128-estan-tocando-nuestra-cancion, /obra63366-no-me-toquesel-amor-propio, /obra63031-el-canto-del-fantoche, /obra57611-la-visita-que-no-toco-el-timbre, /obra68319-las-dos-tocayas, /obra69536-toque-fierro-le-digo, /obra69048-el-burro-toco-la-flauta, /obra68318-temistocles, /obra77152-con-un-toque-de-rubor, /obra58645-tocata-y-fuga-de-bal, /obra57048-cuando-afrodita-toca-la-flauta, /obra56952-hoy-le-toca-a-mi-mujer, /obra78522-jabon-de-tocador, /obra64137-la-berraca-guanabana-pa-tocarlo-como-se-merece',\n",
       " '/obra42426-clara, /obra19049-claramente-juan, /obra76666-clara-cantore-e-invitadxs, /obra76969-declaraciones-en-papel, /obra50130-los-golpes-de-clara, /obra70007-clara-cantore-trio-guitarra, /obra70997-clara-cantore-trio-invitado-abi-gonzalez, /obra63236-clara-fiba, /obra65086-clara-confusion, /obra64993-ceibaariel-hernandezclara-y-franco-duo, /obra63160-clase-de-flamenco-por-clara-giannoni, /obra65445-ciclo-todo-concuerda-clara-giustincich-y-franco-giambartolomei-duo, /obra69594-la-veridica-pero-inverosimil-historia-de-clara, /obra61559-clara-presta-presenta-casa, /obra60904-maria-clara-millan-javier-penonori, /obra62406-cuentas-claras-sala-3, /obra56440-el-origen-de-las-especies-clara-muschietti-laura-wittner, /obra60214-ciclo-bandoneomania-natsuki-nishihara-clara-stern-manuel-momo-nicolas-di-bella-nicolas-ledesma, /obra38526-clara-sala-2, /obra49682-folklore-y-tango-con-clara-y-franco-y-cottetsaidon, /obra51478-ciclo-habra-musica-3-edicion-lautaro-matute-bolerazo-y-clara-franco-duo-fecha-7, /obra38820-clara-y-el-falso-sobrino-de-oldrich-lipsky, /obra41108-clara-clericot-rebelion-en-el-burdel, /obra38672-el-viaje-de-clara, /obra37418-martin-boffi-presenta-declaracion, /obra39713-clara-oscura, /obra28096-clara-sin-burla, /obra27362-ciclo-de-cine-cena-la-guerra-esta-declarada, /obra21337-la-infancia-de-clara, /obra23849-ayer-sone-claramente-que-era-yo, /obra24685-un-amor-inconfundible-se-declara-inocente, /obra13488-la-ultima-habitacion-el-despertar-de-clara, /obra15150-clara-otro-drama-rural, /obra13558-el-amor-declara, /obra14216-bonecrnicas-una-declaracion-de-amor-a-america-latina, /obra153-kalma-klara-en-karilo, /obra11405-clara-ines, /obra45844-bonino-aclara-ciertas-dudas, /obra46911-el-coronel-foster-se-declara-culpable, /obra45903-morena-clara, /obra70132-alfonso-y-clara-o-los-dos-presos, /obra47815-adolfo-y-clara-o-los-presos-por-amor, /obra49684-duo-clara-y-franco, /obra51724-mama-clara, /obra47226-morena-clara',\n",
       " '/obra63683-el-rio-en-mi, /obra75624-el-misterio-en-el-que-se-vieron-envueltas-seis-hermanas-y-creo-que-una-oveja, /obra78205-miguel-de-caro-presenta-saxo-rioplatense, /obra79279-algo-distinto-espectaculo-interactivo-a-tu-encuentro-con-escenario-de-libre-expresion-microfono-abierto-para-el-publico, /obra72579-el-clasico-teatro-independiente-el-de-ayer-y-el-de-hoy-su-evolucion-y-misterio, /obra72526-la-previa-timbrera-jazmin-carbonell-y-mercedes-mendez-conversan-con-el-elenco-de-tercer-cuerpo-en-su-12-aniversario, /obra72063-la-mujer-en-el-teatro-obrero-seminario-online-dictado-por-carlos-fos, /obra70181-claudia-chucair-trio-presenta-lo-que-trajo-el-camino, /obra73219-primer-foro-nacional-multidisciplinario-del-arte-en-pandemia-2020, /obra68035-chechelos-presenta-enmovimiento-en-rosario, /obra65455-pepo-san-martin-presentando-ministerio-del-interior, /obra68429-concierto-homenaje-al-compositor-komitas-padre-la-musica-clasica-moderna-armenia-en-el-150-aniversario-de-su-nacimiento, /obra62781-en-mi-rancho-el-amor-tango-y-canciones-criollas, /obra63659-a-cajon-cerrado-un-velorio-desafortunadamente-comico, /obra61821-el-equilibrio-cosmico-presenta-el-fuego-encantador, /obra59960-nahuel-briones-presenta-su-disco-el-nene-minado, /obra58074-martina-centurion-yamil-gelene-en-concierto, /obra57898-miguel-de-caro-cuarteto-presenta-su-6to-cd-saxo-rioplatense, /obra54676-mario-angelome-presenta-mis-baladas, /obra47308-farsa-en-el-dormitorio, /obra33782-el-misterio-que-tienen-las-cosas, /obra41702-la-lija-lanzamiento-del-disco-rio-largo, /obra41471-patricia-gomez-y-lorena-hermida-presentan-piel-de-rio-y-flor-de-otono, /obra46475-el-misterio-que-tienen-las-cosas, /obra36737-mira-quien-habla-teloneros-del-show-aniversario, /obra34905-martin-robbio-presenta-el-mismo-rio, /obra37411-ethel-koffman-trio-presenta-canciones-caminantes, /obra29564-trio2-luna-de-miel-en-praga, /obra26722-veo-veo-la-unidad-de-la-cosa-que-permanece-en-el-misterio, /obra22124-magia-y-mistica-en-el-rio-de-la-plata, /obra21484-el-inspector-lotonteau-en-misterio-en-la-mansion-lapat, /obra18772-el-enemigo-itinerario-poetico-de-un-sueno, /obra5054-misterios-del-flamenco, /obra3113-el-misterio-de-la-senora-morris, /obra2968-el-misterio-del-castillo-encantado, /obra70603-14-aniversario-del-levantamiento-de-soweto, /obra55787-el-oso-el-aniversario-el-casamiento, /obra45974-la-ermita-la-fuente-y-el-rio, /obra49024-pablo-el-marino-o-crimen-y-misterio, /obra75240-el-misterio-del-amor-entre-varones-teatro-en-el-incendio-mexico, /obra66044-es-como-si-en-mi-interior-se-hubiera-corrido-un-velo-y-el-espectaculo-de-la-vida-infinita-se-transformara-ahora-en-un-abismo-ante-una-tumba-abierta-para-la-eternidad, /obra77115-el-misterio-de-la-virgen-loca',\n",
       " '/obra78571-erase-una-vez-san-francisco, /obra71003-erase, /obra73877-erase-fasciculos-coleccionables, /obra76454-erase-una-vez, /obra70289-erase-una-vez-un-cuento-que-no-es-invento, /obra52347-erase-una-vez-un-globo, /obra52199-erase-una-vez-los-sensuales, /obra56398-erase-una-vez-un-rey, /obra57920-erase-una-vez-un-lobizon, /obra57724-erase-una-vez-a-las-12-y-despues, /obra14731-erase-una-vez-un-patito, /obra40489-erase-una-vez, /obra47240-erase-una-vez-un-topo, /obra27910-erase-una-vez-en-san-lorenzo, /obra14563-erase-una-vez-un-rey, /obra24577-erase-una-vez, /obra24428-erase-una-vez-la-murguita-olimpica, /obra21141-erase-que-era, /obra13146-erase-una-vez-al-lado-de-un-bosque, /obra2889-las-viajerases, /obra4179-erase-una-vez-un-rey, /obra50833-erase-una-vez-buenos-aires, /obra61522-erase-un-viejo-pirata, /obra51542-erase-una-vez-un-duendecillo-llamado-gurrumin, /obra47100-erase-una-vez, /obra26813-erase-una-vez-un-rey, /obra61521-erase-un-viejo-pirata, /obra72092-erase-otra-vez-nelida-lobato',\n",
       " '/obra34865-dinamo, /obra77982-saltos-en-el-tiempo-vruma-y-los-dinamos-eva-diego, /obra44581-vruma-y-los-dinamos, /obra52797-dynamo-tributo-a-soda-stereo, /obra45182-dynamo-ensamble-vocal, /obra42374-va-de-nuevo-vruma-y-los-dinamos, /obra21186-dinamos, /obra4904-dynamo-hamlet',\n",
       " '/obra64240-delia, /obra40002-maria-garay-y-delia-mucci, /obra24196-naranjas-psicodelias-del-amor, /obra35905-hernan-genovese-esteban-riera-gardelianos-con-trio-de-guitarras-invitado-joel-tortul, /obra22438-el-loquero-de-dona-cordelia, /obra28556-delia-o-la-noche-de-las-flores, /obra33081-rockadelia-y-panico-en-la-ciudad, /obra33350-el-chef-chop-chop-y-el-tik-tak-de-fidelia, /obra8768-resplandece-sangre-lear-y-cordelia, /obra54939-cordelia-la-nina-hada, /obra63256-lidia-y-delia',\n",
       " '/obra11603-tercer-cuerpo, /obra25937-tercer-cuerpo, /obra71558-teatro-online-tercer-cuerpo, /obra72526-la-previa-timbrera-jazmin-carbonell-y-mercedes-mendez-conversan-con-el-elenco-de-tercer-cuerpo-en-su-12-aniversario',\n",
       " '/obra80162-waterloo-el-musical, /obra80458-be-water, /obra70025-watt, /obra4854-watt, /obra79206-saraswati-banda-de-reggae-fusion, /obra71086-la-watt-somos-al-limite, /obra66001-lawatt, /obra64284-ilustradoras-5-la-watson-azul-blaseotto-sala-piso-5, /obra65172-je-ne-me-souviens-plus-tres-bien-no-me-acuerdo-muy-bien-gerard-watkins-sala-piso-11, /obra34049-stravaganza-water-in-art-on-tour, /obra35981-121-gigawatts-2015, /obra39426-waton-carona, /obra18110-freshwater, /obra16994-water-closet-school, /obra58656-el-diario-de-watergate, /obra64943-water-closet',\n",
       " '/obra60992-esta-cancion, /obra74143-esta-cancion-ep-en-concierto, /obra72996-esta-cancion-ep, /obra42926-paula-suarez-y-mora-martinez-canciones-propias-y-algunas-prestadas, /obra40455-sonorium-puesta-de-canciones-y-clowns, /obra54652-canciones-para-naufragos-duo-florestada, /obra51626-camilo-cipolat-un-dia-hice-estas-canciones, /obra37190-martin-buscaglia-presenta-nuevas-y-antiguas-canciones-en-su-formato-de-hombre-orquesta, /obra24132-fiesta-de-canciones, /obra67128-estan-tocando-nuestra-cancion',\n",
       " '/obra72962-120-kilos-de-jazz, /obra15461-120-kilos-de-jazz, /obra50621-120-kilos-de-jazz, /obra32464-120-kilos-de-jazz',\n",
       " '/obra78212-lorca-el-teatro-bajo-la-arena, /obra80314-los-garciarena, /obra74686-arena, /obra40229-arena, /obra23500-arena, /obra66233-arena, /obra78248-tengo-arena-bajo-los-parpados, /obra79406-arde-la-arena, /obra80004-granitos-de-arena, /obra12274-la-arena-y-el-agua, /obra73765-teatro-ninos-macarena-fuentes, /obra73794-laboratorio-de-teatro-y-cine-macarena-fuentes-guido-turtula, /obra73800-laboratorio-de-teatro-y-cine-macarena-fuentes-guido-turtula, /obra67766-arena-en-los-ojos-sand-in-the-eyes, /obra68630-macarena-robledo-alejandro-franov-presentan-afluente, /obra69723-de-arena, /obra67839-graciela-arenas-presenta-jazz-is-joy, /obra63139-sombras-de-arena-ale-bustos, /obra67967-de-fuego-y-arena-la-poesia-de-lorca-y-rafael-de-leon, /obra68374-historias-con-arena-como-greenwich-aguaviva-, /obra63176-laboratorio-vocal-por-macarena-san-martin, /obra63184-taller-de-creacion-escenica-por-macarena-san-martin, /obra19482-como-arena-entre-las-manos, /obra58499-arena-sala-1, /obra61084-los-garciarena, /obra58176-tragedias-hogarenas, /obra59091-sueno-mediterraneo-graciela-arenas, /obra59582-2-encuetro-de-/obras-cortas-reloj-de-arena, /obra58715-carolina-rojas-presenta-canciones-de-rio-y-arena, /obra41327-el-sonido-de-los-durmientes-presenta-mancha-arena, /obra51715-angelito-luciarena-el-psicologo-del-barrio-o-el-mas-alla, /obra52536-la-familia-de-ukeleles-noches-hogarenas, /obra53743-1er-encuentro-de-/obras-cortas-reloj-de-arena, /obra44118-macarena-robledo-presenta-corazon-radar, /obra41935-los-garciarena, /obra30916-arena-entre-la-carne-y-el-hueso, /obra32672-macarena-robledo-instrumento-vivo, /obra33816-mujeres-de-arena, /obra31082-el-estadio-de-arena, /obra13224-el-nino-de-arena-ilusiones-y-mareas, /obra21796-mujeres-de-arena, /obra27439-la-sentencia-del-reloj-de-arena, /obra17379-arenales-un-pueblo-bajo-el-mar, /obra23870-arena-entre-la-carne-y-el-hueso, /obra24573-festival-el-porvenir-2012-grupo-b-macarena-albalustri-juan-arena-victoriano-arana, /obra20436-de-luna-y-arena, /obra16584-el-doble-de-arena, /obra7056-de-arena-el-horizonte, /obra15902-mujeres-de--arena, /obra13658-castillos-de-arena, /obra9957-mujeres-de-arena, /obra12357-juego-de-luna-y-arena, /obra9201-vientos-de-arena, /obra2865-arena-blanca, /obra65280-el-hombre-de-arena, /obra45956-el-hombre-de-arena, /obra47133-sangre-y-arena, /obra10882-arenas, /obra35317-arena-que-la-vida-se-llevo, /obra46847-froilan-arena-el-mestizo, /obra47488-la-chica-del-circo-arenas, /obra74637-arena, /obra16195-arena-secreto-y-funeral, /obra76303-mar-de-arena, /obra79333-el-caso-arena-rodrigo-contra-la-danza-contemporanea, /obra43386-aqui-en-la-arena, /obra35739-castillos-en-la-arena, /obra45934-una-rosa-de-sangre-sobre-la-arena, /obra63696-sesion-1-rodolfo-valentino-sangre-y-arena',\n",
       " '/obra37435-los-monstruos, /obra79851-los-monstruos-de-la-vida-lofi, /obra38071-la-voluntad-de-los-monstruos, /obra30765-donde-viven-los-monstruos, /obra26184-el-cielo-de-los-monstruos, /obra18070-los-monstruos-no-existen-los-padres-si, /obra8817-los-monstruos-sagrados',\n",
       " '/obra68076-el-placer, /obra79996-el-placer-de-especular, /obra13469-por-el-placer-de-volver-a-verla, /obra44294-el-placer-de-los-dioses, /obra78370-a-contracuento-por-el-puro-placer, /obra70374-el-verbo-placer, /obra52894-buenos-modales-el-innegable-placer-de-perder-el-control',\n",
       " '/obra60291-paraguay, /obra31609-paraguay, /obra72983-mentir-la-verdad-paraguay, /obra32041-agua-que-corre-al-mar-o-paraguay-el-musical, /obra24031-independencias-latinoamericanas-argentina-paraguay, /obra46705-ayay-escribime-al-paraguay, /obra49554-despotismo-y-tirania-o-el-doctor-francia-tirano-del-paraguay',\n",
       " '/obra78223-el-mono-gigante-king-kong, /obra78613-gigante, /obra78401-gigantes-de-la-musica, /obra71802-la-gigantea, /obra64000-el-gigante-amapolas-y-sus-formidables-enemigos-o-sea-fastos-dramaticos-de-una-guerra-memorable-recargado, /obra60447-pequenos-gigantes, /obra58792-orourke-se-enfrenta-al-pulpo-gigante, /obra51619-magof-museo-ambulante-de-gigantes-y-otras-fieras, /obra52375-burbujas-a-la-carta-show-de-burbujas-gigantes, /obra36329-la-gigante-roja, /obra14902-la-historia-del-gigante, /obra23368-el-gigante-amapolas, /obra29385-gigantes-del-flamenco, /obra28892-ciclo-de-cena-cine-los-gigantes, /obra18749-el-gigante-amapolas, /obra25543-los-gigantes-de-las-montanas, /obra23357-pequenos-y-gigantes, /obra30268-una-historia-gigante-por-contar, /obra19247-el-gigante-de-amapolas-y-sus-formidables-enemigos, /obra22299-gigante-amapolas, /obra20753-el-gigante-egoista, /obra16320-el-gigante-amapolas-y-sus-fabulosos-enemigos, /obra4832-el-gigante-amapolas, /obra11496-el-gigante-amapolas, /obra12616-el-gigante-amapolas, /obra12401-de-lecheros-y-gigantes, /obra9438-el-gigante-amapolas, /obra5701-suenos-de-gigantes, /obra10792-el-gigante-amapolas, /obra61635-una-vez-un-gigante, /obra63003-pinocho-y-los-munecos-gigantes, /obra46805-el-gigante-pomelo, /obra43025-aventuras-de-pitiri-y-el-gigante-tragavientos, /obra46389-el-gigante, /obra48525-estatua-arlequin-o-fantasma-gigante-de-16-pies-de-alto, /obra46456-gigantezca-monstruosa-aventura, /obra48811-el-gigante-amapolas, /obra49308-jack-el-matador-de-gigantes',\n",
       " '/obra71128-jauria, /obra75333-festival-jauria-la-erotica, /obra71700-la-jauria-de-las-damas, /obra72626-festival-jaurias-del-mundo',\n",
       " '/obra79524-ya-nadie-va-a-escuchar-tu-remera-un-concierto-escenico, /obra75684-eso-que-pasa-cuando-no-escuchas, /obra75229-cucha, /obra73627-no-es-facil-escucharla, /obra80304-solo-una-pareja-cronicas-escuchadas-con-la-oreja-en-la-pared, /obra77131-escuchate-este-disquito, /obra76529-las-palomas-tambien-escuchan-musica, /obra69684-una-trinchera-y-se-escuchan-risas, /obra73340-cuchara-de-madera, /obra73441-la-cuchara, /obra72410-la-era-de-la-escucha-esta-por-venir-escaneo-sonoro, /obra62848-escucha-last-shelter, /obra65210-wara-wara-escucha-la-otra-historia, /obra68252-sr-nueve-heridas-y-el-silencio-de-quien-escucha-iluminando, /obra56334-cucharita-sala-4, /obra61422-escuchando-radiohead-te-escupo-mi-corazon, /obra57742-como-escucha-la-pielwork-in-progress-da-da-danza, /obra60549-metodo-para-escuchar-voces-de-sanchez-a-gombrowicz-liliana-heer-fabiana-galante-y-los-mentolados-durruti-concierto-literario, /obra52716-cuchame-stand-up, /obra54865-la-vida-de-lo-que-se-dice-cuando-nadie-escucha, /obra35018-che-escucha-stand-up, /obra40439-escucha-lo-que-te-digo-cafe-concert, /obra43859-ahora-escuchame-vos, /obra41156-si-mama-escuchara, /obra38279-cucha-de-almas, /obra37777-escuchame-quiero-decirte-algo, /obra38269-escucha-lo-que-te-digo-no-solo-tango, /obra34038-doblando-la-cuchara, /obra38270-elegante-sport-escucha-lo-que-te-digo, /obra36509-canciones-para-hacer-cucharita, /obra29402-parpadea-si-me-escuchas, /obra26787-escucha-lo-que-te-digo, /obra25067-rozando-el-cuerpo-del-que-apenas-escucha, /obra16192-decime-que-escuchas, /obra12174-mira-lo-que-hay-que-escuchar, /obra8532-decime-que-escuchas, /obra12750-cuentos-para-volver-a-escuchar, /obra7505-huevos-al-plato-con-cucharita, /obra7190-cucha-de-almas, /obra4352-cucha-de-almas, /obra3209-solo-si-escuchas-conmigo, /obra15074-cucha-de-almas, /obra69720-pega-pero-escucha, /obra44385-la-cucharita-mandinga, /obra9024-te-escuchamos-dorotea, /obra32270-cuando-el-amor-no-escucha-razones-solo-toma-decisiones',\n",
       " '/obra64553-alfa, /obra57404-alfaguarra, /obra66859-la-fachalfarra, /obra42626-alfa-omega-tributo-a-gustavo-cerati, /obra28699-alfa-y-omega, /obra27974-el-cine-con-alfalfa, /obra26201-memorias-de-una-analfabeta, /obra10979-analfabetos, /obra45864-alfa-omega-y-astartusa-o-la-pluma-suicida, /obra67867-mujer-alfa, /obra27973-el-cine-con-alfalfa',\n",
       " '/obra75247-otono-e-invierno, /obra76139-la-fiesta-de-los-escombros, /obra53637-el-invierno-llega-despues-del-otono, /obra4399-cuatro-poemas-primavera-verano-otono-invierno',\n",
       " '/obra76637-un-enemigo-del-pueblo, /obra76130-un-enemigo-del-pueblo, /obra72605-un-enemigo-del-pueblo, /obra57005-un-enemigo-del-pueblo, /obra51836-un-enemigo-del-pueblo, /obra46282-un-enemigo-del-pueblo, /obra7630-un-enemigo-del-pueblo, /obra555-un-enemigo-del-pueblo, /obra10246-un-enemigo-del-pueblo, /obra44327-un-enemigo-del-pueblo',\n",
       " '/obra12329-nada-del-amor-me-produce-envidia, /obra50635-nada-del-amor-me-produce-envidia, /obra38957-nada-del-amor-me-produce-envidia, /obra29422-nada-del-amor-me-produce-envidia, /obra25466-nada-del-amor-me-produce-envidia',\n",
       " '/obra79024-los-amigos-de-las-peliculas, /obra60461-los-amigos, /obra76786-los-amigos-de-ellos-dos, /obra72299-los-amigos-del-anillo, /obra56814-los-amigos-de-cote, /obra59961-el-zar-presenta-su-disco-a-los-amigos, /obra32125-los-amigos-del-chango, /obra34651-los-amigos-del-chango-2015-rumbo-a-mca-volumen-ii, /obra36834-amigos-son-los-amigos, /obra35037-orquesta-popular-los-amigos-del-chango, /obra35444-borges-con-amigos-con-los-amigos-juan-quintero-y-luna-monti, /obra35442-luis-carlos-borges-con-los-amigos-juan-falu-y-liliana-herrero, /obra35499-luiz-carlos-borges-con-los-amigos-chango-spasiuk-juan-quintero-y-luna-monti, /obra28452-el-sapo-pepe-los-amigos-del-jardin, /obra3513-los-amigos-y-mi-hija, /obra43732-meg-para-los-amigos, /obra78286-deseos-amigos-sebastian-macchi-cecilia-de-los-santos-sabrina-diaz-augusto-sinesi, /obra63691-saddisin-y-sus-amigos-al-rescate-de-los-valores, /obra49230-amigos-eran-los-de-antes, /obra16712-el-sr-mikozzi-y-los-superamigos, /obra21142-amigos-de-los-libros, /obra13235-los-super-amigos, /obra50014-los-amigos, /obra50444-los-amigos, /obra50283-los-amigos, /obra48344-los--falsos-amigos, /obra49780-los-dos-amigos',\n",
       " '/obra40340-julio-cesar, /obra35064-julio-cesar, /obra31608-julio-cesar, /obra14738-julio-cesar, /obra35406-julio-cesar, /obra57622-julio-cesar, /obra64746-julio-cesar, /obra30784-julio-cesar-el-discurso, /obra1845-100-julio-cesar',\n",
       " '/obra69780-actriz, /obra34269-actriz, /obra62532-praxis-2da-exposicion-de-actuaciones-de-actrices-actuando, /obra74942-aktrissa-chayka, /obra51852-lo-unico-que-necesita-una-gran-actriz-es-una-gran-/obra-y-las-ganas-de-triunfar, /obra72992-actriz-del-under, /obra73521-diarios-de-actrices-demostracion-de-entrenamientos-fisicos, /obra73371-charla-mirta-busnelli-y-javier-daulte-ser-actriz-un-acto-de-arrojo, /obra49058-solo-una-actriz-de-teatro, /obra61854-la-santa-el-chaman-y-la-actriz-famosa-sala-6, /obra27094-la-poeta-y-su-novia-actriz, /obra54142-naque-o-de-piojos-y-actrices, /obra45975-mala-actriz, /obra41088-lamezcla-tres-actrices-un-encuentro-musical, /obra30823-actrices, /obra36974-actrices-del-monton, /obra37563-praxis1-exposicion-de-actuaciones-de-actrices-actuando-de-buenos-aires, /obra9911-la-cadena-invisible-trilogia-de-la-soledad-monologo-para-una-actriz, /obra33274-actriz-pero-de-las-buenas, /obra31066-cuatro-ejercicios-para-actrices, /obra13403-cuatro-ejercicios-para-actrices, /obra13404-3er-piso-cuatro-ejercicios-para-actrices, /obra9663-4-ejercicios-para-actrices-un-dia-especial-si-tengo-suerte-la-que-sigue-oficina, /obra8738-monologos-hechos-por-actrices-i, /obra2887-tres-ejercicios-para-actrices, /obra1940-omatidio-pieza-para-actriz-fotografa-y-un-hombre-cualquiera, /obra1007-tres-mujeres-actrices, /obra971-4-ejercicios-para-actrices, /obra51344-una-actriz-para-lady-macbeth, /obra43430-la-edad-de-las-actrices, /obra37229-entrevista-con-una-actriz',\n",
       " '/obra52560-hidalgo, /obra43556-hidalgo, /obra60503-concierto-de-tango-clasicos-de-tango-con-las-voces-de-jesus-hidalgo-y-lautaro-mazza, /obra51126-julio-pane-solo-bandoneon-invitado-jesus-hidalgo, /obra39314-walter-hidalgo-alejandro-szwarcman-y-juan-vattuone-hidalgos-atorrantes, /obra34163-locuras-de-un-hidalgo-caballero, /obra28122-walter-hidalgoentre-amigos, /obra15387-hidalgo-al-800-caballito, /obra1902-los-dos-hidalgos-de-verona, /obra48406-el-ingenioso-hidalgo-don-quijote-de-la-mancha']"
      ]
     },
     "execution_count": 51,
     "metadata": {},
     "output_type": "execute_result"
    }
   ],
   "source": [
    "L = df_x1[df_x1[\"urlAT\"].isna()][\"derivadas\"].to_list()\n",
    "L"
   ]
  },
  {
   "cell_type": "code",
   "execution_count": 52,
   "metadata": {},
   "outputs": [
    {
     "data": {
      "text/plain": [
       "[['/obra68104-perdon-sutottos',\n",
       "  ' /obra77325-el-perdon',\n",
       "  ' /obra76296-perdonalos-opera',\n",
       "  ' /obra71880-podes-perdonarla',\n",
       "  ' /obra60223-perdonestamos-en-guerra',\n",
       "  ' /obra66242-perdon-por-mi-humor',\n",
       "  ' /obra68418-perdon-es-que-te-amo-vol-2',\n",
       "  ' /obra68829-perdon-si-molestamos',\n",
       "  ' /obra52728-la-empresa-siempre-perdona',\n",
       "  ' /obra41635-de-la-naturaleza-lo-siento-perdoname-gracias-te-amo',\n",
       "  ' /obra41680-aqqua-de-la-naturaleza-lo-siento-perdoname-gracias-te-amo',\n",
       "  ' /obra36009-perdon-es-que-te-amo',\n",
       "  ' /obra35447-perdoname-por-ayer',\n",
       "  ' /obra34578-perdoname',\n",
       "  ' /obra37395-amor-es-nunca-tener-que-pedir-perdon',\n",
       "  ' /obra31054-perdon-flaco-y-los-colgados-del-bigote',\n",
       "  ' /obra28732-perdona-bonita-pero-lucas-me-queria-a-mi',\n",
       "  ' /obra29901-la-empresa-perdona-un-momento-de-locura',\n",
       "  ' /obra22047-perdon-por-ser-tan-puta',\n",
       "  ' /obra21556-perdoname-que-te-disculpe',\n",
       "  ' /obra20539-robespierre-el-perdon-no-existe',\n",
       "  ' /obra25046-perdonenla-si-habla-de-amor',\n",
       "  ' /obra21527-la-empresa-perdona-un-momento-de-locura',\n",
       "  ' /obra20519-la-empresa-perdona-un-momento-de-locura',\n",
       "  ' /obra19665-me-ensenaste-a-sonreir-y-a-perdonar',\n",
       "  ' /obra16662-pedime-perdon',\n",
       "  ' /obra16946-le-pidio-perdon-al-padre',\n",
       "  ' /obra9307-perdonalos-senor-no-saben-lo-que-hacen',\n",
       "  ' /obra9330-impro-fest-perdonalos-senor-la-celebracion-de-lo-efimero',\n",
       "  ' /obra5126-perdon-por-la-espera',\n",
       "  ' /obra2240-perdonar-es-dibino-una-farza-inpresentavle',\n",
       "  ' /obra3116-perdon-por-mi-arte',\n",
       "  ' /obra1901-refugiados-o-pedir-perdon',\n",
       "  ' /obra1146-de-nudos-y-perdones',\n",
       "  ' /obra58515-perdon-por-mi-pasado',\n",
       "  ' /obra56923-te-perdono-la-sopa',\n",
       "  ' /obra51819-se-mata-o-se-perdona',\n",
       "  ' /obra50305-perdoname-el-odio',\n",
       "  ' /obra35361-perdon-laura',\n",
       "  ' /obra61681-perdoname-senor-he-sido-mala-de-todo-me-arrepiento',\n",
       "  ' /obra42382-mil-anos-de-perdon',\n",
       "  ' /obra60484-mil-anos-de-perdon',\n",
       "  ' /obra50023-mil-anos-de-perdon'],\n",
       " ['/obra61040-todo-lo-posible',\n",
       "  ' /obra63245-todo-lo-posible-fiba',\n",
       "  ' /obra53234-todo-lo-posible-sala-4',\n",
       "  ' /obra79598-todos-los-mundos-posibles'],\n",
       " ['/obra59854-la-elegida',\n",
       "  ' /obra71696-la-elegida',\n",
       "  ' /obra71500-la-elegida-on-line',\n",
       "  ' /obra70322-visita-tactil-de-la-/obra-la-elegida-de-paula-fanelli',\n",
       "  ' /obra50634-akllasumaq-la-elegida-por-su-belleza'],\n",
       " ['/obra40017-nerium-park',\n",
       "  ' /obra51580-nerium-park',\n",
       "  ' /obra71614-teatro-online-nerium-park',\n",
       "  ' /obra42376-nerium-park-se-encuentra-con-el-publico'],\n",
       " ['/obra76357-el-amo-del-mundo',\n",
       "  ' /obra11731-el-amo-del-mundo',\n",
       "  ' /obra42637-el-amo-del-mundo',\n",
       "  ' /obra78236-evita-juguetes-de-amor-o-de-como-un-nino-es-el-poeta-del-mundo',\n",
       "  ' /obra74462-con-todo-el-amor-del-mundo',\n",
       "  ' /obra54554-el-amor-es-el-fin-del-mundo-sala-2',\n",
       "  ' /obra6039-la-muerte-del-raton-mas-famoso-del-mundo',\n",
       "  ' /obra75583-el-amor-es-el-fin-del-mundo'],\n",
       " ['/obra40466-las-de-barranco',\n",
       "  ' /obra64809-las-de-barranco',\n",
       "  ' /obra64707-las-de-barranco',\n",
       "  ' /obra64353-las-de-barranco',\n",
       "  ' /obra66281-las-de-barranco',\n",
       "  ' /obra57477-las-de-barranco',\n",
       "  ' /obra57711-las-de-barranco',\n",
       "  ' /obra31009-las-de-barranco',\n",
       "  ' /obra36517-las-de-barranco',\n",
       "  ' /obra37692-las-de-barranco',\n",
       "  ' /obra9876-las-de-barranco',\n",
       "  ' /obra17338-las-de-barranco',\n",
       "  ' /obra23284-las-de-barranco',\n",
       "  ' /obra14708-las-de-barranco',\n",
       "  ' /obra20497-las-de-barranco',\n",
       "  ' /obra21837-las-de-barranco',\n",
       "  ' /obra18022-las-de-barranco',\n",
       "  ' /obra10849-las-de-barranco',\n",
       "  ' /obra10550-las-de-barranco',\n",
       "  ' /obra12388-las-de-barranco',\n",
       "  ' /obra8729-las-de-barranco',\n",
       "  ' /obra3907-las-de-barranco',\n",
       "  ' /obra6256-las-de-barranco',\n",
       "  ' /obra3664-las-de-barranco',\n",
       "  ' /obra3342-las-de-barranco',\n",
       "  ' /obra2298-las-de-barranco',\n",
       "  ' /obra223-las-de-barranco',\n",
       "  ' /obra45032-las-de-barranco',\n",
       "  ' /obra44128-las-de-barranco',\n",
       "  ' /obra62963-las-de-barranco',\n",
       "  ' /obra63325-las-de-barranco',\n",
       "  ' /obra10055-las-de-barranco',\n",
       "  ' /obra45547-las-de-barranco',\n",
       "  ' /obra45994-las-de-barranco',\n",
       "  ' /obra75302-pretenciosas-ridiculas-las-de-barranco',\n",
       "  ' /obra75446-pretenciosas-ridiculas-las-de-barranco-streaming',\n",
       "  ' /obra72061-bombon-digital-coro-municipal-de-ninos-usted-esta-actuando-las-de-barranco-humo-programa-3',\n",
       "  ' /obra45461-las-de-barranco-hoy',\n",
       "  ' /obra20387-otra-vez-las-de-barranco',\n",
       "  ' /obra2481-las-de-barranco-ahora',\n",
       "  ' /obra39583-las-mujeres-de-barranco',\n",
       "  ' /obra56467-las-del-barranco',\n",
       "  ' /obra27778-las-del-barranco',\n",
       "  ' /obra22880-las-de-barranco',\n",
       "  ' /obra50595-las-de-barranco'],\n",
       " ['/obra63932-para-partir',\n",
       "  ' /obra62331-lectura-de-poesia-para-ninos-de-a-partir-de-2-anos-libro-haikus-poesia-de-un-mundo-pequeno',\n",
       "  ' /obra61596-musica-para-compartir-ii',\n",
       "  ' /obra44870-amalia-echeverz-y-fabiana-de-marco-musica-para-compartir',\n",
       "  ' /obra38478-musica-para-compartir'],\n",
       " ['/obra67031-la-enamorada',\n",
       "  ' /obra1488-la-enamorada',\n",
       "  ' /obra40910-la-enamorada-del-muro',\n",
       "  ' /obra18570-la-enamorada-del-muro',\n",
       "  ' /obra43712-la-enamorada-del-rey',\n",
       "  ' /obra49174-la-discreta-enamorada',\n",
       "  ' /obra25063-la-puta-enamorada',\n",
       "  ' /obra42691-la-discreta-enamorada'],\n",
       " ['/obra79593-despojo-una-comedia-familiarmente-bipolar',\n",
       "  ' /obra77995-una-familia-encantada',\n",
       "  ' /obra78692-una-y-mil',\n",
       "  ' /obra58576-militonti-una-competencia-epica',\n",
       "  ' /obra77624-una-familia-tipo',\n",
       "  ' /obra63957-una-familia-feliz',\n",
       "  ' /obra73454-herederos-un-velatorio-online-y-una-familia-desconectada',\n",
       "  ' /obra49934-lo-total-un-milagro-en-algunas-luces-y-sombras',\n",
       "  ' /obra3648-los-albornoz-delicias-de-una-familia-argentina',\n",
       "  ' /obra68778-ciclo-de-guitarras-sebastian-luna-y-emiliano-ferrer',\n",
       "  ' /obra68057-pueblerinos-como-una-gran-familia',\n",
       "  ' /obra59205-las-mil-y-una-noches',\n",
       "  ' /obra58445-una-familia-especial',\n",
       "  ' /obra50504-la-vida-es-una-milonga',\n",
       "  ' /obra52297-los-besugo-una-familia-pirata',\n",
       "  ' /obra48242-las-mil-y-una-noches-relatos-para-ver-el-sol',\n",
       "  ' /obra50723-una-mirada-familiar',\n",
       "  ' /obra21269-las-mil-y-una-noches-arabes',\n",
       "  ' /obra36321-inverosimil-una-tragedia-mundana',\n",
       "  ' /obra41042-las-mil-y-una-voces-del-humor',\n",
       "  ' /obra42274-las-mil-y-una',\n",
       "  ' /obra42185-las-mil-noches-y-una-noche',\n",
       "  ' /obra41109-las-mil-y-unas-noches',\n",
       "  ' /obra37137-una-ultima-milonga-antes-del-alba',\n",
       "  ' /obra39322-muestra-maximiliano-luna',\n",
       "  ' /obra29294-siameses-historia-de-una-familia-normal',\n",
       "  ' /obra32438-una-familia-tipo',\n",
       "  ' /obra28296-una-sonrisa-vale-mas-que-mil-palabras',\n",
       "  ' /obra30471-una-sonrisa-vale-mas-que-mil-palabras',\n",
       "  ' /obra30502-la-vida-es-una-milonga',\n",
       "  ' /obra25020-psicologia-barata-para-una-familia-berreta',\n",
       "  ' /obra25381-una-historia-llena-de-mil-fantasias',\n",
       "  ' /obra25337-los-locos-addams-una-familia-muy-normal',\n",
       "  ' /obra13342-pequena-historia-de-una-familia-fragmentada',\n",
       "  ' /obra19765-relatos-eroticos-sobre-una-seleccion-de-las-mil-y-una-noches',\n",
       "  ' /obra13188-una-familia-muy-especial',\n",
       "  ' /obra10118-las-mil-y-una-noches',\n",
       "  ' /obra13546-una-familia-dentro-de-la-nieve',\n",
       "  ' /obra16064-las-mil-y-una-noches',\n",
       "  ' /obra16523-proyecciones-krause-una-deconstruccion-familiar',\n",
       "  ' /obra16181-las-mil-y-una-historias',\n",
       "  ' /obra15259-una-familia-tipo',\n",
       "  ' /obra15411-una-sombra-donde-suena-camila-o-gorman',\n",
       "  ' /obra9498-una-familia-poco-normal',\n",
       "  ' /obra9926-los-albornoz-delicias-de-una-familia-argentina',\n",
       "  ' /obra8479-los-sobrevivientes-una-historia-familiar',\n",
       "  ' /obra5402-los-albornoz-delicias-de-una-familia-argentina',\n",
       "  ' /obra2371-mil-cuentos-para-una-noche',\n",
       "  ' /obra2720-las-mil-y-una-noches-argentinas',\n",
       "  ' /obra45411-las-mil-y-una-noches',\n",
       "  ' /obra11849-las-mil-y-una-nachas',\n",
       "  ' /obra50086-las-mil-y-una-nachas',\n",
       "  ' /obra49790-las-mil-y-una-nachas',\n",
       "  ' /obra10099-una-historia-casi-verosimil',\n",
       "  ' /obra42939-las-mil-y-una-alegrias',\n",
       "  ' /obra48226-una-novia-una-casa-y-cien-mil-pesos',\n",
       "  ' /obra2595-bajorey-el-estado-de-una-y-mil-noches',\n",
       "  ' /obra80462-orquesta-tipica-di-pasquale-milagros-caliva-y-noelia-sinkunas',\n",
       "  ' /obra42377-una-visita-familiar'],\n",
       " ['/obra79624-las-dos-reinas',\n",
       "  ' /obra77690-las-reinas',\n",
       "  ' /obra26528-las-reinas-del-strip',\n",
       "  ' /obra7978-el-rey-las-reinas-el-medico-y-ella'],\n",
       " ['/obra67171-los-miedos',\n",
       "  ' /obra51721-miedo',\n",
       "  ' /obra56051-miedo',\n",
       "  ' /obra23405-miiedo',\n",
       "  ' /obra56773-ensayo-sobre-el-miedo-distopia-grotesca-sobre-el-fin-del-mundo',\n",
       "  ' /obra54382-cuiqui-el-mundo-de-los-miedos',\n",
       "  ' /obra77698-los-miedos-de-anita',\n",
       "  ' /obra79544-tanto-miedo-que-da-risa',\n",
       "  ' /obra76599-cuando-el-miedo-se-transforma-en-silencios',\n",
       "  ' /obra74431-un-dia-vi-el-miedo-alejarse-de-mi',\n",
       "  ' /obra74723-la-reina-del-miedo',\n",
       "  ' /obra76546-noviembre-los-miedos-sobre-la-mesa',\n",
       "  ' /obra76856-la-historia-de-mis-miedos',\n",
       "  ' /obra74874-canciones-para-no-tener-miedo-virtual',\n",
       "  ' /obra74849-para-ser-valiente-hay-que-tener-miedo',\n",
       "  ' /obra75300-pesadilla-popular-lo-normal-es-tener-miedo',\n",
       "  ' /obra21309-chau-senor-miedo',\n",
       "  ' /obra71262-chau-senor-miedo',\n",
       "  ' /obra40492-miedos',\n",
       "  ' /obra63788-con-este-miedo-al-futuro',\n",
       "  ' /obra62818-bombon-vecinal-no-tengas-miedo-no-de-moro-anghileri',\n",
       "  ' /obra35617-el-miedo-de-toda-mujer',\n",
       "  ' /obra57434-los-engranajes-del-miedo',\n",
       "  ' /obra60670-lucas-rosasco-amor-y-miedo',\n",
       "  ' /obra41378-angeli-improvisa-que-da-miedo',\n",
       "  ' /obra52281-jorge-el-miedoso',\n",
       "  ' /obra52359-la-princesa-azulada-la-valiente-de-los-miedos',\n",
       "  ' /obra36755-juan-sin-miedo',\n",
       "  ' /obra36424-cuatro-noches-y-el-miedo-a-estar-solo',\n",
       "  ' /obra41981-chau-sr-miedo',\n",
       "  ' /obra40055-no-tengas-miedo',\n",
       "  ' /obra42456-historia-del-miedo',\n",
       "  ' /obra29335-todos-mis-miedos',\n",
       "  ' /obra34838-miedos-privados-en-lugares-publicos',\n",
       "  ' /obra37618-el-miedo-mas-profundo',\n",
       "  ' /obra24025-canciones-para-no-tener-miedo',\n",
       "  ' /obra27759-chau-senor-miedo',\n",
       "  ' /obra33352-ninacocinamiedos',\n",
       "  ' /obra39379-las-aventuras-de-juan-sin-miedo',\n",
       "  ' /obra27791-el-olor-del-miedo',\n",
       "  ' /obra28571-rebeca-y-la-sociedad-antimiedo',\n",
       "  ' /obra27718-cuentos-para-disfrutar-con-miedo',\n",
       "  ' /obra20852-el-miedo',\n",
       "  ' /obra23730-del-miedo-y-sus-racimos',\n",
       "  ' /obra24558-juan-sin-miedo',\n",
       "  ' /obra24497-juanito-una-aventura-sin-miedo',\n",
       "  ' /obra16039-el-miedo-en-tiempos-de-lluvia',\n",
       "  ' /obra17544-chau-senor-miedo',\n",
       "  ' /obra19004-quien-dijo-miedo',\n",
       "  ' /obra20686-chau-sr-miedo',\n",
       "  ' /obra21903-no-te-quiero-miedo',\n",
       "  ' /obra22844-sir-castillo-del-miedo-evo',\n",
       "  ' /obra15992-tengo-miedo-torero',\n",
       "  ' /obra17388-juan-sin-miedo',\n",
       "  ' /obra16267-todos-los-miedos',\n",
       "  ' /obra17818-bu-nadie-tiene-miedo',\n",
       "  ' /obra15706-me-rio-del-miedo',\n",
       "  ' /obra14683-juan-sin-miedo',\n",
       "  ' /obra35607-paulatina-aproximacion-a-un-teorema-dramatico-del-miedo',\n",
       "  ' /obra52044-las-mujeres-me-dan-miedo',\n",
       "  ' /obra58162-quien-dijo-miedo',\n",
       "  ' /obra73052-el-miedo-de-la-rosa',\n",
       "  ' /obra34692-tengo-miedo-de-la-noche',\n",
       "  ' /obra42116-vivir-sin-miedo',\n",
       "  ' /obra58161-quien-dijo-miedo',\n",
       "  ' /obra65821-sin-dudas-sin-miedos-sin-tiempo',\n",
       "  ' /obra52043-las-mujeres-me-dan-miedo',\n",
       "  ' /obra29123-no-seas-mala-me-da-miedo',\n",
       "  ' /obra30012-a-mi-chica-le-gustan-las-de-miedo',\n",
       "  ' /obra16565-la-nina-que-queria-aprender-a-tener-miedo'],\n",
       " ['/obra74386-el-test',\n",
       "  ' /obra56193-el-test',\n",
       "  ' /obra65947-el-testigo',\n",
       "  ' /obra56262-el-testigo',\n",
       "  ' /obra23229-el-testamento-de-leonardo',\n",
       "  ' /obra18738-el-testigo-le-temoin',\n",
       "  ' /obra11995-el-testamento-del-sastre',\n",
       "  ' /obra47198-el-testamento-olografico-o-la-herencia-del-tio',\n",
       "  ' /obra72823-infancia-basura-testimonio-ii-el',\n",
       "  ' /obra65439-el-sagrado-testamento',\n",
       "  ' /obra31824-breve-apologia-del-caos-por-exceso-de-testosterona-en-las-calles-de-manhattan',\n",
       "  ' /obra26643-test-arte-en-la-escuela',\n",
       "  ' /obra22977-historia-del-llanto-un-testimonio',\n",
       "  ' /obra17752-potestad-el-ultimo-verso',\n",
       "  ' /obra13108-cita-del-cinematografo-greitest-jits',\n",
       "  ' /obra12423-testigos-del-pasado',\n",
       "  ' /obra2760-el-mismo-testigo',\n",
       "  ' /obra48324-el-testigo-invisible-o-la-capilla-en-los-bosques',\n",
       "  ' /obra72054-el-testamento-de-don-tomas',\n",
       "  ' /obra51814-el-testamento-de-fausto',\n",
       "  ' /obra9734-el-testamento',\n",
       "  ' /obra50015-el-testamento-olografo',\n",
       "  ' /obra48683-la-loca-o-el-testamento-de-una-inglesa'],\n",
       " ['/obra58795-los-rotos',\n",
       "  ' /obra68129-los-rotos-flora-no-es-un-canto-a-la-vida',\n",
       "  ' /obra78617-la-teoria-de-los-vidrios-rotos',\n",
       "  ' /obra76572-el-boulevard-de-los-suenos-rotos-una-comedia-de-oficina',\n",
       "  ' /obra73280-el-club-de-los-corazoncitos-rotos',\n",
       "  ' /obra65516-con-los-huevos-rotos',\n",
       "  ' /obra51858-bidegain-y-los-psicopatas-ambulantes-presentan-rocanrotos',\n",
       "  ' /obra41047-bidegain-y-los-psicopatas-ambulantes-presentan-rocanrotos',\n",
       "  ' /obra52491-todo-y-nada-fragmentos-rotos-de-amor-y-un-sueno-espantoso-o-los-restos-de-tito-andronico',\n",
       "  ' /obra26267-la-cena-de-los-crotos',\n",
       "  ' /obra23457-a-donde-van-los-corazones-rotos',\n",
       "  ' /obra18057-la-laguna-de-los-platos-rotos',\n",
       "  ' /obra13035-los-espejos-rotos',\n",
       "  ' /obra68127-los-rotos-de-carla-finco'],\n",
       " ['/obra77136-rota',\n",
       "  ' /obra80094-el-manifiesto-de-las-alas-rotas',\n",
       "  ' /obra79590-trotamundos-y-a-sonar',\n",
       "  ' /obra33830-brotara',\n",
       "  ' /obra73025-la-protagonista',\n",
       "  ' /obra76247-canciones-que-brotan-vol-iii',\n",
       "  ' /obra76245-canciones-que-brotan-vol-ii',\n",
       "  ' /obra76244-canciones-que-brotan-vol-i',\n",
       "  ' /obra76249-canciones-que-brotan-vol-v',\n",
       "  ' /obra76248-canciones-que-brotan-vol-iv',\n",
       "  ' /obra42584-crack-una-rota-comedia-de-amor',\n",
       "  ' /obra71246-derrotas-cadenas-duo-el-balcon',\n",
       "  ' /obra71424-lalo-rotaveria-lee-nestor-perlongher',\n",
       "  ' /obra72261-los-cuatro-dias-de-lorca-leida-por-su-autor-y-protagonista',\n",
       "  ' /obra66013-rotando-stand-up',\n",
       "  ' /obra66555-trotamundos-la-aventura',\n",
       "  ' /obra64210-protagonista',\n",
       "  ' /obra66905-mujer-rota',\n",
       "  ' /obra63795-mujeres-rotas',\n",
       "  ' /obra68342-crack-una-comedia-rota-de-amor',\n",
       "  ' /obra64962-victoria-birchner-brotar',\n",
       "  ' /obra68527-ciclo-de-charlas-los-espectadores-como-protagonistas-en-el-campo-teatral-de-la-ciudad-de-buenos-aires-a-cargo-de-jorge-dubatti',\n",
       "  ' /obra62881-vidriera-me-entusiasme-con-la-referencia-de-lalo-rotaveria',\n",
       "  ' /obra56587-rotativo-de-stand-up-del-galpon',\n",
       "  ' /obra57157-derrotas-cadenas-presentan-huid-mortales',\n",
       "  ' /obra60803-quatrotango',\n",
       "  ' /obra58191-personas-rotas',\n",
       "  ' /obra56357-que-paso-con-lorena-rottatore-sala-6',\n",
       "  ' /obra58963-el-tango-pide-pista-3-quatrotango-ensamble',\n",
       "  ' /obra62496-volver-a-mi-una-charla-intima-con-la-autora-de-rota-se-camina-igual-lorena-pronsky',\n",
       "  ' /obra58811-botis-cromatico-dolores-aguirre-y-julia-ortiz-de-perota-chingo',\n",
       "  ' /obra41767-muneca-rota-policial-sinfonico',\n",
       "  ' /obra45709-la-fiesta-rota-o-la-patria-deshuesada',\n",
       "  ' /obra53634-protagonistas',\n",
       "  ' /obra47382-trotar-pastar-y-dormir',\n",
       "  ' /obra48170-derrotas-cadenas-huid-mortales',\n",
       "  ' /obra50186-la-grotta-di-trofonio',\n",
       "  ' /obra50354-medea-rota',\n",
       "  ' /obra51574-escenas-de-una-fiesta-rota',\n",
       "  ' /obra53780-emilia-envidia-minga-protagonistas',\n",
       "  ' /obra32013-mujer-rota',\n",
       "  ' /obra42718-el-rotativo-porteno',\n",
       "  ' /obra40648-el-protagonista',\n",
       "  ' /obra44085-princesas-rotas',\n",
       "  ' /obra41695-lucila-laske-protangonista',\n",
       "  ' /obra43574-el-hombre-de-la-nariz-rota',\n",
       "  ' /obra40058-la-ausencia-del-dr-stockmann-una-conspiracion-sin-protagonista',\n",
       "  ' /obra31321-trotamundos-y-a-sonar',\n",
       "  ' /obra35061-rota-experiencia-performatica',\n",
       "  ' /obra36904-derrotas-cadenas',\n",
       "  ' /obra34491-el-rotativo-stand-up',\n",
       "  ' /obra34772-casa-rota',\n",
       "  ' /obra35293-flores-rotas',\n",
       "  ' /obra38623-munequita-rota',\n",
       "  ' /obra38560-daucus-carota-subespecie-sativus',\n",
       "  ' /obra37530-soy-solo-derrotas-nunca-la-muerte-de-un-nandu-sono-tan-hermosa',\n",
       "  ' /obra35982-el-pasajero-de-las-flores-rotas',\n",
       "  ' /obra32509-gabinete-ba-ciclo-de-/obras-invitadas-rotativa',\n",
       "  ' /obra29271-de-rotas-cadenas',\n",
       "  ' /obra27829-arisas-stand-up-rotativo',\n",
       "  ' /obra36215-ruido-de-rotas-cadenas',\n",
       "  ' /obra45918-caperucita-rota',\n",
       "  ' /obra44721-un-sudor-que-brota-despacio',\n",
       "  ' /obra78565-garota-paladini',\n",
       "  ' /obra71284-el-protagonista-ante-el-espejo',\n",
       "  ' /obra54453-bancarrota',\n",
       "  ' /obra52098-la-lanza-rota',\n",
       "  ' /obra51520-con-las-alas-rotas',\n",
       "  ' /obra41888-teatro-de-titeres-trotacaminos',\n",
       "  ' /obra73853-ya-no-hay-como-salvar-la-porcelana-rota'],\n",
       " ['/obra37160-artaud',\n",
       "  ' /obra79631-artaud-sesion-teatral',\n",
       "  ' /obra470-artaud',\n",
       "  ' /obra73730-arder-artaud-documental',\n",
       "  ' /obra38609-artaud-1-lengua-madre',\n",
       "  ' /obra27008-antonin-artaud',\n",
       "  ' /obra15539-el-secreto-artaud',\n",
       "  ' /obra6737-artaud-totem',\n",
       "  ' /obra2151-artaud-erinnert-sich-an-hitler-und-das-romanische-cafe',\n",
       "  ' /obra52397-quienes-son-artaud',\n",
       "  ' /obra52314-para-cenar-artaud',\n",
       "  ' /obra45840-artaud-66',\n",
       "  ' /obra67451-parlantes-holofonicos-pescado-rabioso-artaud'],\n",
       " ['/obra74072-ping-pong',\n",
       "  ' /obra59855-ping-pong',\n",
       "  ' /obra48945-ping-pong',\n",
       "  ' /obra62845-zapping-la-trup-zaping-pong',\n",
       "  ' /obra70420-ping-pong-clown',\n",
       "  ' /obra35481-el-robot-ping-pong',\n",
       "  ' /obra33869-pong-ping',\n",
       "  ' /obra26373-pong-ping',\n",
       "  ' /obra10312-pingpong-fuera',\n",
       "  ' /obra44674-el-pingpong'],\n",
       " ['/obra49217-la-savia',\n",
       "  ' /obra73478-savia-sobre-la-mesa',\n",
       "  ' /obra73484-savia-sobre-la-mesa-emergente',\n",
       "  ' /obra76253-la-tango-en-savia',\n",
       "  ' /obra61863-yo-ya-lo-sabia-sala-5',\n",
       "  ' /obra63629-las-mujeres-sabias',\n",
       "  ' /obra53781-yolanda-borra-todo-lo-que-dije-del-amor-porque-no-sabia-bien-quien-era',\n",
       "  ' /obra39334-como-sabias-que-ese-libro-me-lo-regalo-mi-abuela',\n",
       "  ' /obra22635-usted-sabia-que-mattaclark-esta-muerto',\n",
       "  ' /obra13702-papa-derrama-sabias-palabras',\n",
       "  ' /obra12601-la-reina-que-no-sabia-sumar',\n",
       "  ' /obra9945-las-mujeres-sabias',\n",
       "  ' /obra46973-las-mujeres-sabias',\n",
       "  ' /obra10048-las-mujeres-sabias'],\n",
       " ['/obra54145-esa-nina',\n",
       "  ' /obra61498-estan-lloviendo-hombres-esa-nina',\n",
       "  ' /obra74282-esas-voces-femeninas',\n",
       "  ' /obra34863-la-nina-el-diablo-y-la-princesa',\n",
       "  ' /obra38076-esa-nina'],\n",
       " ['/obra80453-optimista-inestable',\n",
       "  ' /obra72683-que-ordenador-el-bahiut',\n",
       "  ' /obra2123-inestable',\n",
       "  ' /obra37430-inestable-sutottos',\n",
       "  ' /obra63141-tablao-inestable',\n",
       "  ' /obra74339-l-aniversari-teatro-de-lo-inestable',\n",
       "  ' /obra67940-los-inestables-de-siempre',\n",
       "  ' /obra56509-inestables',\n",
       "  ' /obra62242-inestable-realidad',\n",
       "  ' /obra61477-inestable-pire-saint-quentin',\n",
       "  ' /obra62878-fiesta-fin-de-ano-del-refugio-tocan-inestable-capuccino-billy-lampazo-blues',\n",
       "  ' /obra40355-poeticas-inestables',\n",
       "  ' /obra37005-la-orquesta-inestable-presenta-bambalinas',\n",
       "  ' /obra32891-orquesta-inestable',\n",
       "  ' /obra24298-elenco-inestable-stand-up',\n",
       "  ' /obra27992-consorcio-inestable'],\n",
       " ['/obra56873-las-amargas-lagrimas-de-petra-von-kant',\n",
       "  ' /obra65802-las-amargas-lagrimas-de-petra-von-kant',\n",
       "  ' /obra55108-las-amargas-lagrimas-de-petra-von-kant',\n",
       "  ' /obra14229-las-amargas-lagrimas-de-petra-von-kant',\n",
       "  ' /obra3475-las-amargas-lagrimas-de-petra-von-kant'],\n",
       " ['/obra59917-juicio-a-una-zorra',\n",
       "  ' /obra37868-juicio-a-una-zorra',\n",
       "  ' /obra67643-festival-teatroxlaidentidad-juicio-a-una-zorra',\n",
       "  ' /obra59916-work-in-progress-juicio-a-una-zorra'],\n",
       " ['/obra79831-el-nino-pez-y-el-sueno-de-negras-alas',\n",
       "  ' /obra77297-negra-chagra-el-tierral-la-casimiro-brass',\n",
       "  ' /obra78855-yo-negra',\n",
       "  ' /obra78072-flores-negras-presenta-maldito-tango',\n",
       "  ' /obra78534-jirones-de-una-estrella-negra',\n",
       "  ' /obra77815-canciones-del-fin-del-mundo-negra-chagra-y-claudia-tomas',\n",
       "  ' /obra77693-jacara-para-un-picaro-o-la-espana-negra',\n",
       "  ' /obra74117-negracha-entre-empanadas-y-vino',\n",
       "  ' /obra76425-mi-negra-modelo',\n",
       "  ' /obra74935-la-caja-negra-argentina-amigometro',\n",
       "  ' /obra75479-la-helada-negra',\n",
       "  ' /obra76287-pena-el-patio-de-la-negra',\n",
       "  ' /obra61391-bestia-negra',\n",
       "  ' /obra67652-selva-negra',\n",
       "  ' /obra70782-luz-negra',\n",
       "  ' /obra72930-hojas-negras',\n",
       "  ' /obra72760-cocarda-negra',\n",
       "  ' /obra70196-la-mano-negra',\n",
       "  ' /obra72399-la-caja-negra-argentina-covinculos',\n",
       "  ' /obra72122-la-caja-negra-argentina-historias-para-viajar',\n",
       "  ' /obra51080-noelia-moncada-encanto-negra',\n",
       "  ' /obra59800-no-es-pais-para-negras-ii',\n",
       "  ' /obra67020-3-negras-absurdas',\n",
       "  ' /obra68333-noche-negra-/obras-cortas-del-negro-fontanarrosa',\n",
       "  ' /obra65453-ovejas-negras',\n",
       "  ' /obra70628-lengua-negra',\n",
       "  ' /obra67559-la-caja-negra-argentina-ay-amor',\n",
       "  ' /obra65825-la-caja-negra',\n",
       "  ' /obra68331-simon-boccanegra',\n",
       "  ' /obra65080-compania-oveja-negra-presenta-escrito-en-el-cuerpo',\n",
       "  ' /obra52857-isla-negra',\n",
       "  ' /obra63685-negra-negra-negra-soy',\n",
       "  ' /obra62214-la-negra-chagra',\n",
       "  ' /obra58976-refugio-mestizo-negra-santa-sisa-reggae-la-fogonera',\n",
       "  ' /obra57964-virgen-de-manos-negras',\n",
       "  ' /obra60088-conoce-la-musica-negra-directamente-desde-nyc-solo-una-noche',\n",
       "  ' /obra57192-cantos-de-mi-tierra-negra',\n",
       "  ' /obra61016-noelia-moncada-encanto-negra-y-tangos-encantados',\n",
       "  ' /obra53657-las-negras',\n",
       "  ' /obra54201-narices-negras',\n",
       "  ' /obra53057-cristal-tinta-negra',\n",
       "  ' /obra49611-la-organizacion-negra-ejercicio-documental',\n",
       "  ' /obra47835-opus-cuatro-y-pimienta-negra',\n",
       "  ' /obra50325-el-caso-del-hombre-de-la-valija-negra',\n",
       "  ' /obra70869-simon-boccanegra',\n",
       "  ' /obra70946-el-gato-de-amarilla-whisky-vodka-y-perfume-de-rosas-negras',\n",
       "  ' /obra65151-historieta-negra',\n",
       "  ' /obra70645-misa-negra',\n",
       "  ' /obra63677-la-rosa-negra',\n",
       "  ' /obra65060-luz-negra',\n",
       "  ' /obra56540-farsa-cruel-y-bastante-negra-del-senor-lazaro-y-su-suerte-perra',\n",
       "  ' /obra53417-comedia-negra',\n",
       "  ' /obra51980-simon-bocanegra',\n",
       "  ' /obra47634-romance-de-la-nina-negra',\n",
       "  ' /obra48118-el-sueno-en-la-capilla-de-glesstorn-o-lafantasma-de-la-roca-negra',\n",
       "  ' /obra49028-bandera-negra',\n",
       "  ' /obra48969-cristiano-o-las-mascaras-negras',\n",
       "  ' /obra48336-la-negra-zinda',\n",
       "  ' /obra70781-luz-negra',\n",
       "  ' /obra50106-tinta-negra',\n",
       "  ' /obra67788-tinta-negra',\n",
       "  ' /obra50776-la-mano-negra',\n",
       "  ' /obra50300-andante-negra-en-104',\n",
       "  ' /obra72739-lagrimas-negras-para-mima',\n",
       "  ' /obra59988-la-linea-negra',\n",
       "  ' /obra55905-la-hormiga-negra',\n",
       "  ' /obra62997-lilith-luna-negra',\n",
       "  ' /obra77459-las-lagrimas-negras-de-santita-monjardin',\n",
       "  ' /obra57172-el-romance-de-la-negra-rubia',\n",
       "  ' /obra48140-el-conde-geraldo-el-proscripto-o-el-hombre-de-la-selva-negra'],\n",
       " ['/obra64648-edipo-rey',\n",
       "  ' /obra52948-edipo-rey',\n",
       "  ' /obra31718-edipo-rey',\n",
       "  ' /obra29496-edipo-rey',\n",
       "  ' /obra20735-edipo-rey',\n",
       "  ' /obra4684-edipo-rey',\n",
       "  ' /obra11488-edipo-rey',\n",
       "  ' /obra12114-edipo-rey',\n",
       "  ' /obra44070-edipo-rey',\n",
       "  ' /obra43831-edipo-rey',\n",
       "  ' /obra46795-edipo-rey',\n",
       "  ' /obra46567-edipo-rey',\n",
       "  ' /obra70336-jose-abadi-intimo-habia-una-vez-edipo-rey',\n",
       "  ' /obra65189-ediporey-trap-twitter-y-posverdad',\n",
       "  ' /obra2050-edipo-rey-de-hungria'],\n",
       " ['/obra76202-los-secretos',\n",
       "  ' /obra79202-hugo-lescano-el-detector-de-mentiras-los-secretos-del-lenguaje-corporal',\n",
       "  ' /obra66610-los-secretos-de-la-abuela-gertrudis',\n",
       "  ' /obra38587-claudio-y-caligula-los-secretos-del-fuego',\n",
       "  ' /obra51272-los-secretos-de-la-abuela',\n",
       "  ' /obra54997-la-tirania-de-los-secretos',\n",
       "  ' /obra36706-los-secretos-de-scherezade',\n",
       "  ' /obra30385-los-secretos-de-afrodita',\n",
       "  ' /obra30276-el-cofre-de-los-secretos',\n",
       "  ' /obra18210-los-secretos-de-la-casa',\n",
       "  ' /obra13662-todos-los-secretos',\n",
       "  ' /obra45687-los-oscuros-secretos'],\n",
       " ['/obra80279-compania',\n",
       "  ' /obra79771-companias-populares-argentinas',\n",
       "  ' /obra76335-compania',\n",
       "  ' /obra78185-compania',\n",
       "  ' /obra75155-compania',\n",
       "  ' /obra68485-compania',\n",
       "  ' /obra64698-compania',\n",
       "  ' /obra56378-compania',\n",
       "  ' /obra51765-compania',\n",
       "  ' /obra78954-compania-artistica-clasica-del-sur-ciclo-contemporanexs',\n",
       "  ' /obra79654-compania-galalirica-show-presenta-te-lirico-a-la-carta',\n",
       "  ' /obra79444-la-popular-compania-de-danzas-presenta-amba-area-multipopular-por-bailarines-argentos',\n",
       "  ' /obra77774-el-peligro-de-las-buenas-companias',\n",
       "  ' /obra76409-compania-de-danza-de-las-trincheras',\n",
       "  ' /obra74063-compania-poco-punk-presenta-un-bosque-al-reves-ft-chipa-chipa',\n",
       "  ' /obra76034-compania-de-opera-alma-viva-presenta-opera-don-pasquale',\n",
       "  ' /obra65057-quebochinche-compania-teatral-la-patrulla-italiana',\n",
       "  ' /obra70803-companias-populares-argentinas-marzo',\n",
       "  ' /obra71023-flamenco-compania',\n",
       "  ' /obra70146-concierto-viii-compania-oblicua',\n",
       "  ' /obra71233-5-aniversario-de-la-compania-teatral-siete-colores-diversidad',\n",
       "  ' /obra73472-muestra-de-teatro-musical-compania-bicicleta-musical',\n",
       "  ' /obra46478-compania-de-tango-de-la-una',\n",
       "  ' /obra52683-la-margarita-compania-golondrinas-de-yeso',\n",
       "  ' /obra59782-compania-prisma-visto-bueno',\n",
       "  ' /obra58849-paseo-para-titeres-y-orquesta-cuarteto-polok-y-compania-pole-pole',\n",
       "  ' /obra69438-companias-populares-argentinasviernes-2911',\n",
       "  ' /obra63969-companias-populares-argentinas',\n",
       "  ' /obra68288-compania-de-danza-de-las-trincheras-presenta-migajas',\n",
       "  ' /obra67418-companias-populares-argentinas-septiembre',\n",
       "  ' /obra66893-companias-populares-argentinas',\n",
       "  ' /obra65452-companias-populares-argentinas',\n",
       "  ' /obra65080-compania-oveja-negra-presenta-escrito-en-el-cuerpo',\n",
       "  ' /obra69058-companias-populares-argentinas-noviembre',\n",
       "  ' /obra71484-samsara-compania-indance',\n",
       "  ' /obra66914-perez-y-compania',\n",
       "  ' /obra64744-ciclo-teatro-breve-compania-simiento',\n",
       "  ' /obra69583-final-contemporaneo-compania-universitaria-de-danza-unsam-compania-de-danza-de-la-una',\n",
       "  ' /obra68295-ballet-folklorico-y-compania-de-tango-de-la-una',\n",
       "  ' /obra63896-lorena-astudillo-en-compania',\n",
       "  ' /obra63584-the-shakesperean-tour-de-la-compania-parafernalia-teatro',\n",
       "  ' /obra51142-akasha-compania-indance',\n",
       "  ' /obra60185-compania-danza-argentina-opera-prima',\n",
       "  ' /obra63039-compania-nacional-de-danza-contemporanea',\n",
       "  ' /obra61364-compania-nacional-de-danza-contemporanea',\n",
       "  ' /obra61362-compania-de-tango-folklore-de-la-universidad-nacional-de-arte-una',\n",
       "  ' /obra58262-raza-compania-de-danza-presenta-pop',\n",
       "  ' /obra60983-ego-compania-absoluto',\n",
       "  ' /obra57870-vivencias-en-compania',\n",
       "  ' /obra62744-gala-de-ballet-2018-de-la-compania-ferrazzano',\n",
       "  ' /obra60034-la-cena-de-los-espectros-cautivos-por-compania-revolt',\n",
       "  ' /obra61363-gala-semda-propuestas-breves-de-distintos-grupos-y-companias',\n",
       "  ' /obra61499-cautivos-callejones-sobre-poemas-de-lovecraft-por-compania-revolt',\n",
       "  ' /obra44764-afo-compania-coral-del-mundo',\n",
       "  ' /obra53686-compania-coroteatral',\n",
       "  ' /obra51397-compania-de-danza-de-la-una-unanochedebaile',\n",
       "  ' /obra54410-compania-cuarto-intermedio-sinfonia-para-un-sueno-fall-o-la-aproximacion-de-caer',\n",
       "  ' /obra51012-compania-cuarto-intermedio-boceto-de-carmina-de-la-torre-aire-de-facundo-bustamante',\n",
       "  ' /obra51899-compania-cuarto-intermedio-ciclo-1-danza-fecha-15-de-julio',\n",
       "  ' /obra51892-compania-cuarto-intermedio-ciclo-1-danza-fecha-8-de-julio',\n",
       "  ' /obra50108-tres-360-compania-360',\n",
       "  ' /obra54119-grupo-alma-compania-de-danza-integradora-festeja-sus-20-anos-dejando-huellas',\n",
       "  ' /obra41964-hurgo-compania-de-escuela-presenta-las-que-van-nocturna',\n",
       "  ' /obra42419-pablo-basez-la-compania-electrica',\n",
       "  ' /obra63842-la-compania-del-circo-magico',\n",
       "  ' /obra61897-gran-compania-de-comedias-musicales-jenny-lovitz',\n",
       "  ' /obra47582-compania-de-mimo-lemir',\n",
       "  ' /obra62378-dulce-compania',\n",
       "  ' /obra75243-abismal-compania-de-teatro-experimento-pierrot-cl',\n",
       "  ' /obra71514-el-padre-el-hijo-y-compania'],\n",
       " ['/obra37360-las-ideas',\n",
       "  ' /obra57038-aca-mueren-las-ideas',\n",
       "  ' /obra62500-marcha-cuando-las-ideas-no-se-matan',\n",
       "  ' /obra67843-la-musica-de-las-ideas',\n",
       "  ' /obra21865-en-el-salon-de-las-ideas-abriendo-ventanas',\n",
       "  ' /obra18695-a-poner-en-orden-las-ideas',\n",
       "  ' /obra6716-del-color-de-las-orquideas-thriller-navideno'],\n",
       " ['/obra42975-la-rabia',\n",
       "  ' /obra47466-la-valentina-rancho-ska-skalapepa-la-rabia',\n",
       "  ' /obra8301-vuelve-la-rabia',\n",
       "  ' /obra77796-filomena-y-timotea-narraviajeras-de-la-fantasia-una-/obra-en-lengua-de-senas-argentina-y-audio-en-simultaneo',\n",
       "  ' /obra71332-la-traviata',\n",
       "  ' /obra64530-la-traviata',\n",
       "  ' /obra64455-la-traviata',\n",
       "  ' /obra67623-la-traviata',\n",
       "  ' /obra65874-la-traviata-verdi',\n",
       "  ' /obra65795-la-traviata',\n",
       "  ' /obra62707-the-met-hd-en-vivo-la-traviata',\n",
       "  ' /obra49075-la-traviata-met-live-hd-metropolitan-opera-de-nueva-york-diferido',\n",
       "  ' /obra53518-la-traviata',\n",
       "  ' /obra51869-ciclo-de-opera-la-traviata',\n",
       "  ' /obra51016-la-traviata',\n",
       "  ' /obra38538-bravias-un-shakespeare-para-mujeres-solas-con-mascota',\n",
       "  ' /obra41425-la-traviata',\n",
       "  ' /obra27486-la-extraviada',\n",
       "  ' /obra35964-la-traviata',\n",
       "  ' /obra35505-la-traviata-alternativa',\n",
       "  ' /obra28203-la-traviata',\n",
       "  ' /obra30397-la-traviata',\n",
       "  ' /obra30145-don-quijote-la-traviata',\n",
       "  ' /obra15926-la-traviata',\n",
       "  ' /obra15263-la-traviata',\n",
       "  ' /obra15109-la-traviata',\n",
       "  ' /obra15419-la-traviata',\n",
       "  ' /obra6287-la-noche-de-los-extraviados',\n",
       "  ' /obra8987-la-traviata',\n",
       "  ' /obra7928-la-traviata-y-madama-butterfly',\n",
       "  ' /obra6122-la-traviata',\n",
       "  ' /obra72214-la-traviata',\n",
       "  ' /obra55377-la-traviata',\n",
       "  ' /obra51977-la-traviata',\n",
       "  ' /obra52707-la-rabia',\n",
       "  ' /obra78426-la-rabia',\n",
       "  ' /obra49253-la-traviata'],\n",
       " ['/obra77605-teodoro-y-el-robot-sin-nombre',\n",
       "  ' /obra53328-el-nombre',\n",
       "  ' /obra78965-el-nombre',\n",
       "  ' /obra76133-el-nombre',\n",
       "  ' /obra56898-el-nombre',\n",
       "  ' /obra60204-el-nombre',\n",
       "  ' /obra36400-el-nombre',\n",
       "  ' /obra31063-el-nombre',\n",
       "  ' /obra17694-el-nombre',\n",
       "  ' /obra17931-el-nombre',\n",
       "  ' /obra12681-el-nombre',\n",
       "  ' /obra5299-el-nombre',\n",
       "  ' /obra4561-el-nombre',\n",
       "  ' /obra427-el-nombre',\n",
       "  ' /obra52024-en-el-nombre-de-maria',\n",
       "  ' /obra78469-del-nombre-de-los-sentimientos',\n",
       "  ' /obra70078-por-el-nombre-del-padre',\n",
       "  ' /obra64790-nn-el-nombre-justo-que-me-reserva-la-ciencia',\n",
       "  ' /obra63530-distrito-xvii-paris-el-nombre',\n",
       "  ' /obra59462-gambaro-mas-gambaro-el-nombre-acuerdo-para-cambiar-de-casa',\n",
       "  ' /obra42621-el-nombre-de-la-luna',\n",
       "  ' /obra53940-el-nombre-del-error-sala-2',\n",
       "  ' /obra45858-el-nombre-del-mundo-es-noche',\n",
       "  ' /obra42513-no-diras-el-nombre-del-sr-perez-en-vano',\n",
       "  ' /obra34670-en-el-nombre-de-juana',\n",
       "  ' /obra35003-vos-sabes-que-el-nombre',\n",
       "  ' /obra31381-del-nombre-de-los-sentimientos',\n",
       "  ' /obra24491-el-nombre-de-maria-sol',\n",
       "  ' /obra23070-el-nombre-del-olvido',\n",
       "  ' /obra22986-en-el-nombre-de-raquel',\n",
       "  ' /obra28235-el-nombre-de-las-cosas',\n",
       "  ' /obra22833-lo-que-se-cifra-en-el-nombre',\n",
       "  ' /obra18957-tribunales-en-el-nombre-del-pueblo',\n",
       "  ' /obra9823-todos-los-miedos-no-tomaras-el-nombre-de-dios-en-vano',\n",
       "  ' /obra6101-el-nombre-otros-tangos-2',\n",
       "  ' /obra6015-en-el-nombre-de-mi-sangre',\n",
       "  ' /obra1610-en-el-nombre-del-nombre',\n",
       "  ' /obra77418-esos-nombres-tan-mal-puestos-el-dragon-y-la-mariposa',\n",
       "  ' /obra72250-en-nombre-del-arte',\n",
       "  ' /obra73498-el-hombre-sin-nombre',\n",
       "  ' /obra61905-lectura-de-cuentos-para-ninos-adolescentes-y-adultos-nombre-del-libro-13-relatos-contra-el-bullying-ciberbullying-y-mobbing-e-ideas-concretas-para-combatirlos',\n",
       "  ' /obra32595-las-cosas-por-su-nombre-la-venganza-del-negro',\n",
       "  ' /obra19335-amanda-o-el-vicio-de-los-sin-nombre',\n",
       "  ' /obra25800-el-que-borra-los-nombres',\n",
       "  ' /obra22339-el-que-borra-los-nombres',\n",
       "  ' /obra13801-mi-nombre-es-rachel-corrie',\n",
       "  ' /obra9661-el-que-borra-los-nombres',\n",
       "  ' /obra381-el-que-borra-los-nombres',\n",
       "  ' /obra16444-el-nombre',\n",
       "  ' /obra23658-el-nombre',\n",
       "  ' /obra21066-el-nombre',\n",
       "  ' /obra34103-el-nombre',\n",
       "  ' /obra65093-el-nombre-del-mono',\n",
       "  ' /obra43903-vos-sabes-que-el-nombre-escena',\n",
       "  ' /obra19480-gran-nariz-y-el-rey-de-los-seiscientos-nombres',\n",
       "  ' /obra54486-el-hombre-que-perdio-su-nombre',\n",
       "  ' /obra11843-el-que-borra-los-nombres',\n",
       "  ' /obra74641-el-secreto-de-tu-nombre'],\n",
       " ['/obra76295-rasgo-personal',\n",
       "  ' /obra74592-dimensiones-el-unipersonal',\n",
       "  ' /obra80178-personas-que-se-encuentran-en-lugares',\n",
       "  ' /obra78865-tomas-sarquis-unipersonal',\n",
       "  ' /obra80187-sebastian-emilio-lucia-diario-personal-sin-palabras',\n",
       "  ' /obra25509-la-mujer-puerca',\n",
       "  ' /obra25225-i-love-stand-up-stand-up-show',\n",
       "  ' /obra20454-bastarda-sin-nombre',\n",
       "  ' /obra28963-potestad',\n",
       "  ' /obra41658-hijo-del-campo',\n",
       "  ' /obra12047-dona-rosita-la-soltera-o-el-lenguaje-de-las-flores',\n",
       "  ' /obra59449-cafe-chaman',\n",
       "  ' /obra74934-lacrima-rapsodia-para-un-infante',\n",
       "  ' /obra70530-una',\n",
       "  ' /obra70118-algo-de-ricardo',\n",
       "  ' /obra69903-tiapatria',\n",
       "  ' /obra65478-gertrudis',\n",
       "  ' /obra65272-kabaret-elektro-pank',\n",
       "  ' /obra74553-todo-por-ver-el-mar',\n",
       "  ' /obra73924-inmaculada-concepcion-una-mujer-italiana',\n",
       "  ' /obra78816-peroncho-en-vivo',\n",
       "  ' /obra75828-julius',\n",
       "  ' /obra75314-martin-cirio-el-mundo-de-la-faraona',\n",
       "  ' /obra76500-entre-nosotros-humor-consentido',\n",
       "  ' /obra76453-idem-non-sum-idem',\n",
       "  ' /obra77827-la-descamisada-evita-y-vos-frente-a-frente',\n",
       "  ' /obra80157-el-bien',\n",
       "  ' /obra80054-felicitas-o-las-ninas-mudas',\n",
       "  ' /obra80031-moribundos',\n",
       "  ' /obra79925-juanas-de-fuego',\n",
       "  ' /obra79840-malambo',\n",
       "  ' /obra80453-optimista-inestable',\n",
       "  ' /obra78843-santiago-lo-que-puedo',\n",
       "  ' /obra80385-todo-lo-que-tengo-que-hacer-para-estar-aca',\n",
       "  ' /obra78772-como-te-digo-una-cosa-te-digo-la-otra',\n",
       "  ' /obra78721-morir-en-carne-viva',\n",
       "  ' /obra74014-el-unipersonal-de-luciano-mellera',\n",
       "  ' /obra74297-carne-de-consumo-personal',\n",
       "  ' /obra77400-personas-haciendo-cosas',\n",
       "  ' /obra78985-lea-pannunzio-unipersonal',\n",
       "  ' /obra78782-pablo-picotto-stand-up-y-personajes',\n",
       "  ' /obra79364-fuera-de-foco-producciones-personales',\n",
       "  ' /obra69203-seis-personajes-en-busca-de-autor',\n",
       "  ' /obra75117-personaje',\n",
       "  ' /obra76785-persona-sola',\n",
       "  ' /obra76597-unipersonales-por-nacer-eli-trimarchi',\n",
       "  ' /obra76044-unipersonales-por-nacer-stand-up-nadia-chiaramoni',\n",
       "  ' /obra76699-unipersonales-demostracion-escuela-de-la-zancada',\n",
       "  ' /obra76320-andando-unipersonal-viajero-de-clown',\n",
       "  ' /obra75246-ciclo-de-unipersonales-vol-iv-el-bondi-creaciones',\n",
       "  ' /obra76843-dicese-de-la-persona-cuyo-conyuge-ha-muerto',\n",
       "  ' /obra76763-deshojado-unipersonal-de-un-actor-ciego',\n",
       "  ' /obra72819-facfolc-un-manto-de-neblina-unipersonal-en-streaming',\n",
       "  ' /obra72412-persona-libro',\n",
       "  ' /obra72610-personal-trainer',\n",
       "  ' /obra73121-interpersonal',\n",
       "  ' /obra72726-ciclo-de-unipersonales-vol-iii-el-bondi-creaciones-funcion-2-2609',\n",
       "  ' /obra72725-ciclo-de-unipersonales-vol-iii-el-bondi-creaciones-funcion-3-310',\n",
       "  ' /obra72724-ciclo-de-unipersonales-vol-iii-el-bondi-creaciones-funcion-1-1909',\n",
       "  ' /obra73438-dicese-de-una-persona-cuyo-conyuge-ha-muerto',\n",
       "  ' /obra72824-quebrada-el-unipersonal-poetico-de-vir-sammartino',\n",
       "  ' /obra71953-ciclo-tu-fuente-personal',\n",
       "  ' /obra70611-fernando-ramirez-uno-y-personal',\n",
       "  ' /obra70662-no-sos-vos-soy-yo-unimediopersonal',\n",
       "  ' /obra68044-unipersonal-e-intransferible',\n",
       "  ' /obra69342-de-visita-lara-ricote-un-unipersonal',\n",
       "  ' /obra72000-una-busqueda-personal-sobre-la-decada-del-80',\n",
       "  ' /obra72651-razones-personales',\n",
       "  ' /obra71316-la-buena-persona-de-sechuan',\n",
       "  ' /obra68783-la-mirada-o-el-rio-al-que-las-personas-se-arrojan-a-un-pozo'],\n",
       " ['/obra58639-la-respiracion',\n",
       "  ' /obra76214-quitame-la-respiracion',\n",
       "  ' /obra71466-teatro-online-la-respiracion',\n",
       "  ' /obra14058-la-respiracion-del-vacio-trash'],\n",
       " ['/obra68084-turba',\n",
       "  ' /obra77737-perturbados',\n",
       "  ' /obra65179-turba-laura-sbdar-espacio-aforo',\n",
       "  ' /obra33098-turbados-que-nunca',\n",
       "  ' /obra14840-perturbados-entre-lilas',\n",
       "  ' /obra6501-perturbaciones',\n",
       "  ' /obra42109-turbamento',\n",
       "  ' /obra57821-disturbanismo-y-anartismo'],\n",
       " ['/obra75314-martin-cirio-el-mundo-de-la-faraona',\n",
       "  ' /obra40840-farra',\n",
       "  ' /obra66859-la-fachalfarra',\n",
       "  ' /obra77807-farra-el-ritual-de-la-risa',\n",
       "  ' /obra79065-chuka-hurtado-mili-maine-y-mila-farras',\n",
       "  ' /obra76604-farah-xvii-muestra-anual-de-alumnas',\n",
       "  ' /obra66374-la-faraona',\n",
       "  ' /obra67257-el-show-de-la-faraona',\n",
       "  ' /obra65434-duo-lerner-moguilevsky-klezfarad',\n",
       "  ' /obra70012-micro-teatro-zafarrancho-de-humor-y-esas-cosas',\n",
       "  ' /obra40120-bufarra-carne-a-la-parrilla',\n",
       "  ' /obra65507-la-gran-farandula',\n",
       "  ' /obra69638-el-show-de-la-faraona-especial-fin-de-ana',\n",
       "  ' /obra63350-lerner-moguilevsky-klezfarad',\n",
       "  ' /obra68351-ciclo-todo-concuerda-teagan-faran-bruno-dambrosio-canciones-de-nuestro-pueblo',\n",
       "  ' /obra63384-lecturas-a-cielo-abierto-i-acevedo-ariel-farace-jacqueline-golbert-iosi-havilio',\n",
       "  ' /obra58172-ciclo-montana-rusa-lernermoguilevsky-duo-klezsfarad',\n",
       "  ' /obra52580-la-faraona-coleccion-2017-alta-costura-en-trajes-de-danzas',\n",
       "  ' /obra52055-hay-farra-en-la-kermesse',\n",
       "  ' /obra49528-la-corte-de-faraon',\n",
       "  ' /obra40116-payafufara',\n",
       "  ' /obra39767-el-butifarra',\n",
       "  ' /obra21545-lejos-lontano-faraway',\n",
       "  ' /obra26409-ramses-ii-faraon-de-faraones',\n",
       "  ' /obra23850-la-corte-del-faraon',\n",
       "  ' /obra112-el-variete-del-farabute',\n",
       "  ' /obra13815-comedy-bar-del-farabute',\n",
       "  ' /obra21401-magia-y-humor-en-el-farabute',\n",
       "  ' /obra12652-coplas-zarzuelas-y-la-corte-del-faraon',\n",
       "  ' /obra2844-la-corte-de-faraon',\n",
       "  ' /obra49897-hoy-la-corte-de-faraon-hoy',\n",
       "  ' /obra65327-la-corte-de-faraon',\n",
       "  ' /obra56805-la-corte-del-faraon',\n",
       "  ' /obra58823-buti-farras-en-el-maipo',\n",
       "  ' /obra58695-los-reyes-de-la-farandula',\n",
       "  ' /obra60279-la-farandula-en-villa-lechuga',\n",
       "  ' /obra47962-la-farandula-de-villa-lechuga',\n",
       "  ' /obra69437-cuando-un-padre-va-de-farra',\n",
       "  ' /obra47210-farras-carnavalescas',\n",
       "  ' /obra3077-desde-la-reices-sefaradies-a-los-folclores-del-mundo',\n",
       "  ' /obra3111-desde-las-raices-sefaradies-los-folclores-del-mundo',\n",
       "  ' /obra70230-banda-caminantes-zafarrancho'],\n",
       " ['/obra51040-proximo',\n",
       "  ' /obra71612-teatro-online-proximo',\n",
       "  ' /obra72900-el-futuro-cercano-desafios-de-los-proximos-6-meses',\n",
       "  ' /obra60795-el-proximo-verano',\n",
       "  ' /obra66624-mi-proximo-ex',\n",
       "  ' /obra65275-el-proximo-domingo',\n",
       "  ' /obra32660-teatro-proximo',\n",
       "  ' /obra32676-todos-los-jueves-hasta-el-proximo-jueves',\n",
       "  ' /obra21513-el-proximo-domingo',\n",
       "  ' /obra15168-el-proximo-domingo',\n",
       "  ' /obra12064-alguien-proximo',\n",
       "  ' /obra468-el-proximo-minuto',\n",
       "  ' /obra70934-hasta-el-proximo-verano',\n",
       "  ' /obra11775-seis-propuestas-para-el-proximo-milenio'],\n",
       " ['/obra67171-los-miedos',\n",
       "  ' /obra54382-cuiqui-el-mundo-de-los-miedos',\n",
       "  ' /obra77698-los-miedos-de-anita',\n",
       "  ' /obra76546-noviembre-los-miedos-sobre-la-mesa',\n",
       "  ' /obra52359-la-princesa-azulada-la-valiente-de-los-miedos',\n",
       "  ' /obra16267-todos-los-miedos',\n",
       "  ' /obra9823-todos-los-miedos-no-tomaras-el-nombre-de-dios-en-vano'],\n",
       " ['/obra48490-la-terquedad',\n",
       "  ' /obra75062-la-terquedad-de-las-cucarachas',\n",
       "  ' /obra48985-la-terquedad-de-las-cucarachas',\n",
       "  ' /obra41410-piedra-mojada-o-la-terquedad'],\n",
       " ['/obra66024-karamazov',\n",
       "  ' /obra25033-karamazov',\n",
       "  ' /obra59434-los-hermanos-karamazov',\n",
       "  ' /obra8375-karamazov'],\n",
       " ['/obra59570-petroleo',\n",
       "  ' /obra59606-petroleo',\n",
       "  ' /obra18724-petroleo',\n",
       "  ' /obra41504-los-grandes-exitos-de-yaco-ruben-y-las-trillizas-de-petroleo',\n",
       "  ' /obra21432-azul-petroleo',\n",
       "  ' /obra44709-el-cuento-del-petroleo',\n",
       "  ' /obra44715-buscando-raices-buscando-petroleo',\n",
       "  ' /obra52541-chorros-de-petroleo',\n",
       "  ' /obra71278-chorros-de-petroleo'],\n",
       " ['/obra79789-el-mecanismo-de-alaska',\n",
       "  ' /obra75405-la-meca',\n",
       "  ' /obra54244-la-mecanica-de-la-carne',\n",
       "  ' /obra14108-la-mecanica-del-sol',\n",
       "  ' /obra14651-105-pasos-o-la-mecanica-de-la-carne',\n",
       "  ' /obra2223-el-camino-a-la-meca',\n",
       "  ' /obra74698-la-naranja-mecanica-el-musical',\n",
       "  ' /obra70714-molly-mecanica-singular',\n",
       "  ' /obra62944-la-naranja-mecanica',\n",
       "  ' /obra57563-mecanocracias-ciclo-escenico-autorregulado',\n",
       "  ' /obra40204-tiper-tap-mecanografas-tituladas',\n",
       "  ' /obra30985-la-mandarina-mecanica',\n",
       "  ' /obra32408-la-palabra-mecanica-parte-i-think-big',\n",
       "  ' /obra24710-mecanismos-de-erosion-para-la-tempestad-de-shakespeare',\n",
       "  ' /obra13846-lazo-mecanico-familiar',\n",
       "  ' /obra7670-la-comedia-mecanica',\n",
       "  ' /obra9138-la-cuna-mecanica',\n",
       "  ' /obra3285-lazo-mecanico-familiar',\n",
       "  ' /obra50701-la-banana-mecanica'],\n",
       " ['/obra58470-lo-salvaje',\n",
       "  ' /obra59319-la-plaza-de-los-ponys-salvajes-miniatura-teatral-hecha-con-poesia',\n",
       "  ' /obra60169-lucio-mantel-ciclo-raiz-salvaje',\n",
       "  ' /obra48800-la-noche-de-los-corazones-salvajes',\n",
       "  ' /obra51703-los-salvajes',\n",
       "  ' /obra66874-solo-el-ganso-salvaje'],\n",
       " ['/obra80294-toch-en-el-galpon-de-haedo',\n",
       "  ' /obra76872-estocolmo-mon-amour',\n",
       "  ' /obra76124-fantoche-herido',\n",
       "  ' /obra78167-todavia-cantamos-y-tocamos',\n",
       "  ' /obra77153-con-un-toque-de-rubor',\n",
       "  ' /obra79597-irupe-la-nina-que-queria-tocar-la-luna',\n",
       "  ' /obra78658-estocolmo',\n",
       "  ' /obra67441-tina-modotti-a-mi-patria-te-llevo-para-que-no-te-toquen',\n",
       "  ' /obra72940-se-largo-y-metimos-la-fiesta-dentro-no-toques-timbre-porque-no-funciona',\n",
       "  ' /obra76642-emiliana-piccini-toca-inventario-en-vivo',\n",
       "  ' /obra76018-la-orquesta-tipica-de-rojo-tango-toca-en-cafe-de-los-angelitos',\n",
       "  ' /obra75687-reflejos-en-el-tocador',\n",
       "  ' /obra75671-trio-spatocco-canepa-furio',\n",
       "  ' /obra74508-son-pololos-vedette-motochorras',\n",
       "  ' /obra74044-toque-de-quena',\n",
       "  ' /obra76411-cooky-galleta-con-un-show-super-copado-superprotocolado',\n",
       "  ' /obra76242-los-intocables-show-en-vivo',\n",
       "  ' /obra60426-protocolo-cabrera',\n",
       "  ' /obra56932-toque-de-queda',\n",
       "  ' /obra66768-tokio-leva',\n",
       "  ' /obra66294-desenchufados-teatro-al-toque',\n",
       "  ' /obra71578-festivalito-lala-y-el-toque-toque',\n",
       "  ' /obra71473-hector-romero-toca-en-vivo-en-facebook',\n",
       "  ' /obra73109-el-dia-que-me-enamore-de-morir-protocolo-de-espera-en-el-segundo-piso',\n",
       "  ' /obra73108-protocole-de-la-sororite',\n",
       "  ' /obra73104-protocolo-arreit',\n",
       "  ' /obra73702-todo-lo-que-toco-se-convierte-en-basura',\n",
       "  ' /obra72803-con-toque-de-diva',\n",
       "  ' /obra57991-tocando-al-frente',\n",
       "  ' /obra57508-estocolmo',\n",
       "  ' /obra61934-un-toque-de-conventillo',\n",
       "  ' /obra67368-tuncha-toki',\n",
       "  ' /obra67176-tokio',\n",
       "  ' /obra66899-ciclo-todo-concuerda-manu-quiroga-toca-tchaikovsky',\n",
       "  ' /obra70266-fidela-farsa-de-los-fantoches-liberados',\n",
       "  ' /obra69617-el-toque-griego',\n",
       "  ' /obra64093-mesmo-sem-te-tocar-incluso-sin-tocarte',\n",
       "  ' /obra63729-laughing-stock',\n",
       "  ' /obra63014-ciclo-de-pianistas-luis-gurevich-cuarteto-sindrome-de-estocolmo',\n",
       "  ' /obra69443-motochorras-tv-show',\n",
       "  ' /obra69289-improntus-toki-batuque-78',\n",
       "  ' /obra68553-pablo-fernandez-letocs',\n",
       "  ' /obra68143-trastocados-conurbano',\n",
       "  ' /obra71650-mitocondrias',\n",
       "  ' /obra62878-fiesta-fin-de-ano-del-refugio-tocan-inestable-capuccino-billy-lampazo-blues',\n",
       "  ' /obra60326-las-cosas-que-no-se-tocan',\n",
       "  ' /obra60175-jorge-nasser-llegar-armar-tocar',\n",
       "  ' /obra58898-cine-rock-woodstock',\n",
       "  ' /obra58874-raffo-cuatro-toques-para-anticipar-al-5',\n",
       "  ' /obra58758-cine-rock-woodstock-let-it-be',\n",
       "  ' /obra58570-lala-y-el-toque-toque',\n",
       "  ' /obra61605-daniel-tocchini',\n",
       "  ' /obra61473-centro-comunitario-kadima-presenta-a-la-cia-makumba-en-tocados-pro-fondo-bekeff',\n",
       "  ' /obra61322-tangos-que-tocan',\n",
       "  ' /obra56107-tokio',\n",
       "  ' /obra69955-el-que-me-toca-es-un-chancho',\n",
       "  ' /obra67128-estan-tocando-nuestra-cancion',\n",
       "  ' /obra63366-no-me-toquesel-amor-propio',\n",
       "  ' /obra63031-el-canto-del-fantoche',\n",
       "  ' /obra57611-la-visita-que-no-toco-el-timbre',\n",
       "  ' /obra68319-las-dos-tocayas',\n",
       "  ' /obra69536-toque-fierro-le-digo',\n",
       "  ' /obra69048-el-burro-toco-la-flauta',\n",
       "  ' /obra68318-temistocles',\n",
       "  ' /obra77152-con-un-toque-de-rubor',\n",
       "  ' /obra58645-tocata-y-fuga-de-bal',\n",
       "  ' /obra57048-cuando-afrodita-toca-la-flauta',\n",
       "  ' /obra56952-hoy-le-toca-a-mi-mujer',\n",
       "  ' /obra78522-jabon-de-tocador',\n",
       "  ' /obra64137-la-berraca-guanabana-pa-tocarlo-como-se-merece'],\n",
       " ['/obra42426-clara',\n",
       "  ' /obra19049-claramente-juan',\n",
       "  ' /obra76666-clara-cantore-e-invitadxs',\n",
       "  ' /obra76969-declaraciones-en-papel',\n",
       "  ' /obra50130-los-golpes-de-clara',\n",
       "  ' /obra70007-clara-cantore-trio-guitarra',\n",
       "  ' /obra70997-clara-cantore-trio-invitado-abi-gonzalez',\n",
       "  ' /obra63236-clara-fiba',\n",
       "  ' /obra65086-clara-confusion',\n",
       "  ' /obra64993-ceibaariel-hernandezclara-y-franco-duo',\n",
       "  ' /obra63160-clase-de-flamenco-por-clara-giannoni',\n",
       "  ' /obra65445-ciclo-todo-concuerda-clara-giustincich-y-franco-giambartolomei-duo',\n",
       "  ' /obra69594-la-veridica-pero-inverosimil-historia-de-clara',\n",
       "  ' /obra61559-clara-presta-presenta-casa',\n",
       "  ' /obra60904-maria-clara-millan-javier-penonori',\n",
       "  ' /obra62406-cuentas-claras-sala-3',\n",
       "  ' /obra56440-el-origen-de-las-especies-clara-muschietti-laura-wittner',\n",
       "  ' /obra60214-ciclo-bandoneomania-natsuki-nishihara-clara-stern-manuel-momo-nicolas-di-bella-nicolas-ledesma',\n",
       "  ' /obra38526-clara-sala-2',\n",
       "  ' /obra49682-folklore-y-tango-con-clara-y-franco-y-cottetsaidon',\n",
       "  ' /obra51478-ciclo-habra-musica-3-edicion-lautaro-matute-bolerazo-y-clara-franco-duo-fecha-7',\n",
       "  ' /obra38820-clara-y-el-falso-sobrino-de-oldrich-lipsky',\n",
       "  ' /obra41108-clara-clericot-rebelion-en-el-burdel',\n",
       "  ' /obra38672-el-viaje-de-clara',\n",
       "  ' /obra37418-martin-boffi-presenta-declaracion',\n",
       "  ' /obra39713-clara-oscura',\n",
       "  ' /obra28096-clara-sin-burla',\n",
       "  ' /obra27362-ciclo-de-cine-cena-la-guerra-esta-declarada',\n",
       "  ' /obra21337-la-infancia-de-clara',\n",
       "  ' /obra23849-ayer-sone-claramente-que-era-yo',\n",
       "  ' /obra24685-un-amor-inconfundible-se-declara-inocente',\n",
       "  ' /obra13488-la-ultima-habitacion-el-despertar-de-clara',\n",
       "  ' /obra15150-clara-otro-drama-rural',\n",
       "  ' /obra13558-el-amor-declara',\n",
       "  ' /obra14216-bonecrnicas-una-declaracion-de-amor-a-america-latina',\n",
       "  ' /obra153-kalma-klara-en-karilo',\n",
       "  ' /obra11405-clara-ines',\n",
       "  ' /obra45844-bonino-aclara-ciertas-dudas',\n",
       "  ' /obra46911-el-coronel-foster-se-declara-culpable',\n",
       "  ' /obra45903-morena-clara',\n",
       "  ' /obra70132-alfonso-y-clara-o-los-dos-presos',\n",
       "  ' /obra47815-adolfo-y-clara-o-los-presos-por-amor',\n",
       "  ' /obra49684-duo-clara-y-franco',\n",
       "  ' /obra51724-mama-clara',\n",
       "  ' /obra47226-morena-clara'],\n",
       " ['/obra63683-el-rio-en-mi',\n",
       "  ' /obra75624-el-misterio-en-el-que-se-vieron-envueltas-seis-hermanas-y-creo-que-una-oveja',\n",
       "  ' /obra78205-miguel-de-caro-presenta-saxo-rioplatense',\n",
       "  ' /obra79279-algo-distinto-espectaculo-interactivo-a-tu-encuentro-con-escenario-de-libre-expresion-microfono-abierto-para-el-publico',\n",
       "  ' /obra72579-el-clasico-teatro-independiente-el-de-ayer-y-el-de-hoy-su-evolucion-y-misterio',\n",
       "  ' /obra72526-la-previa-timbrera-jazmin-carbonell-y-mercedes-mendez-conversan-con-el-elenco-de-tercer-cuerpo-en-su-12-aniversario',\n",
       "  ' /obra72063-la-mujer-en-el-teatro-obrero-seminario-online-dictado-por-carlos-fos',\n",
       "  ' /obra70181-claudia-chucair-trio-presenta-lo-que-trajo-el-camino',\n",
       "  ' /obra73219-primer-foro-nacional-multidisciplinario-del-arte-en-pandemia-2020',\n",
       "  ' /obra68035-chechelos-presenta-enmovimiento-en-rosario',\n",
       "  ' /obra65455-pepo-san-martin-presentando-ministerio-del-interior',\n",
       "  ' /obra68429-concierto-homenaje-al-compositor-komitas-padre-la-musica-clasica-moderna-armenia-en-el-150-aniversario-de-su-nacimiento',\n",
       "  ' /obra62781-en-mi-rancho-el-amor-tango-y-canciones-criollas',\n",
       "  ' /obra63659-a-cajon-cerrado-un-velorio-desafortunadamente-comico',\n",
       "  ' /obra61821-el-equilibrio-cosmico-presenta-el-fuego-encantador',\n",
       "  ' /obra59960-nahuel-briones-presenta-su-disco-el-nene-minado',\n",
       "  ' /obra58074-martina-centurion-yamil-gelene-en-concierto',\n",
       "  ' /obra57898-miguel-de-caro-cuarteto-presenta-su-6to-cd-saxo-rioplatense',\n",
       "  ' /obra54676-mario-angelome-presenta-mis-baladas',\n",
       "  ' /obra47308-farsa-en-el-dormitorio',\n",
       "  ' /obra33782-el-misterio-que-tienen-las-cosas',\n",
       "  ' /obra41702-la-lija-lanzamiento-del-disco-rio-largo',\n",
       "  ' /obra41471-patricia-gomez-y-lorena-hermida-presentan-piel-de-rio-y-flor-de-otono',\n",
       "  ' /obra46475-el-misterio-que-tienen-las-cosas',\n",
       "  ' /obra36737-mira-quien-habla-teloneros-del-show-aniversario',\n",
       "  ' /obra34905-martin-robbio-presenta-el-mismo-rio',\n",
       "  ' /obra37411-ethel-koffman-trio-presenta-canciones-caminantes',\n",
       "  ' /obra29564-trio2-luna-de-miel-en-praga',\n",
       "  ' /obra26722-veo-veo-la-unidad-de-la-cosa-que-permanece-en-el-misterio',\n",
       "  ' /obra22124-magia-y-mistica-en-el-rio-de-la-plata',\n",
       "  ' /obra21484-el-inspector-lotonteau-en-misterio-en-la-mansion-lapat',\n",
       "  ' /obra18772-el-enemigo-itinerario-poetico-de-un-sueno',\n",
       "  ' /obra5054-misterios-del-flamenco',\n",
       "  ' /obra3113-el-misterio-de-la-senora-morris',\n",
       "  ' /obra2968-el-misterio-del-castillo-encantado',\n",
       "  ' /obra70603-14-aniversario-del-levantamiento-de-soweto',\n",
       "  ' /obra55787-el-oso-el-aniversario-el-casamiento',\n",
       "  ' /obra45974-la-ermita-la-fuente-y-el-rio',\n",
       "  ' /obra49024-pablo-el-marino-o-crimen-y-misterio',\n",
       "  ' /obra75240-el-misterio-del-amor-entre-varones-teatro-en-el-incendio-mexico',\n",
       "  ' /obra66044-es-como-si-en-mi-interior-se-hubiera-corrido-un-velo-y-el-espectaculo-de-la-vida-infinita-se-transformara-ahora-en-un-abismo-ante-una-tumba-abierta-para-la-eternidad',\n",
       "  ' /obra77115-el-misterio-de-la-virgen-loca'],\n",
       " ['/obra78571-erase-una-vez-san-francisco',\n",
       "  ' /obra71003-erase',\n",
       "  ' /obra73877-erase-fasciculos-coleccionables',\n",
       "  ' /obra76454-erase-una-vez',\n",
       "  ' /obra70289-erase-una-vez-un-cuento-que-no-es-invento',\n",
       "  ' /obra52347-erase-una-vez-un-globo',\n",
       "  ' /obra52199-erase-una-vez-los-sensuales',\n",
       "  ' /obra56398-erase-una-vez-un-rey',\n",
       "  ' /obra57920-erase-una-vez-un-lobizon',\n",
       "  ' /obra57724-erase-una-vez-a-las-12-y-despues',\n",
       "  ' /obra14731-erase-una-vez-un-patito',\n",
       "  ' /obra40489-erase-una-vez',\n",
       "  ' /obra47240-erase-una-vez-un-topo',\n",
       "  ' /obra27910-erase-una-vez-en-san-lorenzo',\n",
       "  ' /obra14563-erase-una-vez-un-rey',\n",
       "  ' /obra24577-erase-una-vez',\n",
       "  ' /obra24428-erase-una-vez-la-murguita-olimpica',\n",
       "  ' /obra21141-erase-que-era',\n",
       "  ' /obra13146-erase-una-vez-al-lado-de-un-bosque',\n",
       "  ' /obra2889-las-viajerases',\n",
       "  ' /obra4179-erase-una-vez-un-rey',\n",
       "  ' /obra50833-erase-una-vez-buenos-aires',\n",
       "  ' /obra61522-erase-un-viejo-pirata',\n",
       "  ' /obra51542-erase-una-vez-un-duendecillo-llamado-gurrumin',\n",
       "  ' /obra47100-erase-una-vez',\n",
       "  ' /obra26813-erase-una-vez-un-rey',\n",
       "  ' /obra61521-erase-un-viejo-pirata',\n",
       "  ' /obra72092-erase-otra-vez-nelida-lobato'],\n",
       " ['/obra34865-dinamo',\n",
       "  ' /obra77982-saltos-en-el-tiempo-vruma-y-los-dinamos-eva-diego',\n",
       "  ' /obra44581-vruma-y-los-dinamos',\n",
       "  ' /obra52797-dynamo-tributo-a-soda-stereo',\n",
       "  ' /obra45182-dynamo-ensamble-vocal',\n",
       "  ' /obra42374-va-de-nuevo-vruma-y-los-dinamos',\n",
       "  ' /obra21186-dinamos',\n",
       "  ' /obra4904-dynamo-hamlet'],\n",
       " ['/obra64240-delia',\n",
       "  ' /obra40002-maria-garay-y-delia-mucci',\n",
       "  ' /obra24196-naranjas-psicodelias-del-amor',\n",
       "  ' /obra35905-hernan-genovese-esteban-riera-gardelianos-con-trio-de-guitarras-invitado-joel-tortul',\n",
       "  ' /obra22438-el-loquero-de-dona-cordelia',\n",
       "  ' /obra28556-delia-o-la-noche-de-las-flores',\n",
       "  ' /obra33081-rockadelia-y-panico-en-la-ciudad',\n",
       "  ' /obra33350-el-chef-chop-chop-y-el-tik-tak-de-fidelia',\n",
       "  ' /obra8768-resplandece-sangre-lear-y-cordelia',\n",
       "  ' /obra54939-cordelia-la-nina-hada',\n",
       "  ' /obra63256-lidia-y-delia'],\n",
       " ['/obra11603-tercer-cuerpo',\n",
       "  ' /obra25937-tercer-cuerpo',\n",
       "  ' /obra71558-teatro-online-tercer-cuerpo',\n",
       "  ' /obra72526-la-previa-timbrera-jazmin-carbonell-y-mercedes-mendez-conversan-con-el-elenco-de-tercer-cuerpo-en-su-12-aniversario'],\n",
       " ['/obra80162-waterloo-el-musical',\n",
       "  ' /obra80458-be-water',\n",
       "  ' /obra70025-watt',\n",
       "  ' /obra4854-watt',\n",
       "  ' /obra79206-saraswati-banda-de-reggae-fusion',\n",
       "  ' /obra71086-la-watt-somos-al-limite',\n",
       "  ' /obra66001-lawatt',\n",
       "  ' /obra64284-ilustradoras-5-la-watson-azul-blaseotto-sala-piso-5',\n",
       "  ' /obra65172-je-ne-me-souviens-plus-tres-bien-no-me-acuerdo-muy-bien-gerard-watkins-sala-piso-11',\n",
       "  ' /obra34049-stravaganza-water-in-art-on-tour',\n",
       "  ' /obra35981-121-gigawatts-2015',\n",
       "  ' /obra39426-waton-carona',\n",
       "  ' /obra18110-freshwater',\n",
       "  ' /obra16994-water-closet-school',\n",
       "  ' /obra58656-el-diario-de-watergate',\n",
       "  ' /obra64943-water-closet'],\n",
       " ['/obra60992-esta-cancion',\n",
       "  ' /obra74143-esta-cancion-ep-en-concierto',\n",
       "  ' /obra72996-esta-cancion-ep',\n",
       "  ' /obra42926-paula-suarez-y-mora-martinez-canciones-propias-y-algunas-prestadas',\n",
       "  ' /obra40455-sonorium-puesta-de-canciones-y-clowns',\n",
       "  ' /obra54652-canciones-para-naufragos-duo-florestada',\n",
       "  ' /obra51626-camilo-cipolat-un-dia-hice-estas-canciones',\n",
       "  ' /obra37190-martin-buscaglia-presenta-nuevas-y-antiguas-canciones-en-su-formato-de-hombre-orquesta',\n",
       "  ' /obra24132-fiesta-de-canciones',\n",
       "  ' /obra67128-estan-tocando-nuestra-cancion'],\n",
       " ['/obra72962-120-kilos-de-jazz',\n",
       "  ' /obra15461-120-kilos-de-jazz',\n",
       "  ' /obra50621-120-kilos-de-jazz',\n",
       "  ' /obra32464-120-kilos-de-jazz'],\n",
       " ['/obra78212-lorca-el-teatro-bajo-la-arena',\n",
       "  ' /obra80314-los-garciarena',\n",
       "  ' /obra74686-arena',\n",
       "  ' /obra40229-arena',\n",
       "  ' /obra23500-arena',\n",
       "  ' /obra66233-arena',\n",
       "  ' /obra78248-tengo-arena-bajo-los-parpados',\n",
       "  ' /obra79406-arde-la-arena',\n",
       "  ' /obra80004-granitos-de-arena',\n",
       "  ' /obra12274-la-arena-y-el-agua',\n",
       "  ' /obra73765-teatro-ninos-macarena-fuentes',\n",
       "  ' /obra73794-laboratorio-de-teatro-y-cine-macarena-fuentes-guido-turtula',\n",
       "  ' /obra73800-laboratorio-de-teatro-y-cine-macarena-fuentes-guido-turtula',\n",
       "  ' /obra67766-arena-en-los-ojos-sand-in-the-eyes',\n",
       "  ' /obra68630-macarena-robledo-alejandro-franov-presentan-afluente',\n",
       "  ' /obra69723-de-arena',\n",
       "  ' /obra67839-graciela-arenas-presenta-jazz-is-joy',\n",
       "  ' /obra63139-sombras-de-arena-ale-bustos',\n",
       "  ' /obra67967-de-fuego-y-arena-la-poesia-de-lorca-y-rafael-de-leon',\n",
       "  ' /obra68374-historias-con-arena-como-greenwich-aguaviva-',\n",
       "  ' /obra63176-laboratorio-vocal-por-macarena-san-martin',\n",
       "  ' /obra63184-taller-de-creacion-escenica-por-macarena-san-martin',\n",
       "  ' /obra19482-como-arena-entre-las-manos',\n",
       "  ' /obra58499-arena-sala-1',\n",
       "  ' /obra61084-los-garciarena',\n",
       "  ' /obra58176-tragedias-hogarenas',\n",
       "  ' /obra59091-sueno-mediterraneo-graciela-arenas',\n",
       "  ' /obra59582-2-encuetro-de-/obras-cortas-reloj-de-arena',\n",
       "  ' /obra58715-carolina-rojas-presenta-canciones-de-rio-y-arena',\n",
       "  ' /obra41327-el-sonido-de-los-durmientes-presenta-mancha-arena',\n",
       "  ' /obra51715-angelito-luciarena-el-psicologo-del-barrio-o-el-mas-alla',\n",
       "  ' /obra52536-la-familia-de-ukeleles-noches-hogarenas',\n",
       "  ' /obra53743-1er-encuentro-de-/obras-cortas-reloj-de-arena',\n",
       "  ' /obra44118-macarena-robledo-presenta-corazon-radar',\n",
       "  ' /obra41935-los-garciarena',\n",
       "  ' /obra30916-arena-entre-la-carne-y-el-hueso',\n",
       "  ' /obra32672-macarena-robledo-instrumento-vivo',\n",
       "  ' /obra33816-mujeres-de-arena',\n",
       "  ' /obra31082-el-estadio-de-arena',\n",
       "  ' /obra13224-el-nino-de-arena-ilusiones-y-mareas',\n",
       "  ' /obra21796-mujeres-de-arena',\n",
       "  ' /obra27439-la-sentencia-del-reloj-de-arena',\n",
       "  ' /obra17379-arenales-un-pueblo-bajo-el-mar',\n",
       "  ' /obra23870-arena-entre-la-carne-y-el-hueso',\n",
       "  ' /obra24573-festival-el-porvenir-2012-grupo-b-macarena-albalustri-juan-arena-victoriano-arana',\n",
       "  ' /obra20436-de-luna-y-arena',\n",
       "  ' /obra16584-el-doble-de-arena',\n",
       "  ' /obra7056-de-arena-el-horizonte',\n",
       "  ' /obra15902-mujeres-de--arena',\n",
       "  ' /obra13658-castillos-de-arena',\n",
       "  ' /obra9957-mujeres-de-arena',\n",
       "  ' /obra12357-juego-de-luna-y-arena',\n",
       "  ' /obra9201-vientos-de-arena',\n",
       "  ' /obra2865-arena-blanca',\n",
       "  ' /obra65280-el-hombre-de-arena',\n",
       "  ' /obra45956-el-hombre-de-arena',\n",
       "  ' /obra47133-sangre-y-arena',\n",
       "  ' /obra10882-arenas',\n",
       "  ' /obra35317-arena-que-la-vida-se-llevo',\n",
       "  ' /obra46847-froilan-arena-el-mestizo',\n",
       "  ' /obra47488-la-chica-del-circo-arenas',\n",
       "  ' /obra74637-arena',\n",
       "  ' /obra16195-arena-secreto-y-funeral',\n",
       "  ' /obra76303-mar-de-arena',\n",
       "  ' /obra79333-el-caso-arena-rodrigo-contra-la-danza-contemporanea',\n",
       "  ' /obra43386-aqui-en-la-arena',\n",
       "  ' /obra35739-castillos-en-la-arena',\n",
       "  ' /obra45934-una-rosa-de-sangre-sobre-la-arena',\n",
       "  ' /obra63696-sesion-1-rodolfo-valentino-sangre-y-arena'],\n",
       " ['/obra37435-los-monstruos',\n",
       "  ' /obra79851-los-monstruos-de-la-vida-lofi',\n",
       "  ' /obra38071-la-voluntad-de-los-monstruos',\n",
       "  ' /obra30765-donde-viven-los-monstruos',\n",
       "  ' /obra26184-el-cielo-de-los-monstruos',\n",
       "  ' /obra18070-los-monstruos-no-existen-los-padres-si',\n",
       "  ' /obra8817-los-monstruos-sagrados'],\n",
       " ['/obra68076-el-placer',\n",
       "  ' /obra79996-el-placer-de-especular',\n",
       "  ' /obra13469-por-el-placer-de-volver-a-verla',\n",
       "  ' /obra44294-el-placer-de-los-dioses',\n",
       "  ' /obra78370-a-contracuento-por-el-puro-placer',\n",
       "  ' /obra70374-el-verbo-placer',\n",
       "  ' /obra52894-buenos-modales-el-innegable-placer-de-perder-el-control'],\n",
       " ['/obra60291-paraguay',\n",
       "  ' /obra31609-paraguay',\n",
       "  ' /obra72983-mentir-la-verdad-paraguay',\n",
       "  ' /obra32041-agua-que-corre-al-mar-o-paraguay-el-musical',\n",
       "  ' /obra24031-independencias-latinoamericanas-argentina-paraguay',\n",
       "  ' /obra46705-ayay-escribime-al-paraguay',\n",
       "  ' /obra49554-despotismo-y-tirania-o-el-doctor-francia-tirano-del-paraguay'],\n",
       " ['/obra78223-el-mono-gigante-king-kong',\n",
       "  ' /obra78613-gigante',\n",
       "  ' /obra78401-gigantes-de-la-musica',\n",
       "  ' /obra71802-la-gigantea',\n",
       "  ' /obra64000-el-gigante-amapolas-y-sus-formidables-enemigos-o-sea-fastos-dramaticos-de-una-guerra-memorable-recargado',\n",
       "  ' /obra60447-pequenos-gigantes',\n",
       "  ' /obra58792-orourke-se-enfrenta-al-pulpo-gigante',\n",
       "  ' /obra51619-magof-museo-ambulante-de-gigantes-y-otras-fieras',\n",
       "  ' /obra52375-burbujas-a-la-carta-show-de-burbujas-gigantes',\n",
       "  ' /obra36329-la-gigante-roja',\n",
       "  ' /obra14902-la-historia-del-gigante',\n",
       "  ' /obra23368-el-gigante-amapolas',\n",
       "  ' /obra29385-gigantes-del-flamenco',\n",
       "  ' /obra28892-ciclo-de-cena-cine-los-gigantes',\n",
       "  ' /obra18749-el-gigante-amapolas',\n",
       "  ' /obra25543-los-gigantes-de-las-montanas',\n",
       "  ' /obra23357-pequenos-y-gigantes',\n",
       "  ' /obra30268-una-historia-gigante-por-contar',\n",
       "  ' /obra19247-el-gigante-de-amapolas-y-sus-formidables-enemigos',\n",
       "  ' /obra22299-gigante-amapolas',\n",
       "  ' /obra20753-el-gigante-egoista',\n",
       "  ' /obra16320-el-gigante-amapolas-y-sus-fabulosos-enemigos',\n",
       "  ' /obra4832-el-gigante-amapolas',\n",
       "  ' /obra11496-el-gigante-amapolas',\n",
       "  ' /obra12616-el-gigante-amapolas',\n",
       "  ' /obra12401-de-lecheros-y-gigantes',\n",
       "  ' /obra9438-el-gigante-amapolas',\n",
       "  ' /obra5701-suenos-de-gigantes',\n",
       "  ' /obra10792-el-gigante-amapolas',\n",
       "  ' /obra61635-una-vez-un-gigante',\n",
       "  ' /obra63003-pinocho-y-los-munecos-gigantes',\n",
       "  ' /obra46805-el-gigante-pomelo',\n",
       "  ' /obra43025-aventuras-de-pitiri-y-el-gigante-tragavientos',\n",
       "  ' /obra46389-el-gigante',\n",
       "  ' /obra48525-estatua-arlequin-o-fantasma-gigante-de-16-pies-de-alto',\n",
       "  ' /obra46456-gigantezca-monstruosa-aventura',\n",
       "  ' /obra48811-el-gigante-amapolas',\n",
       "  ' /obra49308-jack-el-matador-de-gigantes'],\n",
       " ['/obra71128-jauria',\n",
       "  ' /obra75333-festival-jauria-la-erotica',\n",
       "  ' /obra71700-la-jauria-de-las-damas',\n",
       "  ' /obra72626-festival-jaurias-del-mundo'],\n",
       " ['/obra79524-ya-nadie-va-a-escuchar-tu-remera-un-concierto-escenico',\n",
       "  ' /obra75684-eso-que-pasa-cuando-no-escuchas',\n",
       "  ' /obra75229-cucha',\n",
       "  ' /obra73627-no-es-facil-escucharla',\n",
       "  ' /obra80304-solo-una-pareja-cronicas-escuchadas-con-la-oreja-en-la-pared',\n",
       "  ' /obra77131-escuchate-este-disquito',\n",
       "  ' /obra76529-las-palomas-tambien-escuchan-musica',\n",
       "  ' /obra69684-una-trinchera-y-se-escuchan-risas',\n",
       "  ' /obra73340-cuchara-de-madera',\n",
       "  ' /obra73441-la-cuchara',\n",
       "  ' /obra72410-la-era-de-la-escucha-esta-por-venir-escaneo-sonoro',\n",
       "  ' /obra62848-escucha-last-shelter',\n",
       "  ' /obra65210-wara-wara-escucha-la-otra-historia',\n",
       "  ' /obra68252-sr-nueve-heridas-y-el-silencio-de-quien-escucha-iluminando',\n",
       "  ' /obra56334-cucharita-sala-4',\n",
       "  ' /obra61422-escuchando-radiohead-te-escupo-mi-corazon',\n",
       "  ' /obra57742-como-escucha-la-pielwork-in-progress-da-da-danza',\n",
       "  ' /obra60549-metodo-para-escuchar-voces-de-sanchez-a-gombrowicz-liliana-heer-fabiana-galante-y-los-mentolados-durruti-concierto-literario',\n",
       "  ' /obra52716-cuchame-stand-up',\n",
       "  ' /obra54865-la-vida-de-lo-que-se-dice-cuando-nadie-escucha',\n",
       "  ' /obra35018-che-escucha-stand-up',\n",
       "  ' /obra40439-escucha-lo-que-te-digo-cafe-concert',\n",
       "  ' /obra43859-ahora-escuchame-vos',\n",
       "  ' /obra41156-si-mama-escuchara',\n",
       "  ' /obra38279-cucha-de-almas',\n",
       "  ' /obra37777-escuchame-quiero-decirte-algo',\n",
       "  ' /obra38269-escucha-lo-que-te-digo-no-solo-tango',\n",
       "  ' /obra34038-doblando-la-cuchara',\n",
       "  ' /obra38270-elegante-sport-escucha-lo-que-te-digo',\n",
       "  ' /obra36509-canciones-para-hacer-cucharita',\n",
       "  ' /obra29402-parpadea-si-me-escuchas',\n",
       "  ' /obra26787-escucha-lo-que-te-digo',\n",
       "  ' /obra25067-rozando-el-cuerpo-del-que-apenas-escucha',\n",
       "  ' /obra16192-decime-que-escuchas',\n",
       "  ' /obra12174-mira-lo-que-hay-que-escuchar',\n",
       "  ' /obra8532-decime-que-escuchas',\n",
       "  ' /obra12750-cuentos-para-volver-a-escuchar',\n",
       "  ' /obra7505-huevos-al-plato-con-cucharita',\n",
       "  ' /obra7190-cucha-de-almas',\n",
       "  ' /obra4352-cucha-de-almas',\n",
       "  ' /obra3209-solo-si-escuchas-conmigo',\n",
       "  ' /obra15074-cucha-de-almas',\n",
       "  ' /obra69720-pega-pero-escucha',\n",
       "  ' /obra44385-la-cucharita-mandinga',\n",
       "  ' /obra9024-te-escuchamos-dorotea',\n",
       "  ' /obra32270-cuando-el-amor-no-escucha-razones-solo-toma-decisiones'],\n",
       " ['/obra64553-alfa',\n",
       "  ' /obra57404-alfaguarra',\n",
       "  ' /obra66859-la-fachalfarra',\n",
       "  ' /obra42626-alfa-omega-tributo-a-gustavo-cerati',\n",
       "  ' /obra28699-alfa-y-omega',\n",
       "  ' /obra27974-el-cine-con-alfalfa',\n",
       "  ' /obra26201-memorias-de-una-analfabeta',\n",
       "  ' /obra10979-analfabetos',\n",
       "  ' /obra45864-alfa-omega-y-astartusa-o-la-pluma-suicida',\n",
       "  ' /obra67867-mujer-alfa',\n",
       "  ' /obra27973-el-cine-con-alfalfa'],\n",
       " ['/obra75247-otono-e-invierno',\n",
       "  ' /obra76139-la-fiesta-de-los-escombros',\n",
       "  ' /obra53637-el-invierno-llega-despues-del-otono',\n",
       "  ' /obra4399-cuatro-poemas-primavera-verano-otono-invierno'],\n",
       " ['/obra76637-un-enemigo-del-pueblo',\n",
       "  ' /obra76130-un-enemigo-del-pueblo',\n",
       "  ' /obra72605-un-enemigo-del-pueblo',\n",
       "  ' /obra57005-un-enemigo-del-pueblo',\n",
       "  ' /obra51836-un-enemigo-del-pueblo',\n",
       "  ' /obra46282-un-enemigo-del-pueblo',\n",
       "  ' /obra7630-un-enemigo-del-pueblo',\n",
       "  ' /obra555-un-enemigo-del-pueblo',\n",
       "  ' /obra10246-un-enemigo-del-pueblo',\n",
       "  ' /obra44327-un-enemigo-del-pueblo'],\n",
       " ['/obra12329-nada-del-amor-me-produce-envidia',\n",
       "  ' /obra50635-nada-del-amor-me-produce-envidia',\n",
       "  ' /obra38957-nada-del-amor-me-produce-envidia',\n",
       "  ' /obra29422-nada-del-amor-me-produce-envidia',\n",
       "  ' /obra25466-nada-del-amor-me-produce-envidia'],\n",
       " ['/obra79024-los-amigos-de-las-peliculas',\n",
       "  ' /obra60461-los-amigos',\n",
       "  ' /obra76786-los-amigos-de-ellos-dos',\n",
       "  ' /obra72299-los-amigos-del-anillo',\n",
       "  ' /obra56814-los-amigos-de-cote',\n",
       "  ' /obra59961-el-zar-presenta-su-disco-a-los-amigos',\n",
       "  ' /obra32125-los-amigos-del-chango',\n",
       "  ' /obra34651-los-amigos-del-chango-2015-rumbo-a-mca-volumen-ii',\n",
       "  ' /obra36834-amigos-son-los-amigos',\n",
       "  ' /obra35037-orquesta-popular-los-amigos-del-chango',\n",
       "  ' /obra35444-borges-con-amigos-con-los-amigos-juan-quintero-y-luna-monti',\n",
       "  ' /obra35442-luis-carlos-borges-con-los-amigos-juan-falu-y-liliana-herrero',\n",
       "  ' /obra35499-luiz-carlos-borges-con-los-amigos-chango-spasiuk-juan-quintero-y-luna-monti',\n",
       "  ' /obra28452-el-sapo-pepe-los-amigos-del-jardin',\n",
       "  ' /obra3513-los-amigos-y-mi-hija',\n",
       "  ' /obra43732-meg-para-los-amigos',\n",
       "  ' /obra78286-deseos-amigos-sebastian-macchi-cecilia-de-los-santos-sabrina-diaz-augusto-sinesi',\n",
       "  ' /obra63691-saddisin-y-sus-amigos-al-rescate-de-los-valores',\n",
       "  ' /obra49230-amigos-eran-los-de-antes',\n",
       "  ' /obra16712-el-sr-mikozzi-y-los-superamigos',\n",
       "  ' /obra21142-amigos-de-los-libros',\n",
       "  ' /obra13235-los-super-amigos',\n",
       "  ' /obra50014-los-amigos',\n",
       "  ' /obra50444-los-amigos',\n",
       "  ' /obra50283-los-amigos',\n",
       "  ' /obra48344-los--falsos-amigos',\n",
       "  ' /obra49780-los-dos-amigos'],\n",
       " ['/obra40340-julio-cesar',\n",
       "  ' /obra35064-julio-cesar',\n",
       "  ' /obra31608-julio-cesar',\n",
       "  ' /obra14738-julio-cesar',\n",
       "  ' /obra35406-julio-cesar',\n",
       "  ' /obra57622-julio-cesar',\n",
       "  ' /obra64746-julio-cesar',\n",
       "  ' /obra30784-julio-cesar-el-discurso',\n",
       "  ' /obra1845-100-julio-cesar'],\n",
       " ['/obra69780-actriz',\n",
       "  ' /obra34269-actriz',\n",
       "  ' /obra62532-praxis-2da-exposicion-de-actuaciones-de-actrices-actuando',\n",
       "  ' /obra74942-aktrissa-chayka',\n",
       "  ' /obra51852-lo-unico-que-necesita-una-gran-actriz-es-una-gran-/obra-y-las-ganas-de-triunfar',\n",
       "  ' /obra72992-actriz-del-under',\n",
       "  ' /obra73521-diarios-de-actrices-demostracion-de-entrenamientos-fisicos',\n",
       "  ' /obra73371-charla-mirta-busnelli-y-javier-daulte-ser-actriz-un-acto-de-arrojo',\n",
       "  ' /obra49058-solo-una-actriz-de-teatro',\n",
       "  ' /obra61854-la-santa-el-chaman-y-la-actriz-famosa-sala-6',\n",
       "  ' /obra27094-la-poeta-y-su-novia-actriz',\n",
       "  ' /obra54142-naque-o-de-piojos-y-actrices',\n",
       "  ' /obra45975-mala-actriz',\n",
       "  ' /obra41088-lamezcla-tres-actrices-un-encuentro-musical',\n",
       "  ' /obra30823-actrices',\n",
       "  ' /obra36974-actrices-del-monton',\n",
       "  ' /obra37563-praxis1-exposicion-de-actuaciones-de-actrices-actuando-de-buenos-aires',\n",
       "  ' /obra9911-la-cadena-invisible-trilogia-de-la-soledad-monologo-para-una-actriz',\n",
       "  ' /obra33274-actriz-pero-de-las-buenas',\n",
       "  ' /obra31066-cuatro-ejercicios-para-actrices',\n",
       "  ' /obra13403-cuatro-ejercicios-para-actrices',\n",
       "  ' /obra13404-3er-piso-cuatro-ejercicios-para-actrices',\n",
       "  ' /obra9663-4-ejercicios-para-actrices-un-dia-especial-si-tengo-suerte-la-que-sigue-oficina',\n",
       "  ' /obra8738-monologos-hechos-por-actrices-i',\n",
       "  ' /obra2887-tres-ejercicios-para-actrices',\n",
       "  ' /obra1940-omatidio-pieza-para-actriz-fotografa-y-un-hombre-cualquiera',\n",
       "  ' /obra1007-tres-mujeres-actrices',\n",
       "  ' /obra971-4-ejercicios-para-actrices',\n",
       "  ' /obra51344-una-actriz-para-lady-macbeth',\n",
       "  ' /obra43430-la-edad-de-las-actrices',\n",
       "  ' /obra37229-entrevista-con-una-actriz'],\n",
       " ['/obra52560-hidalgo',\n",
       "  ' /obra43556-hidalgo',\n",
       "  ' /obra60503-concierto-de-tango-clasicos-de-tango-con-las-voces-de-jesus-hidalgo-y-lautaro-mazza',\n",
       "  ' /obra51126-julio-pane-solo-bandoneon-invitado-jesus-hidalgo',\n",
       "  ' /obra39314-walter-hidalgo-alejandro-szwarcman-y-juan-vattuone-hidalgos-atorrantes',\n",
       "  ' /obra34163-locuras-de-un-hidalgo-caballero',\n",
       "  ' /obra28122-walter-hidalgoentre-amigos',\n",
       "  ' /obra15387-hidalgo-al-800-caballito',\n",
       "  ' /obra1902-los-dos-hidalgos-de-verona',\n",
       "  ' /obra48406-el-ingenioso-hidalgo-don-quijote-de-la-mancha']]"
      ]
     },
     "execution_count": 52,
     "metadata": {},
     "output_type": "execute_result"
    }
   ],
   "source": [
    "L = [i.split(\",\") for i in L]\n",
    "L"
   ]
  },
  {
   "cell_type": "code",
   "execution_count": 53,
   "metadata": {},
   "outputs": [],
   "source": [
    "def simp_L(n,i=0,L=L):\n",
    "        if len(L[i]) == 1: simp_L(n,i+1)\n",
    "        else: \n",
    "                L[i] = [L[i][n]]\n",
    "                print(L[i])\n",
    "        return L"
   ]
  },
  {
   "cell_type": "code",
   "execution_count": 54,
   "metadata": {},
   "outputs": [
    {
     "name": "stdout",
     "output_type": "stream",
     "text": [
      "['/obra68104-perdon-sutottos']\n"
     ]
    }
   ],
   "source": [
    "L = simp_L(0)"
   ]
  },
  {
   "cell_type": "code",
   "execution_count": 55,
   "metadata": {},
   "outputs": [
    {
     "name": "stdout",
     "output_type": "stream",
     "text": [
      "['/obra61040-todo-lo-posible']\n"
     ]
    }
   ],
   "source": [
    "L = simp_L(0)"
   ]
  },
  {
   "cell_type": "code",
   "execution_count": 56,
   "metadata": {},
   "outputs": [
    {
     "name": "stdout",
     "output_type": "stream",
     "text": [
      "['/obra59854-la-elegida']\n"
     ]
    }
   ],
   "source": [
    "L = simp_L(0)"
   ]
  },
  {
   "cell_type": "code",
   "execution_count": 57,
   "metadata": {},
   "outputs": [
    {
     "name": "stdout",
     "output_type": "stream",
     "text": [
      "['/obra40017-nerium-park']\n"
     ]
    }
   ],
   "source": [
    "L = simp_L(0)"
   ]
  },
  {
   "cell_type": "code",
   "execution_count": 58,
   "metadata": {},
   "outputs": [
    {
     "name": "stdout",
     "output_type": "stream",
     "text": [
      "['/obra76357-el-amo-del-mundo']\n"
     ]
    }
   ],
   "source": [
    "L = simp_L(0)"
   ]
  },
  {
   "cell_type": "code",
   "execution_count": 59,
   "metadata": {},
   "outputs": [
    {
     "name": "stdout",
     "output_type": "stream",
     "text": [
      "['/obra40466-las-de-barranco']\n"
     ]
    }
   ],
   "source": [
    "L = simp_L(0)"
   ]
  },
  {
   "cell_type": "code",
   "execution_count": 60,
   "metadata": {},
   "outputs": [
    {
     "name": "stdout",
     "output_type": "stream",
     "text": [
      "['/obra63932-para-partir']\n"
     ]
    }
   ],
   "source": [
    "L = simp_L(0)"
   ]
  },
  {
   "cell_type": "code",
   "execution_count": 61,
   "metadata": {},
   "outputs": [
    {
     "name": "stdout",
     "output_type": "stream",
     "text": [
      "['/obra67031-la-enamorada']\n"
     ]
    }
   ],
   "source": [
    "L = simp_L(0)"
   ]
  },
  {
   "cell_type": "code",
   "execution_count": 62,
   "metadata": {},
   "outputs": [
    {
     "name": "stdout",
     "output_type": "stream",
     "text": [
      "[' /obra78692-una-y-mil']\n"
     ]
    }
   ],
   "source": [
    "L = simp_L(2)"
   ]
  },
  {
   "cell_type": "code",
   "execution_count": 63,
   "metadata": {},
   "outputs": [
    {
     "name": "stdout",
     "output_type": "stream",
     "text": [
      "['/obra79624-las-dos-reinas']\n"
     ]
    }
   ],
   "source": [
    "L = simp_L(0)"
   ]
  },
  {
   "cell_type": "code",
   "execution_count": 64,
   "metadata": {},
   "outputs": [
    {
     "name": "stdout",
     "output_type": "stream",
     "text": [
      "['/obra67171-los-miedos']\n"
     ]
    }
   ],
   "source": [
    "L = simp_L(0)"
   ]
  },
  {
   "cell_type": "code",
   "execution_count": 65,
   "metadata": {},
   "outputs": [
    {
     "name": "stdout",
     "output_type": "stream",
     "text": [
      "[' /obra56193-el-test']\n"
     ]
    }
   ],
   "source": [
    "L = simp_L(1)"
   ]
  },
  {
   "cell_type": "code",
   "execution_count": 66,
   "metadata": {},
   "outputs": [
    {
     "name": "stdout",
     "output_type": "stream",
     "text": [
      "['/obra58795-los-rotos']\n"
     ]
    }
   ],
   "source": [
    "L = simp_L(0)"
   ]
  },
  {
   "cell_type": "code",
   "execution_count": 67,
   "metadata": {},
   "outputs": [
    {
     "name": "stdout",
     "output_type": "stream",
     "text": [
      "['/obra77136-rota']\n"
     ]
    }
   ],
   "source": [
    "L = simp_L(0)"
   ]
  },
  {
   "cell_type": "code",
   "execution_count": 68,
   "metadata": {},
   "outputs": [
    {
     "name": "stdout",
     "output_type": "stream",
     "text": [
      "['/obra37160-artaud']\n"
     ]
    }
   ],
   "source": [
    "L = simp_L(0)"
   ]
  },
  {
   "cell_type": "code",
   "execution_count": 69,
   "metadata": {},
   "outputs": [
    {
     "name": "stdout",
     "output_type": "stream",
     "text": [
      "[' /obra59855-ping-pong']\n"
     ]
    }
   ],
   "source": [
    "L = simp_L(1)"
   ]
  },
  {
   "cell_type": "code",
   "execution_count": 70,
   "metadata": {},
   "outputs": [
    {
     "name": "stdout",
     "output_type": "stream",
     "text": [
      "['/obra49217-la-savia']\n"
     ]
    }
   ],
   "source": [
    "L = simp_L(0)"
   ]
  },
  {
   "cell_type": "code",
   "execution_count": 71,
   "metadata": {},
   "outputs": [
    {
     "name": "stdout",
     "output_type": "stream",
     "text": [
      "['/obra54145-esa-nina']\n"
     ]
    }
   ],
   "source": [
    "L = simp_L(0)"
   ]
  },
  {
   "cell_type": "code",
   "execution_count": 72,
   "metadata": {},
   "outputs": [
    {
     "name": "stdout",
     "output_type": "stream",
     "text": [
      "[' /obra2123-inestable']\n"
     ]
    }
   ],
   "source": [
    "L = simp_L(2)"
   ]
  },
  {
   "cell_type": "code",
   "execution_count": 73,
   "metadata": {},
   "outputs": [
    {
     "name": "stdout",
     "output_type": "stream",
     "text": [
      "['/obra56873-las-amargas-lagrimas-de-petra-von-kant']\n"
     ]
    }
   ],
   "source": [
    "L = simp_L(0)"
   ]
  },
  {
   "cell_type": "code",
   "execution_count": 75,
   "metadata": {},
   "outputs": [
    {
     "name": "stdout",
     "output_type": "stream",
     "text": [
      "['/obra79831-el-nino-pez-y-el-sueno-de-negras-alas']\n"
     ]
    }
   ],
   "source": [
    "L = simp_L(0)"
   ]
  },
  {
   "cell_type": "code",
   "execution_count": 76,
   "metadata": {},
   "outputs": [
    {
     "name": "stdout",
     "output_type": "stream",
     "text": [
      "['/obra64648-edipo-rey']\n"
     ]
    }
   ],
   "source": [
    "L = simp_L(0)"
   ]
  },
  {
   "cell_type": "code",
   "execution_count": 77,
   "metadata": {},
   "outputs": [
    {
     "name": "stdout",
     "output_type": "stream",
     "text": [
      "['/obra76202-los-secretos']\n"
     ]
    }
   ],
   "source": [
    "L = simp_L(0)"
   ]
  },
  {
   "cell_type": "code",
   "execution_count": 78,
   "metadata": {},
   "outputs": [
    {
     "name": "stdout",
     "output_type": "stream",
     "text": [
      "['/obra80279-compania']\n"
     ]
    }
   ],
   "source": [
    "L = simp_L(0)"
   ]
  },
  {
   "cell_type": "code",
   "execution_count": 79,
   "metadata": {},
   "outputs": [
    {
     "name": "stdout",
     "output_type": "stream",
     "text": [
      "['/obra37360-las-ideas']\n"
     ]
    }
   ],
   "source": [
    "L = simp_L(0)"
   ]
  },
  {
   "cell_type": "code",
   "execution_count": 80,
   "metadata": {},
   "outputs": [
    {
     "name": "stdout",
     "output_type": "stream",
     "text": [
      "['/obra42975-la-rabia']\n"
     ]
    }
   ],
   "source": [
    "L = simp_L(0)"
   ]
  },
  {
   "cell_type": "code",
   "execution_count": 81,
   "metadata": {},
   "outputs": [
    {
     "name": "stdout",
     "output_type": "stream",
     "text": [
      "[' /obra60204-el-nombre']\n"
     ]
    }
   ],
   "source": [
    "L = simp_L(5)"
   ]
  },
  {
   "cell_type": "code",
   "execution_count": 82,
   "metadata": {},
   "outputs": [
    {
     "name": "stdout",
     "output_type": "stream",
     "text": [
      "['/obra76295-rasgo-personal']\n"
     ]
    }
   ],
   "source": [
    "L = simp_L(0)"
   ]
  },
  {
   "cell_type": "code",
   "execution_count": 83,
   "metadata": {},
   "outputs": [
    {
     "name": "stdout",
     "output_type": "stream",
     "text": [
      "['/obra58639-la-respiracion']\n"
     ]
    }
   ],
   "source": [
    "L = simp_L(0)"
   ]
  },
  {
   "cell_type": "code",
   "execution_count": 84,
   "metadata": {},
   "outputs": [
    {
     "name": "stdout",
     "output_type": "stream",
     "text": [
      "['/obra68084-turba']\n"
     ]
    }
   ],
   "source": [
    "L = simp_L(0)"
   ]
  },
  {
   "cell_type": "code",
   "execution_count": 85,
   "metadata": {},
   "outputs": [
    {
     "name": "stdout",
     "output_type": "stream",
     "text": [
      "[' /obra40840-farra']\n"
     ]
    }
   ],
   "source": [
    "L = simp_L(1)"
   ]
  },
  {
   "cell_type": "code",
   "execution_count": 86,
   "metadata": {},
   "outputs": [
    {
     "name": "stdout",
     "output_type": "stream",
     "text": [
      "['/obra51040-proximo']\n"
     ]
    }
   ],
   "source": [
    "L = simp_L(0)"
   ]
  },
  {
   "cell_type": "code",
   "execution_count": 87,
   "metadata": {},
   "outputs": [
    {
     "name": "stdout",
     "output_type": "stream",
     "text": [
      "['/obra67171-los-miedos']\n"
     ]
    }
   ],
   "source": [
    "L = simp_L(0)"
   ]
  },
  {
   "cell_type": "code",
   "execution_count": 88,
   "metadata": {},
   "outputs": [
    {
     "name": "stdout",
     "output_type": "stream",
     "text": [
      "['/obra48490-la-terquedad']\n"
     ]
    }
   ],
   "source": [
    "L = simp_L(0)"
   ]
  },
  {
   "cell_type": "code",
   "execution_count": 89,
   "metadata": {},
   "outputs": [
    {
     "name": "stdout",
     "output_type": "stream",
     "text": [
      "['/obra66024-karamazov']\n"
     ]
    }
   ],
   "source": [
    "L = simp_L(0)"
   ]
  },
  {
   "cell_type": "code",
   "execution_count": 90,
   "metadata": {},
   "outputs": [
    {
     "name": "stdout",
     "output_type": "stream",
     "text": [
      "['/obra59570-petroleo']\n"
     ]
    }
   ],
   "source": [
    "L = simp_L(0)"
   ]
  },
  {
   "cell_type": "code",
   "execution_count": 91,
   "metadata": {},
   "outputs": [
    {
     "name": "stdout",
     "output_type": "stream",
     "text": [
      "[' /obra75405-la-meca']\n"
     ]
    }
   ],
   "source": [
    "L = simp_L(1)"
   ]
  },
  {
   "cell_type": "code",
   "execution_count": 92,
   "metadata": {},
   "outputs": [
    {
     "name": "stdout",
     "output_type": "stream",
     "text": [
      "['/obra58470-lo-salvaje']\n"
     ]
    }
   ],
   "source": [
    "L = simp_L(0)"
   ]
  },
  {
   "cell_type": "code",
   "execution_count": 93,
   "metadata": {},
   "outputs": [
    {
     "name": "stdout",
     "output_type": "stream",
     "text": [
      "['/obra80294-toch-en-el-galpon-de-haedo']\n"
     ]
    }
   ],
   "source": [
    "L = simp_L(0)"
   ]
  },
  {
   "cell_type": "code",
   "execution_count": 94,
   "metadata": {},
   "outputs": [
    {
     "name": "stdout",
     "output_type": "stream",
     "text": [
      "['/obra42426-clara']\n"
     ]
    }
   ],
   "source": [
    "L = simp_L(0)"
   ]
  },
  {
   "cell_type": "code",
   "execution_count": 95,
   "metadata": {},
   "outputs": [
    {
     "name": "stdout",
     "output_type": "stream",
     "text": [
      "['/obra63683-el-rio-en-mi']\n"
     ]
    }
   ],
   "source": [
    "L = simp_L(0)"
   ]
  },
  {
   "cell_type": "code",
   "execution_count": 96,
   "metadata": {},
   "outputs": [
    {
     "name": "stdout",
     "output_type": "stream",
     "text": [
      "[' /obra71003-erase']\n"
     ]
    }
   ],
   "source": [
    "L = simp_L(1)"
   ]
  },
  {
   "cell_type": "code",
   "execution_count": 97,
   "metadata": {},
   "outputs": [
    {
     "name": "stdout",
     "output_type": "stream",
     "text": [
      "['/obra34865-dinamo']\n"
     ]
    }
   ],
   "source": [
    "L = simp_L(0)"
   ]
  },
  {
   "cell_type": "code",
   "execution_count": 98,
   "metadata": {},
   "outputs": [
    {
     "name": "stdout",
     "output_type": "stream",
     "text": [
      "['/obra64240-delia']\n"
     ]
    }
   ],
   "source": [
    "L = simp_L(0)"
   ]
  },
  {
   "cell_type": "code",
   "execution_count": 99,
   "metadata": {},
   "outputs": [
    {
     "name": "stdout",
     "output_type": "stream",
     "text": [
      "['/obra11603-tercer-cuerpo']\n"
     ]
    }
   ],
   "source": [
    "L = simp_L(0)"
   ]
  },
  {
   "cell_type": "code",
   "execution_count": 100,
   "metadata": {},
   "outputs": [
    {
     "name": "stdout",
     "output_type": "stream",
     "text": [
      "[' /obra70025-watt']\n"
     ]
    }
   ],
   "source": [
    "L = simp_L(2)"
   ]
  },
  {
   "cell_type": "code",
   "execution_count": 101,
   "metadata": {},
   "outputs": [
    {
     "name": "stdout",
     "output_type": "stream",
     "text": [
      "['/obra60992-esta-cancion']\n"
     ]
    }
   ],
   "source": [
    "L = simp_L(0)"
   ]
  },
  {
   "cell_type": "code",
   "execution_count": 102,
   "metadata": {},
   "outputs": [
    {
     "name": "stdout",
     "output_type": "stream",
     "text": [
      "['/obra72962-120-kilos-de-jazz']\n"
     ]
    }
   ],
   "source": [
    "L = simp_L(0)"
   ]
  },
  {
   "cell_type": "code",
   "execution_count": 103,
   "metadata": {},
   "outputs": [
    {
     "name": "stdout",
     "output_type": "stream",
     "text": [
      "['/obra78212-lorca-el-teatro-bajo-la-arena']\n"
     ]
    }
   ],
   "source": [
    "L = simp_L(0)"
   ]
  },
  {
   "cell_type": "code",
   "execution_count": 104,
   "metadata": {},
   "outputs": [
    {
     "name": "stdout",
     "output_type": "stream",
     "text": [
      "['/obra37435-los-monstruos']\n"
     ]
    }
   ],
   "source": [
    "L = simp_L(0)"
   ]
  },
  {
   "cell_type": "code",
   "execution_count": 105,
   "metadata": {},
   "outputs": [
    {
     "name": "stdout",
     "output_type": "stream",
     "text": [
      "['/obra68076-el-placer']\n"
     ]
    }
   ],
   "source": [
    "L = simp_L(0)"
   ]
  },
  {
   "cell_type": "code",
   "execution_count": 106,
   "metadata": {},
   "outputs": [
    {
     "name": "stdout",
     "output_type": "stream",
     "text": [
      "['/obra60291-paraguay']\n"
     ]
    }
   ],
   "source": [
    "L = simp_L(0)"
   ]
  },
  {
   "cell_type": "code",
   "execution_count": 107,
   "metadata": {},
   "outputs": [
    {
     "name": "stdout",
     "output_type": "stream",
     "text": [
      "[' /obra78613-gigante']\n"
     ]
    }
   ],
   "source": [
    "L = simp_L(1)"
   ]
  },
  {
   "cell_type": "code",
   "execution_count": 108,
   "metadata": {},
   "outputs": [
    {
     "name": "stdout",
     "output_type": "stream",
     "text": [
      "['/obra71128-jauria']\n"
     ]
    }
   ],
   "source": [
    "L = simp_L(0)"
   ]
  },
  {
   "cell_type": "code",
   "execution_count": 109,
   "metadata": {},
   "outputs": [
    {
     "name": "stdout",
     "output_type": "stream",
     "text": [
      "[' /obra75229-cucha']\n"
     ]
    }
   ],
   "source": [
    "L = simp_L(2)"
   ]
  },
  {
   "cell_type": "code",
   "execution_count": 110,
   "metadata": {},
   "outputs": [
    {
     "name": "stdout",
     "output_type": "stream",
     "text": [
      "['/obra64553-alfa']\n"
     ]
    }
   ],
   "source": [
    "L = simp_L(0)"
   ]
  },
  {
   "cell_type": "code",
   "execution_count": 111,
   "metadata": {},
   "outputs": [
    {
     "name": "stdout",
     "output_type": "stream",
     "text": [
      "['/obra75247-otono-e-invierno']\n"
     ]
    }
   ],
   "source": [
    "L = simp_L(0)"
   ]
  },
  {
   "cell_type": "code",
   "execution_count": 112,
   "metadata": {},
   "outputs": [
    {
     "name": "stdout",
     "output_type": "stream",
     "text": [
      "[' /obra57005-un-enemigo-del-pueblo']\n"
     ]
    }
   ],
   "source": [
    "L = simp_L(3)"
   ]
  },
  {
   "cell_type": "code",
   "execution_count": 113,
   "metadata": {},
   "outputs": [
    {
     "name": "stdout",
     "output_type": "stream",
     "text": [
      "['/obra12329-nada-del-amor-me-produce-envidia']\n"
     ]
    }
   ],
   "source": [
    "L = simp_L(0)"
   ]
  },
  {
   "cell_type": "code",
   "execution_count": 114,
   "metadata": {},
   "outputs": [
    {
     "name": "stdout",
     "output_type": "stream",
     "text": [
      "[' /obra60461-los-amigos']\n"
     ]
    }
   ],
   "source": [
    "L = simp_L(1)"
   ]
  },
  {
   "cell_type": "code",
   "execution_count": 115,
   "metadata": {},
   "outputs": [
    {
     "name": "stdout",
     "output_type": "stream",
     "text": [
      "['/obra40340-julio-cesar']\n"
     ]
    }
   ],
   "source": [
    "L = simp_L(0)"
   ]
  },
  {
   "cell_type": "code",
   "execution_count": 116,
   "metadata": {},
   "outputs": [
    {
     "name": "stdout",
     "output_type": "stream",
     "text": [
      "[' /obra34269-actriz']\n"
     ]
    }
   ],
   "source": [
    "L = simp_L(1)"
   ]
  },
  {
   "cell_type": "code",
   "execution_count": 117,
   "metadata": {},
   "outputs": [
    {
     "name": "stdout",
     "output_type": "stream",
     "text": [
      "['/obra52560-hidalgo']\n"
     ]
    }
   ],
   "source": [
    "L = simp_L(0)"
   ]
  },
  {
   "cell_type": "code",
   "execution_count": 118,
   "metadata": {},
   "outputs": [
    {
     "data": {
      "text/plain": [
       "[['/obra68104-perdon-sutottos'],\n",
       " ['/obra61040-todo-lo-posible'],\n",
       " ['/obra59854-la-elegida'],\n",
       " ['/obra40017-nerium-park'],\n",
       " ['/obra76357-el-amo-del-mundo'],\n",
       " ['/obra40466-las-de-barranco'],\n",
       " ['/obra63932-para-partir'],\n",
       " ['/obra67031-la-enamorada'],\n",
       " [' /obra78692-una-y-mil'],\n",
       " ['/obra79624-las-dos-reinas'],\n",
       " ['/obra67171-los-miedos'],\n",
       " [' /obra56193-el-test'],\n",
       " ['/obra58795-los-rotos'],\n",
       " ['/obra77136-rota'],\n",
       " ['/obra37160-artaud'],\n",
       " [' /obra59855-ping-pong'],\n",
       " ['/obra49217-la-savia'],\n",
       " ['/obra54145-esa-nina'],\n",
       " [' /obra2123-inestable'],\n",
       " ['/obra56873-las-amargas-lagrimas-de-petra-von-kant'],\n",
       " ['/obra59917-juicio-a-una-zorra'],\n",
       " ['/obra79831-el-nino-pez-y-el-sueno-de-negras-alas'],\n",
       " ['/obra64648-edipo-rey'],\n",
       " ['/obra76202-los-secretos'],\n",
       " ['/obra80279-compania'],\n",
       " ['/obra37360-las-ideas'],\n",
       " ['/obra42975-la-rabia'],\n",
       " [' /obra60204-el-nombre'],\n",
       " ['/obra76295-rasgo-personal'],\n",
       " ['/obra58639-la-respiracion'],\n",
       " ['/obra68084-turba'],\n",
       " [' /obra40840-farra'],\n",
       " ['/obra51040-proximo'],\n",
       " ['/obra67171-los-miedos'],\n",
       " ['/obra48490-la-terquedad'],\n",
       " ['/obra66024-karamazov'],\n",
       " ['/obra59570-petroleo'],\n",
       " [' /obra75405-la-meca'],\n",
       " ['/obra58470-lo-salvaje'],\n",
       " ['/obra80294-toch-en-el-galpon-de-haedo'],\n",
       " ['/obra42426-clara'],\n",
       " ['/obra63683-el-rio-en-mi'],\n",
       " [' /obra71003-erase'],\n",
       " ['/obra34865-dinamo'],\n",
       " ['/obra64240-delia'],\n",
       " ['/obra11603-tercer-cuerpo'],\n",
       " [' /obra70025-watt'],\n",
       " ['/obra60992-esta-cancion'],\n",
       " ['/obra72962-120-kilos-de-jazz'],\n",
       " ['/obra78212-lorca-el-teatro-bajo-la-arena'],\n",
       " ['/obra37435-los-monstruos'],\n",
       " ['/obra68076-el-placer'],\n",
       " ['/obra60291-paraguay'],\n",
       " [' /obra78613-gigante'],\n",
       " ['/obra71128-jauria'],\n",
       " [' /obra75229-cucha'],\n",
       " ['/obra64553-alfa'],\n",
       " ['/obra75247-otono-e-invierno'],\n",
       " [' /obra57005-un-enemigo-del-pueblo'],\n",
       " ['/obra12329-nada-del-amor-me-produce-envidia'],\n",
       " [' /obra60461-los-amigos'],\n",
       " ['/obra40340-julio-cesar'],\n",
       " [' /obra34269-actriz'],\n",
       " ['/obra52560-hidalgo']]"
      ]
     },
     "execution_count": 118,
     "metadata": {},
     "output_type": "execute_result"
    }
   ],
   "source": [
    "L"
   ]
  },
  {
   "cell_type": "code",
   "execution_count": 119,
   "metadata": {},
   "outputs": [],
   "source": [
    "L = [l[0] for l in L]"
   ]
  },
  {
   "cell_type": "code",
   "execution_count": 121,
   "metadata": {},
   "outputs": [
    {
     "data": {
      "text/plain": [
       "['https://www.alternativateatral.com//obra68104-perdon-sutottos',\n",
       " 'https://www.alternativateatral.com//obra61040-todo-lo-posible',\n",
       " 'https://www.alternativateatral.com//obra59854-la-elegida',\n",
       " 'https://www.alternativateatral.com//obra40017-nerium-park',\n",
       " 'https://www.alternativateatral.com//obra76357-el-amo-del-mundo',\n",
       " 'https://www.alternativateatral.com//obra40466-las-de-barranco',\n",
       " 'https://www.alternativateatral.com//obra63932-para-partir',\n",
       " 'https://www.alternativateatral.com//obra67031-la-enamorada',\n",
       " 'https://www.alternativateatral.com/ /obra78692-una-y-mil',\n",
       " 'https://www.alternativateatral.com//obra79624-las-dos-reinas',\n",
       " 'https://www.alternativateatral.com//obra67171-los-miedos',\n",
       " 'https://www.alternativateatral.com/ /obra56193-el-test',\n",
       " 'https://www.alternativateatral.com//obra58795-los-rotos',\n",
       " 'https://www.alternativateatral.com//obra77136-rota',\n",
       " 'https://www.alternativateatral.com//obra37160-artaud',\n",
       " 'https://www.alternativateatral.com/ /obra59855-ping-pong',\n",
       " 'https://www.alternativateatral.com//obra49217-la-savia',\n",
       " 'https://www.alternativateatral.com//obra54145-esa-nina',\n",
       " 'https://www.alternativateatral.com/ /obra2123-inestable',\n",
       " 'https://www.alternativateatral.com//obra56873-las-amargas-lagrimas-de-petra-von-kant',\n",
       " 'https://www.alternativateatral.com//obra59917-juicio-a-una-zorra',\n",
       " 'https://www.alternativateatral.com//obra79831-el-nino-pez-y-el-sueno-de-negras-alas',\n",
       " 'https://www.alternativateatral.com//obra64648-edipo-rey',\n",
       " 'https://www.alternativateatral.com//obra76202-los-secretos',\n",
       " 'https://www.alternativateatral.com//obra80279-compania',\n",
       " 'https://www.alternativateatral.com//obra37360-las-ideas',\n",
       " 'https://www.alternativateatral.com//obra42975-la-rabia',\n",
       " 'https://www.alternativateatral.com/ /obra60204-el-nombre',\n",
       " 'https://www.alternativateatral.com//obra76295-rasgo-personal',\n",
       " 'https://www.alternativateatral.com//obra58639-la-respiracion',\n",
       " 'https://www.alternativateatral.com//obra68084-turba',\n",
       " 'https://www.alternativateatral.com/ /obra40840-farra',\n",
       " 'https://www.alternativateatral.com//obra51040-proximo',\n",
       " 'https://www.alternativateatral.com//obra67171-los-miedos',\n",
       " 'https://www.alternativateatral.com//obra48490-la-terquedad',\n",
       " 'https://www.alternativateatral.com//obra66024-karamazov',\n",
       " 'https://www.alternativateatral.com//obra59570-petroleo',\n",
       " 'https://www.alternativateatral.com/ /obra75405-la-meca',\n",
       " 'https://www.alternativateatral.com//obra58470-lo-salvaje',\n",
       " 'https://www.alternativateatral.com//obra80294-toch-en-el-galpon-de-haedo',\n",
       " 'https://www.alternativateatral.com//obra42426-clara',\n",
       " 'https://www.alternativateatral.com//obra63683-el-rio-en-mi',\n",
       " 'https://www.alternativateatral.com/ /obra71003-erase',\n",
       " 'https://www.alternativateatral.com//obra34865-dinamo',\n",
       " 'https://www.alternativateatral.com//obra64240-delia',\n",
       " 'https://www.alternativateatral.com//obra11603-tercer-cuerpo',\n",
       " 'https://www.alternativateatral.com/ /obra70025-watt',\n",
       " 'https://www.alternativateatral.com//obra60992-esta-cancion',\n",
       " 'https://www.alternativateatral.com//obra72962-120-kilos-de-jazz',\n",
       " 'https://www.alternativateatral.com//obra78212-lorca-el-teatro-bajo-la-arena',\n",
       " 'https://www.alternativateatral.com//obra37435-los-monstruos',\n",
       " 'https://www.alternativateatral.com//obra68076-el-placer',\n",
       " 'https://www.alternativateatral.com//obra60291-paraguay',\n",
       " 'https://www.alternativateatral.com/ /obra78613-gigante',\n",
       " 'https://www.alternativateatral.com//obra71128-jauria',\n",
       " 'https://www.alternativateatral.com/ /obra75229-cucha',\n",
       " 'https://www.alternativateatral.com//obra64553-alfa',\n",
       " 'https://www.alternativateatral.com//obra75247-otono-e-invierno',\n",
       " 'https://www.alternativateatral.com/ /obra57005-un-enemigo-del-pueblo',\n",
       " 'https://www.alternativateatral.com//obra12329-nada-del-amor-me-produce-envidia',\n",
       " 'https://www.alternativateatral.com/ /obra60461-los-amigos',\n",
       " 'https://www.alternativateatral.com//obra40340-julio-cesar',\n",
       " 'https://www.alternativateatral.com/ /obra34269-actriz',\n",
       " 'https://www.alternativateatral.com//obra52560-hidalgo']"
      ]
     },
     "execution_count": 121,
     "metadata": {},
     "output_type": "execute_result"
    }
   ],
   "source": [
    "L = [\"https://www.alternativateatral.com/\"+l for l in L]\n",
    "L"
   ]
  },
  {
   "cell_type": "code",
   "execution_count": 122,
   "metadata": {},
   "outputs": [],
   "source": [
    "L = ['https://www.alternativateatral.com//obra68104-perdon-sutottos',\n",
    " 'https://www.alternativateatral.com//obra61040-todo-lo-posible',\n",
    " 'https://www.alternativateatral.com//obra59854-la-elegida',\n",
    " 'https://www.alternativateatral.com//obra40017-nerium-park',\n",
    " 'https://www.alternativateatral.com//obra76357-el-amo-del-mundo',\n",
    " 'https://www.alternativateatral.com//obra40466-las-de-barranco',\n",
    " 'https://www.alternativateatral.com//obra63932-para-partir',\n",
    " 'https://www.alternativateatral.com//obra67031-la-enamorada',\n",
    " 'https://www.alternativateatral.com//obra78692-una-y-mil',\n",
    " 'https://www.alternativateatral.com//obra79624-las-dos-reinas',\n",
    " 'https://www.alternativateatral.com//obra67171-los-miedos',\n",
    " 'https://www.alternativateatral.com//obra56193-el-test',\n",
    " 'https://www.alternativateatral.com//obra58795-los-rotos',\n",
    " 'https://www.alternativateatral.com//obra77136-rota',\n",
    " 'https://www.alternativateatral.com//obra37160-artaud',\n",
    " 'https://www.alternativateatral.com//obra59855-ping-pong',\n",
    " 'https://www.alternativateatral.com//obra49217-la-savia',\n",
    " 'https://www.alternativateatral.com//obra54145-esa-nina',\n",
    " 'https://www.alternativateatral.com//obra2123-inestable',\n",
    " 'https://www.alternativateatral.com//obra56873-las-amargas-lagrimas-de-petra-von-kant',\n",
    " 'https://www.alternativateatral.com//obra59917-juicio-a-una-zorra',\n",
    " 'https://www.alternativateatral.com//obra79831-el-nino-pez-y-el-sueno-de-negras-alas',\n",
    " 'https://www.alternativateatral.com//obra64648-edipo-rey',\n",
    " 'https://www.alternativateatral.com//obra76202-los-secretos',\n",
    " 'https://www.alternativateatral.com//obra80279-compania',\n",
    " 'https://www.alternativateatral.com//obra37360-las-ideas',\n",
    " 'https://www.alternativateatral.com//obra42975-la-rabia',\n",
    " 'https://www.alternativateatral.com//obra60204-el-nombre',\n",
    " 'https://www.alternativateatral.com//obra76295-rasgo-personal',\n",
    " 'https://www.alternativateatral.com//obra58639-la-respiracion',\n",
    " 'https://www.alternativateatral.com//obra68084-turba',\n",
    " 'https://www.alternativateatral.com//obra40840-farra',\n",
    " 'https://www.alternativateatral.com//obra51040-proximo',\n",
    " 'https://www.alternativateatral.com//obra67171-los-miedos',\n",
    " 'https://www.alternativateatral.com//obra48490-la-terquedad',\n",
    " 'https://www.alternativateatral.com//obra66024-karamazov',\n",
    " 'https://www.alternativateatral.com//obra59570-petroleo',\n",
    " 'https://www.alternativateatral.com//obra75405-la-meca',\n",
    " 'https://www.alternativateatral.com//obra58470-lo-salvaje',\n",
    " 'https://www.alternativateatral.com//obra80294-toch-en-el-galpon-de-haedo',\n",
    " 'https://www.alternativateatral.com//obra42426-clara',\n",
    " 'https://www.alternativateatral.com//obra63683-el-rio-en-mi',\n",
    " 'https://www.alternativateatral.com//obra71003-erase',\n",
    " 'https://www.alternativateatral.com//obra34865-dinamo',\n",
    " 'https://www.alternativateatral.com//obra64240-delia',\n",
    " 'https://www.alternativateatral.com//obra11603-tercer-cuerpo',\n",
    " 'https://www.alternativateatral.com//obra70025-watt',\n",
    " 'https://www.alternativateatral.com//obra60992-esta-cancion',\n",
    " 'https://www.alternativateatral.com//obra72962-120-kilos-de-jazz',\n",
    " 'https://www.alternativateatral.com//obra78212-lorca-el-teatro-bajo-la-arena',\n",
    " 'https://www.alternativateatral.com//obra37435-los-monstruos',\n",
    " 'https://www.alternativateatral.com//obra68076-el-placer',\n",
    " 'https://www.alternativateatral.com//obra60291-paraguay',\n",
    " 'https://www.alternativateatral.com//obra78613-gigante',\n",
    " 'https://www.alternativateatral.com//obra71128-jauria',\n",
    " 'https://www.alternativateatral.com//obra75229-cucha',\n",
    " 'https://www.alternativateatral.com//obra64553-alfa',\n",
    " 'https://www.alternativateatral.com//obra75247-otono-e-invierno',\n",
    " 'https://www.alternativateatral.com//obra57005-un-enemigo-del-pueblo',\n",
    " 'https://www.alternativateatral.com//obra12329-nada-del-amor-me-produce-envidia',\n",
    " 'https://www.alternativateatral.com//obra60461-los-amigos',\n",
    " 'https://www.alternativateatral.com//obra40340-julio-cesar',\n",
    " 'https://www.alternativateatral.com//obra34269-actriz',\n",
    " 'https://www.alternativateatral.com//obra52560-hidalgo']"
   ]
  },
  {
   "cell_type": "code",
   "execution_count": 127,
   "metadata": {},
   "outputs": [
    {
     "data": {
      "text/html": [
       "<div>\n",
       "<style scoped>\n",
       "    .dataframe tbody tr th:only-of-type {\n",
       "        vertical-align: middle;\n",
       "    }\n",
       "\n",
       "    .dataframe tbody tr th {\n",
       "        vertical-align: top;\n",
       "    }\n",
       "\n",
       "    .dataframe thead th {\n",
       "        text-align: right;\n",
       "    }\n",
       "</style>\n",
       "<table border=\"1\" class=\"dataframe\">\n",
       "  <thead>\n",
       "    <tr style=\"text-align: right;\">\n",
       "      <th></th>\n",
       "      <th>nombre</th>\n",
       "      <th>urlAT</th>\n",
       "      <th>derivadas</th>\n",
       "      <th>urlF</th>\n",
       "      <th>categoríaF</th>\n",
       "    </tr>\n",
       "  </thead>\n",
       "  <tbody>\n",
       "    <tr>\n",
       "      <th>0</th>\n",
       "      <td>Gansos</td>\n",
       "      <td>https://www.alternativateatral.com//obra74685-...</td>\n",
       "      <td>/obra74685-gansos, /obra54414-los-gansos-grazn...</td>\n",
       "      <td>https://farsamag.com/obras/gansos/</td>\n",
       "      <td>1</td>\n",
       "    </tr>\n",
       "    <tr>\n",
       "      <th>1</th>\n",
       "      <td>Las oceánicas</td>\n",
       "      <td>https://www.alternativateatral.com//obra74192-...</td>\n",
       "      <td>/obra74192-las-oceanicas</td>\n",
       "      <td>https://farsamag.com/obras/las-oceanicas/</td>\n",
       "      <td>1</td>\n",
       "    </tr>\n",
       "    <tr>\n",
       "      <th>2</th>\n",
       "      <td>Lorca, el teatro bajo la arena</td>\n",
       "      <td>https://www.alternativateatral.com//obra78212-...</td>\n",
       "      <td>/obra78212-lorca-el-teatro-bajo-la-arena</td>\n",
       "      <td>https://farsamag.com/obras/lorca-el-teatro-baj...</td>\n",
       "      <td>10</td>\n",
       "    </tr>\n",
       "    <tr>\n",
       "      <th>3</th>\n",
       "      <td>A Chorus Line</td>\n",
       "      <td>https://www.alternativateatral.com//obra63013-...</td>\n",
       "      <td>/obra64382-a-chorus-line, /obra63013-chorus-line</td>\n",
       "      <td>https://farsamag.com/obras/a-chorus-line/</td>\n",
       "      <td>1</td>\n",
       "    </tr>\n",
       "    <tr>\n",
       "      <th>4</th>\n",
       "      <td>Impalpable</td>\n",
       "      <td>https://www.alternativateatral.com//obra21551-...</td>\n",
       "      <td>/obra21551-impalpable, /obra9731-la-madre-impa...</td>\n",
       "      <td>https://farsamag.com/obras/impalpable/</td>\n",
       "      <td>5</td>\n",
       "    </tr>\n",
       "    <tr>\n",
       "      <th>...</th>\n",
       "      <td>...</td>\n",
       "      <td>...</td>\n",
       "      <td>...</td>\n",
       "      <td>...</td>\n",
       "      <td>...</td>\n",
       "    </tr>\n",
       "    <tr>\n",
       "      <th>289</th>\n",
       "      <td>Los abrazos huecos</td>\n",
       "      <td>https://www.alternativateatral.com//obra63208-...</td>\n",
       "      <td>/obra63208-los-abrazos-huecos</td>\n",
       "      <td>https://farsamag.com/obras/los-abrazos-huecos/</td>\n",
       "      <td>5</td>\n",
       "    </tr>\n",
       "    <tr>\n",
       "      <th>290</th>\n",
       "      <td>Actriz</td>\n",
       "      <td>https://www.alternativateatral.com//obra34269-...</td>\n",
       "      <td>/obra69780-actriz, /obra34269-actriz, /obra625...</td>\n",
       "      <td>https://farsamag.com/obras/actriz/</td>\n",
       "      <td>5</td>\n",
       "    </tr>\n",
       "    <tr>\n",
       "      <th>291</th>\n",
       "      <td>Forever Young</td>\n",
       "      <td>https://www.alternativateatral.com//obra24072-...</td>\n",
       "      <td>/obra24072-forever-young, /obra69181-forever-y...</td>\n",
       "      <td>https://farsamag.com/obras/forever-young/</td>\n",
       "      <td>10</td>\n",
       "    </tr>\n",
       "    <tr>\n",
       "      <th>292</th>\n",
       "      <td>Solo vine a ver el jardín</td>\n",
       "      <td>https://www.alternativateatral.com//obra59640-...</td>\n",
       "      <td>/obra59640-solo-vine-a-ver-el-jardin, /obra78-...</td>\n",
       "      <td>https://farsamag.com/obras/solo-vine-a-ver-el-...</td>\n",
       "      <td>1</td>\n",
       "    </tr>\n",
       "    <tr>\n",
       "      <th>293</th>\n",
       "      <td>Hidalgo</td>\n",
       "      <td>https://www.alternativateatral.com//obra52560-...</td>\n",
       "      <td>/obra52560-hidalgo, /obra43556-hidalgo, /obra6...</td>\n",
       "      <td>https://farsamag.com/obras/hidalgo/</td>\n",
       "      <td>1</td>\n",
       "    </tr>\n",
       "  </tbody>\n",
       "</table>\n",
       "<p>294 rows × 5 columns</p>\n",
       "</div>"
      ],
      "text/plain": [
       "                             nombre  \\\n",
       "0                            Gansos   \n",
       "1                     Las oceánicas   \n",
       "2    Lorca, el teatro bajo la arena   \n",
       "3                     A Chorus Line   \n",
       "4                        Impalpable   \n",
       "..                              ...   \n",
       "289              Los abrazos huecos   \n",
       "290                          Actriz   \n",
       "291                   Forever Young   \n",
       "292       Solo vine a ver el jardín   \n",
       "293                         Hidalgo   \n",
       "\n",
       "                                                 urlAT  \\\n",
       "0    https://www.alternativateatral.com//obra74685-...   \n",
       "1    https://www.alternativateatral.com//obra74192-...   \n",
       "2    https://www.alternativateatral.com//obra78212-...   \n",
       "3    https://www.alternativateatral.com//obra63013-...   \n",
       "4    https://www.alternativateatral.com//obra21551-...   \n",
       "..                                                 ...   \n",
       "289  https://www.alternativateatral.com//obra63208-...   \n",
       "290  https://www.alternativateatral.com//obra34269-...   \n",
       "291  https://www.alternativateatral.com//obra24072-...   \n",
       "292  https://www.alternativateatral.com//obra59640-...   \n",
       "293  https://www.alternativateatral.com//obra52560-...   \n",
       "\n",
       "                                             derivadas  \\\n",
       "0    /obra74685-gansos, /obra54414-los-gansos-grazn...   \n",
       "1                             /obra74192-las-oceanicas   \n",
       "2             /obra78212-lorca-el-teatro-bajo-la-arena   \n",
       "3     /obra64382-a-chorus-line, /obra63013-chorus-line   \n",
       "4    /obra21551-impalpable, /obra9731-la-madre-impa...   \n",
       "..                                                 ...   \n",
       "289                      /obra63208-los-abrazos-huecos   \n",
       "290  /obra69780-actriz, /obra34269-actriz, /obra625...   \n",
       "291  /obra24072-forever-young, /obra69181-forever-y...   \n",
       "292  /obra59640-solo-vine-a-ver-el-jardin, /obra78-...   \n",
       "293  /obra52560-hidalgo, /obra43556-hidalgo, /obra6...   \n",
       "\n",
       "                                                  urlF  categoríaF  \n",
       "0                   https://farsamag.com/obras/gansos/           1  \n",
       "1            https://farsamag.com/obras/las-oceanicas/           1  \n",
       "2    https://farsamag.com/obras/lorca-el-teatro-baj...          10  \n",
       "3            https://farsamag.com/obras/a-chorus-line/           1  \n",
       "4               https://farsamag.com/obras/impalpable/           5  \n",
       "..                                                 ...         ...  \n",
       "289     https://farsamag.com/obras/los-abrazos-huecos/           5  \n",
       "290                 https://farsamag.com/obras/actriz/           5  \n",
       "291          https://farsamag.com/obras/forever-young/          10  \n",
       "292  https://farsamag.com/obras/solo-vine-a-ver-el-...           1  \n",
       "293                https://farsamag.com/obras/hidalgo/           1  \n",
       "\n",
       "[294 rows x 5 columns]"
      ]
     },
     "execution_count": 127,
     "metadata": {},
     "output_type": "execute_result"
    }
   ],
   "source": [
    "df_x1 = pd.read_csv(\"data//df_x1.csv\")\n",
    "df_x1"
   ]
  },
  {
   "cell_type": "code",
   "execution_count": 134,
   "metadata": {},
   "outputs": [
    {
     "data": {
      "text/html": [
       "<div>\n",
       "<style scoped>\n",
       "    .dataframe tbody tr th:only-of-type {\n",
       "        vertical-align: middle;\n",
       "    }\n",
       "\n",
       "    .dataframe tbody tr th {\n",
       "        vertical-align: top;\n",
       "    }\n",
       "\n",
       "    .dataframe thead th {\n",
       "        text-align: right;\n",
       "    }\n",
       "</style>\n",
       "<table border=\"1\" class=\"dataframe\">\n",
       "  <thead>\n",
       "    <tr style=\"text-align: right;\">\n",
       "      <th></th>\n",
       "      <th>nombre</th>\n",
       "      <th>urlAT</th>\n",
       "      <th>derivadas</th>\n",
       "      <th>urlF</th>\n",
       "      <th>categoríaF</th>\n",
       "    </tr>\n",
       "  </thead>\n",
       "  <tbody>\n",
       "  </tbody>\n",
       "</table>\n",
       "</div>"
      ],
      "text/plain": [
       "Empty DataFrame\n",
       "Columns: [nombre, urlAT, derivadas, urlF, categoríaF]\n",
       "Index: []"
      ]
     },
     "execution_count": 134,
     "metadata": {},
     "output_type": "execute_result"
    }
   ],
   "source": [
    "df_x1.loc[df_x1[\"urlAT\"].isna()]"
   ]
  }
 ],
 "metadata": {
  "kernelspec": {
   "display_name": "Python 3",
   "language": "python",
   "name": "python3"
  },
  "language_info": {
   "name": "python",
   "version": "3.10.9"
  },
  "orig_nbformat": 4,
  "vscode": {
   "interpreter": {
    "hash": "f8ca15d83b6fb72cece3edcf60f6aa40d2cbdeb5c60e0f188ff8c7c65828fd00"
   }
  }
 },
 "nbformat": 4,
 "nbformat_minor": 2
}
