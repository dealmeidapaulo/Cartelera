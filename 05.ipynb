{
 "cells": [
  {
   "cell_type": "code",
   "execution_count": 1,
   "metadata": {},
   "outputs": [],
   "source": [
    "import pandas as pd\n",
    "from csv import writer\n",
    "import numpy as np\n",
    "from lib import lib_soup as sp, lib_soup_alternativaTeatral as alternativaTeatral, lib_soup_farsamag as farsaMag\n"
   ]
  },
  {
   "cell_type": "code",
   "execution_count": 67,
   "metadata": {},
   "outputs": [
    {
     "data": {
      "text/html": [
       "<div>\n",
       "<style scoped>\n",
       "    .dataframe tbody tr th:only-of-type {\n",
       "        vertical-align: middle;\n",
       "    }\n",
       "\n",
       "    .dataframe tbody tr th {\n",
       "        vertical-align: top;\n",
       "    }\n",
       "\n",
       "    .dataframe thead th {\n",
       "        text-align: right;\n",
       "    }\n",
       "</style>\n",
       "<table border=\"1\" class=\"dataframe\">\n",
       "  <thead>\n",
       "    <tr style=\"text-align: right;\">\n",
       "      <th></th>\n",
       "      <th>nombre</th>\n",
       "      <th>urlAT</th>\n",
       "      <th>derivadas</th>\n",
       "      <th>urlF</th>\n",
       "      <th>categoríaF</th>\n",
       "    </tr>\n",
       "  </thead>\n",
       "  <tbody>\n",
       "    <tr>\n",
       "      <th>0</th>\n",
       "      <td>Gansos</td>\n",
       "      <td>NaN</td>\n",
       "      <td>/obra74685-gansos, /obra54414-los-gansos-grazn...</td>\n",
       "      <td>https://farsamag.com/obras/gansos/</td>\n",
       "      <td>Reseña</td>\n",
       "    </tr>\n",
       "    <tr>\n",
       "      <th>1</th>\n",
       "      <td>Las oceánicas</td>\n",
       "      <td>https://www.alternativateatral.com//obra74192-...</td>\n",
       "      <td>/obra74192-las-oceanicas</td>\n",
       "      <td>https://farsamag.com/obras/las-oceanicas/</td>\n",
       "      <td>Reseña</td>\n",
       "    </tr>\n",
       "    <tr>\n",
       "      <th>2</th>\n",
       "      <td>Lorca, el teatro bajo la arena</td>\n",
       "      <td>https://www.alternativateatral.com//obra78212-...</td>\n",
       "      <td>/obra78212-lorca-el-teatro-bajo-la-arena</td>\n",
       "      <td>https://farsamag.com/obras/lorca-el-teatro-baj...</td>\n",
       "      <td>Imperdible</td>\n",
       "    </tr>\n",
       "    <tr>\n",
       "      <th>3</th>\n",
       "      <td>A Chorus Line</td>\n",
       "      <td>NaN</td>\n",
       "      <td>/obra64382-a-chorus-line, /obra63013-chorus-line</td>\n",
       "      <td>https://farsamag.com/obras/a-chorus-line/</td>\n",
       "      <td>Reseña</td>\n",
       "    </tr>\n",
       "    <tr>\n",
       "      <th>4</th>\n",
       "      <td>Impalpable</td>\n",
       "      <td>NaN</td>\n",
       "      <td>/obra21551-impalpable, /obra9731-la-madre-impa...</td>\n",
       "      <td>https://farsamag.com/obras/impalpable/</td>\n",
       "      <td>Destacada</td>\n",
       "    </tr>\n",
       "    <tr>\n",
       "      <th>...</th>\n",
       "      <td>...</td>\n",
       "      <td>...</td>\n",
       "      <td>...</td>\n",
       "      <td>...</td>\n",
       "      <td>...</td>\n",
       "    </tr>\n",
       "    <tr>\n",
       "      <th>294</th>\n",
       "      <td>Los abrazos huecos</td>\n",
       "      <td>https://www.alternativateatral.com//obra63208-...</td>\n",
       "      <td>/obra63208-los-abrazos-huecos</td>\n",
       "      <td>https://farsamag.com/obras/los-abrazos-huecos/</td>\n",
       "      <td>Destacada</td>\n",
       "    </tr>\n",
       "    <tr>\n",
       "      <th>295</th>\n",
       "      <td>Actriz</td>\n",
       "      <td>NaN</td>\n",
       "      <td>/obra69780-actriz, /obra34269-actriz, /obra625...</td>\n",
       "      <td>https://farsamag.com/obras/actriz/</td>\n",
       "      <td>Destacada</td>\n",
       "    </tr>\n",
       "    <tr>\n",
       "      <th>296</th>\n",
       "      <td>Forever Young</td>\n",
       "      <td>NaN</td>\n",
       "      <td>/obra24072-forever-young, /obra69181-forever-y...</td>\n",
       "      <td>https://farsamag.com/obras/forever-young/</td>\n",
       "      <td>Imperdible</td>\n",
       "    </tr>\n",
       "    <tr>\n",
       "      <th>297</th>\n",
       "      <td>Solo vine a ver el jardín</td>\n",
       "      <td>NaN</td>\n",
       "      <td>/obra59640-solo-vine-a-ver-el-jardin, /obra78-...</td>\n",
       "      <td>https://farsamag.com/obras/solo-vine-a-ver-el-...</td>\n",
       "      <td>Reseña</td>\n",
       "    </tr>\n",
       "    <tr>\n",
       "      <th>298</th>\n",
       "      <td>Hidalgo</td>\n",
       "      <td>NaN</td>\n",
       "      <td>/obra52560-hidalgo, /obra43556-hidalgo, /obra6...</td>\n",
       "      <td>https://farsamag.com/obras/hidalgo/</td>\n",
       "      <td>Reseña</td>\n",
       "    </tr>\n",
       "  </tbody>\n",
       "</table>\n",
       "<p>299 rows × 5 columns</p>\n",
       "</div>"
      ],
      "text/plain": [
       "                             nombre  \\\n",
       "0                            Gansos   \n",
       "1                     Las oceánicas   \n",
       "2    Lorca, el teatro bajo la arena   \n",
       "3                     A Chorus Line   \n",
       "4                        Impalpable   \n",
       "..                              ...   \n",
       "294              Los abrazos huecos   \n",
       "295                          Actriz   \n",
       "296                   Forever Young   \n",
       "297       Solo vine a ver el jardín   \n",
       "298                         Hidalgo   \n",
       "\n",
       "                                                 urlAT  \\\n",
       "0                                                  NaN   \n",
       "1    https://www.alternativateatral.com//obra74192-...   \n",
       "2    https://www.alternativateatral.com//obra78212-...   \n",
       "3                                                  NaN   \n",
       "4                                                  NaN   \n",
       "..                                                 ...   \n",
       "294  https://www.alternativateatral.com//obra63208-...   \n",
       "295                                                NaN   \n",
       "296                                                NaN   \n",
       "297                                                NaN   \n",
       "298                                                NaN   \n",
       "\n",
       "                                             derivadas  \\\n",
       "0    /obra74685-gansos, /obra54414-los-gansos-grazn...   \n",
       "1                             /obra74192-las-oceanicas   \n",
       "2             /obra78212-lorca-el-teatro-bajo-la-arena   \n",
       "3     /obra64382-a-chorus-line, /obra63013-chorus-line   \n",
       "4    /obra21551-impalpable, /obra9731-la-madre-impa...   \n",
       "..                                                 ...   \n",
       "294                      /obra63208-los-abrazos-huecos   \n",
       "295  /obra69780-actriz, /obra34269-actriz, /obra625...   \n",
       "296  /obra24072-forever-young, /obra69181-forever-y...   \n",
       "297  /obra59640-solo-vine-a-ver-el-jardin, /obra78-...   \n",
       "298  /obra52560-hidalgo, /obra43556-hidalgo, /obra6...   \n",
       "\n",
       "                                                  urlF  categoríaF  \n",
       "0                   https://farsamag.com/obras/gansos/      Reseña  \n",
       "1            https://farsamag.com/obras/las-oceanicas/      Reseña  \n",
       "2    https://farsamag.com/obras/lorca-el-teatro-baj...  Imperdible  \n",
       "3            https://farsamag.com/obras/a-chorus-line/      Reseña  \n",
       "4               https://farsamag.com/obras/impalpable/   Destacada  \n",
       "..                                                 ...         ...  \n",
       "294     https://farsamag.com/obras/los-abrazos-huecos/   Destacada  \n",
       "295                 https://farsamag.com/obras/actriz/   Destacada  \n",
       "296          https://farsamag.com/obras/forever-young/  Imperdible  \n",
       "297  https://farsamag.com/obras/solo-vine-a-ver-el-...      Reseña  \n",
       "298                https://farsamag.com/obras/hidalgo/      Reseña  \n",
       "\n",
       "[299 rows x 5 columns]"
      ]
     },
     "execution_count": 67,
     "metadata": {},
     "output_type": "execute_result"
    }
   ],
   "source": [
    "df_x1 = pd.read_csv(\"data//df_x1.csv\")\n",
    "df_x1"
   ]
  },
  {
   "cell_type": "code",
   "execution_count": 7,
   "metadata": {},
   "outputs": [
    {
     "data": {
      "text/plain": [
       "[['/obra64382-a-chorus-line', ' /obra63013-chorus-line'],\n",
       " ['/obra21551-impalpable', ' /obra9731-la-madre-impalpable'],\n",
       " ['/obra69702-proyecto-posadas', ' /obra28566-proyecto-posadas'],\n",
       " ['/obra75779-las-cautivas', ' /obra74450-las-cautivas'],\n",
       " ['/obra57287-la-voluntad-teatro-a-distancia',\n",
       "  ' /obra33742-la-voluntad-teatro-a-distancia'],\n",
       " ['/obra37445-el-paraiso-perdido',\n",
       "  ' /obra64890-la-trampa-del-paraiso-perdido'],\n",
       " ['/obra55037-rayito-de-sol', ' /obra50667-rayito-de-sol'],\n",
       " ['/obra28891-piedra-sentada-pata-corrida',\n",
       "  ' /obra45268-piedra-sentada-pata-corrida-farsa-civilizatoria'],\n",
       " ['/obra4926-la-omision-de-la-familia-coleman',\n",
       "  ' /obra71559-teatro-online-la-omision-de-la-familia-coleman'],\n",
       " ['/obra63056-asstronautas', ' /obra57982-astronautas'],\n",
       " ['/obra47548-christiane-un-biomusical-cientifico',\n",
       "  ' /obra78310-christiane-un-biomusical-cientifico'],\n",
       " ['/obra37490-como-si-pasara-un-tren',\n",
       "  ' /obra63237-como-si-pasara-un-tren-fiba'],\n",
       " ['/obra59320-200-golpes-de-jamon-serrano',\n",
       "  ' /obra67639-festival-teatroxlaidentidad-200-golpes-de-jamon-serrano'],\n",
       " ['/obra50190-cielo-es-una-maquina-hamlet-esta-muerto-sin-fuerza-de-gravedad',\n",
       "  ' /obra33482-hamlet-esta-muerto-sin-fuerza-de-gravedad'],\n",
       " ['/obra38940-edipo-en-ezeiza', ' /obra27740-edipo-en-ezeiza'],\n",
       " ['/obra75159-la-casa-oscura-un-show-documental-sobre-la-salud-mental',\n",
       "  ' /obra34119-la-casa-oscura'],\n",
       " ['/obra45959-tebas-land', ' /obra39691-tebas-land'],\n",
       " ['/obra64253-trastorno', ' /obra13324-el-trastorno-de-los-pulpos'],\n",
       " ['/obra42663-gurisa', ' /obra10357-gurisadas'],\n",
       " ['/obra67260-sentada-en-una-casa-de-vidrio',\n",
       "  ' /obra66751-sentada-en-una-casa-de-vidrio-work-in-progress'],\n",
       " ['/obra68377-the-pall-mall-twins',\n",
       "  ' /obra65757-la-casa-de-alba-torrens-16-the-pall-mall-twins'],\n",
       " ['/obra52887-la-forma-de-las-cosas', ' /obra13034-la-forma-de-las-cosas'],\n",
       " ['/obra21638-sudado', ' /obra41684-teatro-sudado'],\n",
       " ['/obra57660-warangas', ' /obra57877-warangas-night-show'],\n",
       " ['/obra15643-doberman', ' /obra54977-doberman'],\n",
       " ['/obra10581-pasionaria', ' /obra42780-pasionaria-portena'],\n",
       " ['/obra56024-entonces-la-noche', ' /obra63291-entonces-la-noche-fiba'],\n",
       " ['/obra27434-para-mi-sos-hermosa',\n",
       "  ' /obra71470-teatro-online-para-mi-sos-hermosa'],\n",
       " ['/obra41759-tarascones',\n",
       "  ' /obra49227-tarascones-venga-a-tomar-un-te-con-nosotras'],\n",
       " ['/obra70079-fuck-me', ' /obra19793-tacos-fuck-me-cabron'],\n",
       " ['/obra59413-la-vida-extraordinaria',\n",
       "  ' /obra63744-la-extraordinaria-vida-de-jorge-valente'],\n",
       " ['/obra27007-othelo', ' /obra15359-la-mirada-de-othelo'],\n",
       " ['/obra54345-vigilante', ' /obra45527-el-vigilante-juancito'],\n",
       " ['/obra64395-tadeys',\n",
       "  ' /obra67212-es-un-cuento-mi-cuerpo-conversacion-sobre-tadeys'],\n",
       " ['/obra80303-nada-de-carne-sobre-nosotras',\n",
       "  ' /obra79678-nada-de-carne-sobre-nosotras'],\n",
       " ['/obra74477-pieza-para-maniquies-y-un-actor-de-reparto',\n",
       "  ' /obra32746-pieza-para-maniquies-y-un-actor-de-reparto-documental-sobre-el-silencio'],\n",
       " ['/obra40037-dos-una-desconexion', ' /obra24390-dos-una-desconexion'],\n",
       " ['/obra71014-suyay', ' /obra34255-suyai-campion'],\n",
       " ['/obra18989-viejo-solo-y-puto',\n",
       "  ' /obra71615-teatro-online-viejo-solo-y-puto'],\n",
       " ['/obra70784-de-la-mejor-manera',\n",
       "  ' /obra8962-tartufo-o-la-mejor-manera-de-hacerse-del-projimo'],\n",
       " ['/obra51718-lo-quiero-ya', ' /obra51297-acustico-lo-quiero-ya'],\n",
       " ['/obra49827-la-guiada', ' /obra63666-la-visita-guiada-falsa'],\n",
       " ['/obra62607-estrella-el-aire-sale-el-aire-entra',\n",
       "  ' /obra63242-estrella-el-aire-sale-el-aire-entra-fiba'],\n",
       " ['/obra61222-las-vengadoras', ' /obra63243-las-vengadoras-fiba'],\n",
       " ['/obra62944-la-naranja-mecanica',\n",
       "  ' /obra74698-la-naranja-mecanica-el-musical'],\n",
       " ['/obra61147-animal-romantico', ' /obra63054-animal-romantico-fragmento'],\n",
       " ['/obra59626-charla-sobre-matate-amor', ' /obra56662-matate-amor'],\n",
       " ['/obra36442-prueba-y-error', ' /obra5657-a-pura-prueba-y-error'],\n",
       " ['/obra59640-solo-vine-a-ver-el-jardin',\n",
       "  ' /obra78-solo-vine-a-ver-el-jardin']]"
      ]
     },
     "execution_count": 7,
     "metadata": {},
     "output_type": "execute_result"
    }
   ],
   "source": [
    "ñ1 = [str(i).split(\",\") for i in df_x1['derivadas'].to_list()]\n",
    "ñ1 = [i for i in ñ1 if len(i) == 2 ]\n",
    "ñ1"
   ]
  },
  {
   "cell_type": "code",
   "execution_count": 57,
   "metadata": {},
   "outputs": [
    {
     "data": {
      "text/plain": [
       "['/obra59640-solo-vine-a-ver-el-jardin']"
      ]
     },
     "execution_count": 57,
     "metadata": {},
     "output_type": "execute_result"
    }
   ],
   "source": [
    "ñ1[-1] = [ñ1[-1][0]]\n",
    "ñ1[-1]"
   ]
  },
  {
   "cell_type": "code",
   "execution_count": 8,
   "metadata": {},
   "outputs": [
    {
     "data": {
      "text/plain": [
       "['/obra36442-prueba-y-error']"
      ]
     },
     "execution_count": 8,
     "metadata": {},
     "output_type": "execute_result"
    }
   ],
   "source": [
    "ñ1[-2] = [ñ1[-2][0]]\n",
    "ñ1[-2]"
   ]
  },
  {
   "cell_type": "code",
   "execution_count": 9,
   "metadata": {},
   "outputs": [
    {
     "data": {
      "text/plain": [
       "[' /obra56662-matate-amor']"
      ]
     },
     "execution_count": 9,
     "metadata": {},
     "output_type": "execute_result"
    }
   ],
   "source": [
    "ñ1[-3] = [ñ1[-3][1]]\n",
    "ñ1[-3]"
   ]
  },
  {
   "cell_type": "code",
   "execution_count": 10,
   "metadata": {},
   "outputs": [
    {
     "data": {
      "text/plain": [
       "['/obra61147-animal-romantico']"
      ]
     },
     "execution_count": 10,
     "metadata": {},
     "output_type": "execute_result"
    }
   ],
   "source": [
    "ñ1[-4] = [ñ1[-4][0]]\n",
    "ñ1[-4]"
   ]
  },
  {
   "cell_type": "code",
   "execution_count": 11,
   "metadata": {},
   "outputs": [
    {
     "data": {
      "text/plain": [
       "['/obra62944-la-naranja-mecanica']"
      ]
     },
     "execution_count": 11,
     "metadata": {},
     "output_type": "execute_result"
    }
   ],
   "source": [
    "ñ1[-5] = [ñ1[-5][0]]\n",
    "ñ1[-5]"
   ]
  },
  {
   "cell_type": "code",
   "execution_count": 12,
   "metadata": {},
   "outputs": [
    {
     "data": {
      "text/plain": [
       "['/obra61222-las-vengadoras']"
      ]
     },
     "execution_count": 12,
     "metadata": {},
     "output_type": "execute_result"
    }
   ],
   "source": [
    "ñ1[-6] = [ñ1[-6][0]]\n",
    "ñ1[-6]"
   ]
  },
  {
   "cell_type": "code",
   "execution_count": 13,
   "metadata": {},
   "outputs": [
    {
     "data": {
      "text/plain": [
       "['/obra62607-estrella-el-aire-sale-el-aire-entra']"
      ]
     },
     "execution_count": 13,
     "metadata": {},
     "output_type": "execute_result"
    }
   ],
   "source": [
    "ñ1[-7] = [ñ1[-7][0]]\n",
    "ñ1[-7]"
   ]
  },
  {
   "cell_type": "code",
   "execution_count": 14,
   "metadata": {},
   "outputs": [
    {
     "data": {
      "text/plain": [
       "['/obra49827-la-guiada']"
      ]
     },
     "execution_count": 14,
     "metadata": {},
     "output_type": "execute_result"
    }
   ],
   "source": [
    "ñ1[-8] = [ñ1[-8][0]]\n",
    "ñ1[-8]"
   ]
  },
  {
   "cell_type": "code",
   "execution_count": 15,
   "metadata": {},
   "outputs": [
    {
     "data": {
      "text/plain": [
       "['/obra51718-lo-quiero-ya']"
      ]
     },
     "execution_count": 15,
     "metadata": {},
     "output_type": "execute_result"
    }
   ],
   "source": [
    "ñ1[-9] = [ñ1[-9][0]]\n",
    "ñ1[-9]"
   ]
  },
  {
   "cell_type": "code",
   "execution_count": 16,
   "metadata": {},
   "outputs": [
    {
     "data": {
      "text/plain": [
       "['/obra70784-de-la-mejor-manera']"
      ]
     },
     "execution_count": 16,
     "metadata": {},
     "output_type": "execute_result"
    }
   ],
   "source": [
    "ñ1[-10] = [ñ1[-10][0]]\n",
    "ñ1[-10]"
   ]
  },
  {
   "cell_type": "code",
   "execution_count": 17,
   "metadata": {},
   "outputs": [
    {
     "data": {
      "text/plain": [
       "['/obra18989-viejo-solo-y-puto']"
      ]
     },
     "execution_count": 17,
     "metadata": {},
     "output_type": "execute_result"
    }
   ],
   "source": [
    "ñ1[-11] = [ñ1[-11][0]]\n",
    "ñ1[-11]"
   ]
  },
  {
   "cell_type": "code",
   "execution_count": 18,
   "metadata": {},
   "outputs": [
    {
     "data": {
      "text/plain": [
       "['/obra71014-suyay']"
      ]
     },
     "execution_count": 18,
     "metadata": {},
     "output_type": "execute_result"
    }
   ],
   "source": [
    "ñ1[-12] = [ñ1[-12][0]]\n",
    "ñ1[-12]"
   ]
  },
  {
   "cell_type": "code",
   "execution_count": 19,
   "metadata": {},
   "outputs": [
    {
     "data": {
      "text/plain": [
       "['/obra40037-dos-una-desconexion']"
      ]
     },
     "execution_count": 19,
     "metadata": {},
     "output_type": "execute_result"
    }
   ],
   "source": [
    "ñ1[-13] = [ñ1[-13][0]]\n",
    "ñ1[-13]"
   ]
  },
  {
   "cell_type": "code",
   "execution_count": 20,
   "metadata": {},
   "outputs": [
    {
     "data": {
      "text/plain": [
       "['/obra74477-pieza-para-maniquies-y-un-actor-de-reparto']"
      ]
     },
     "execution_count": 20,
     "metadata": {},
     "output_type": "execute_result"
    }
   ],
   "source": [
    "ñ1[-14] = [ñ1[-14][0]]\n",
    "ñ1[-14]"
   ]
  },
  {
   "cell_type": "code",
   "execution_count": 21,
   "metadata": {},
   "outputs": [
    {
     "data": {
      "text/plain": [
       "['/obra80303-nada-de-carne-sobre-nosotras']"
      ]
     },
     "execution_count": 21,
     "metadata": {},
     "output_type": "execute_result"
    }
   ],
   "source": [
    "ñ1[-15] = [ñ1[-15][0]]\n",
    "ñ1[-15]"
   ]
  },
  {
   "cell_type": "code",
   "execution_count": 22,
   "metadata": {},
   "outputs": [
    {
     "data": {
      "text/plain": [
       "['/obra80303-nada-de-carne-sobre-nosotras']"
      ]
     },
     "execution_count": 22,
     "metadata": {},
     "output_type": "execute_result"
    }
   ],
   "source": [
    "ñ1[-15] = [ñ1[-15][0]]\n",
    "ñ1[-15]"
   ]
  },
  {
   "cell_type": "code",
   "execution_count": 23,
   "metadata": {},
   "outputs": [
    {
     "data": {
      "text/plain": [
       "['/obra64395-tadeys']"
      ]
     },
     "execution_count": 23,
     "metadata": {},
     "output_type": "execute_result"
    }
   ],
   "source": [
    "ñ1[-16] = [ñ1[-16][0]]\n",
    "ñ1[-16]"
   ]
  },
  {
   "cell_type": "code",
   "execution_count": 24,
   "metadata": {},
   "outputs": [
    {
     "data": {
      "text/plain": [
       "['/obra54345-vigilante']"
      ]
     },
     "execution_count": 24,
     "metadata": {},
     "output_type": "execute_result"
    }
   ],
   "source": [
    "ñ1[-17] = [ñ1[-17][0]]\n",
    "ñ1[-17]"
   ]
  },
  {
   "cell_type": "code",
   "execution_count": 25,
   "metadata": {},
   "outputs": [
    {
     "data": {
      "text/plain": [
       "['/obra27007-othelo']"
      ]
     },
     "execution_count": 25,
     "metadata": {},
     "output_type": "execute_result"
    }
   ],
   "source": [
    "ñ1[-18] = [ñ1[-18][0]]\n",
    "ñ1[-18]"
   ]
  },
  {
   "cell_type": "code",
   "execution_count": 26,
   "metadata": {},
   "outputs": [
    {
     "data": {
      "text/plain": [
       "['/obra59413-la-vida-extraordinaria']"
      ]
     },
     "execution_count": 26,
     "metadata": {},
     "output_type": "execute_result"
    }
   ],
   "source": [
    "ñ1[-19] = [ñ1[-19][0]]\n",
    "ñ1[-19]"
   ]
  },
  {
   "cell_type": "code",
   "execution_count": 27,
   "metadata": {},
   "outputs": [
    {
     "data": {
      "text/plain": [
       "['/obra70079-fuck-me']"
      ]
     },
     "execution_count": 27,
     "metadata": {},
     "output_type": "execute_result"
    }
   ],
   "source": [
    "ñ1[-20] = [ñ1[-20][0]]\n",
    "ñ1[-20]"
   ]
  },
  {
   "cell_type": "code",
   "execution_count": 28,
   "metadata": {},
   "outputs": [
    {
     "data": {
      "text/plain": [
       "['/obra41759-tarascones']"
      ]
     },
     "execution_count": 28,
     "metadata": {},
     "output_type": "execute_result"
    }
   ],
   "source": [
    "ñ1[-21] = [ñ1[-21][0]]\n",
    "ñ1[-21]"
   ]
  },
  {
   "cell_type": "code",
   "execution_count": 29,
   "metadata": {},
   "outputs": [
    {
     "data": {
      "text/plain": [
       "['/obra27434-para-mi-sos-hermosa']"
      ]
     },
     "execution_count": 29,
     "metadata": {},
     "output_type": "execute_result"
    }
   ],
   "source": [
    "ñ1[-22] = [ñ1[-22][0]]\n",
    "ñ1[-22]"
   ]
  },
  {
   "cell_type": "code",
   "execution_count": 30,
   "metadata": {},
   "outputs": [
    {
     "data": {
      "text/plain": [
       "['/obra56024-entonces-la-noche']"
      ]
     },
     "execution_count": 30,
     "metadata": {},
     "output_type": "execute_result"
    }
   ],
   "source": [
    "ñ1[-23] = [ñ1[-23][0]]\n",
    "ñ1[-23]"
   ]
  },
  {
   "cell_type": "code",
   "execution_count": 31,
   "metadata": {},
   "outputs": [
    {
     "data": {
      "text/plain": [
       "['/obra10581-pasionaria']"
      ]
     },
     "execution_count": 31,
     "metadata": {},
     "output_type": "execute_result"
    }
   ],
   "source": [
    "ñ1[-24] = [ñ1[-24][0]]\n",
    "ñ1[-24]"
   ]
  },
  {
   "cell_type": "code",
   "execution_count": 32,
   "metadata": {},
   "outputs": [
    {
     "data": {
      "text/plain": [
       "['/obra15643-doberman']"
      ]
     },
     "execution_count": 32,
     "metadata": {},
     "output_type": "execute_result"
    }
   ],
   "source": [
    "ñ1[-25] = [ñ1[-25][0]]\n",
    "ñ1[-25]"
   ]
  },
  {
   "cell_type": "code",
   "execution_count": 33,
   "metadata": {},
   "outputs": [
    {
     "data": {
      "text/plain": [
       "['/obra57660-warangas']"
      ]
     },
     "execution_count": 33,
     "metadata": {},
     "output_type": "execute_result"
    }
   ],
   "source": [
    "ñ1[-26] = [ñ1[-26][0]]\n",
    "ñ1[-26]"
   ]
  },
  {
   "cell_type": "code",
   "execution_count": 34,
   "metadata": {},
   "outputs": [
    {
     "data": {
      "text/plain": [
       "['/obra21638-sudado']"
      ]
     },
     "execution_count": 34,
     "metadata": {},
     "output_type": "execute_result"
    }
   ],
   "source": [
    "ñ1[-27] = [ñ1[-27][0]]\n",
    "ñ1[-27]"
   ]
  },
  {
   "cell_type": "code",
   "execution_count": 35,
   "metadata": {},
   "outputs": [
    {
     "data": {
      "text/plain": [
       "['/obra52887-la-forma-de-las-cosas']"
      ]
     },
     "execution_count": 35,
     "metadata": {},
     "output_type": "execute_result"
    }
   ],
   "source": [
    "ñ1[-28] = [ñ1[-28][0]]\n",
    "ñ1[-28]"
   ]
  },
  {
   "cell_type": "code",
   "execution_count": 36,
   "metadata": {},
   "outputs": [
    {
     "data": {
      "text/plain": [
       "['/obra68377-the-pall-mall-twins']"
      ]
     },
     "execution_count": 36,
     "metadata": {},
     "output_type": "execute_result"
    }
   ],
   "source": [
    "ñ1[-29] = [ñ1[-29][0]]\n",
    "ñ1[-29]"
   ]
  },
  {
   "cell_type": "code",
   "execution_count": 37,
   "metadata": {},
   "outputs": [
    {
     "data": {
      "text/plain": [
       "['/obra67260-sentada-en-una-casa-de-vidrio']"
      ]
     },
     "execution_count": 37,
     "metadata": {},
     "output_type": "execute_result"
    }
   ],
   "source": [
    "ñ1[-30] = [ñ1[-30][0]]\n",
    "ñ1[-30]"
   ]
  },
  {
   "cell_type": "code",
   "execution_count": 38,
   "metadata": {},
   "outputs": [
    {
     "data": {
      "text/plain": [
       "['/obra42663-gurisa']"
      ]
     },
     "execution_count": 38,
     "metadata": {},
     "output_type": "execute_result"
    }
   ],
   "source": [
    "ñ1[-31] = [ñ1[-31][0]]\n",
    "ñ1[-31]"
   ]
  },
  {
   "cell_type": "code",
   "execution_count": 39,
   "metadata": {},
   "outputs": [
    {
     "data": {
      "text/plain": [
       "['/obra64253-trastorno']"
      ]
     },
     "execution_count": 39,
     "metadata": {},
     "output_type": "execute_result"
    }
   ],
   "source": [
    "ñ1[-32] = [ñ1[-32][0]]\n",
    "ñ1[-32]"
   ]
  },
  {
   "cell_type": "code",
   "execution_count": 40,
   "metadata": {},
   "outputs": [
    {
     "data": {
      "text/plain": [
       "['/obra45959-tebas-land']"
      ]
     },
     "execution_count": 40,
     "metadata": {},
     "output_type": "execute_result"
    }
   ],
   "source": [
    "ñ1[-33] = [ñ1[-33][0]]\n",
    "ñ1[-33]"
   ]
  },
  {
   "cell_type": "code",
   "execution_count": 41,
   "metadata": {},
   "outputs": [
    {
     "data": {
      "text/plain": [
       "[' /obra34119-la-casa-oscura']"
      ]
     },
     "execution_count": 41,
     "metadata": {},
     "output_type": "execute_result"
    }
   ],
   "source": [
    "ñ1[-34] = [ñ1[-34][1]]\n",
    "ñ1[-34]"
   ]
  },
  {
   "cell_type": "code",
   "execution_count": 42,
   "metadata": {},
   "outputs": [
    {
     "data": {
      "text/plain": [
       "[' /obra27740-edipo-en-ezeiza']"
      ]
     },
     "execution_count": 42,
     "metadata": {},
     "output_type": "execute_result"
    }
   ],
   "source": [
    "ñ1[-35] = [ñ1[-35][1]]\n",
    "ñ1[-35]"
   ]
  },
  {
   "cell_type": "code",
   "execution_count": 43,
   "metadata": {},
   "outputs": [
    {
     "data": {
      "text/plain": [
       "[' /obra33482-hamlet-esta-muerto-sin-fuerza-de-gravedad']"
      ]
     },
     "execution_count": 43,
     "metadata": {},
     "output_type": "execute_result"
    }
   ],
   "source": [
    "ñ1[-36] = [ñ1[-36][1]]\n",
    "ñ1[-36]"
   ]
  },
  {
   "cell_type": "code",
   "execution_count": 44,
   "metadata": {},
   "outputs": [
    {
     "data": {
      "text/plain": [
       "['/obra59320-200-golpes-de-jamon-serrano']"
      ]
     },
     "execution_count": 44,
     "metadata": {},
     "output_type": "execute_result"
    }
   ],
   "source": [
    "ñ1[-37] = [ñ1[-37][0]]\n",
    "ñ1[-37]"
   ]
  },
  {
   "cell_type": "code",
   "execution_count": 45,
   "metadata": {},
   "outputs": [
    {
     "data": {
      "text/plain": [
       "['/obra37490-como-si-pasara-un-tren']"
      ]
     },
     "execution_count": 45,
     "metadata": {},
     "output_type": "execute_result"
    }
   ],
   "source": [
    "ñ1[-38] = [ñ1[-38][0]]\n",
    "ñ1[-38]"
   ]
  },
  {
   "cell_type": "code",
   "execution_count": 46,
   "metadata": {},
   "outputs": [
    {
     "data": {
      "text/plain": [
       "['/obra47548-christiane-un-biomusical-cientifico']"
      ]
     },
     "execution_count": 46,
     "metadata": {},
     "output_type": "execute_result"
    }
   ],
   "source": [
    "ñ1[-39] = [ñ1[-39][0]]\n",
    "ñ1[-39]"
   ]
  },
  {
   "cell_type": "code",
   "execution_count": 47,
   "metadata": {},
   "outputs": [
    {
     "data": {
      "text/plain": [
       "[' /obra57982-astronautas']"
      ]
     },
     "execution_count": 47,
     "metadata": {},
     "output_type": "execute_result"
    }
   ],
   "source": [
    "ñ1[-40] = [ñ1[-40][1]]\n",
    "ñ1[-40]"
   ]
  },
  {
   "cell_type": "code",
   "execution_count": 48,
   "metadata": {},
   "outputs": [
    {
     "data": {
      "text/plain": [
       "['/obra4926-la-omision-de-la-familia-coleman']"
      ]
     },
     "execution_count": 48,
     "metadata": {},
     "output_type": "execute_result"
    }
   ],
   "source": [
    "ñ1[-41] = [ñ1[-41][0]]\n",
    "ñ1[-41]"
   ]
  },
  {
   "cell_type": "code",
   "execution_count": 49,
   "metadata": {},
   "outputs": [
    {
     "data": {
      "text/plain": [
       "['/obra28891-piedra-sentada-pata-corrida']"
      ]
     },
     "execution_count": 49,
     "metadata": {},
     "output_type": "execute_result"
    }
   ],
   "source": [
    "ñ1[-42] = [ñ1[-42][0]]\n",
    "ñ1[-42]"
   ]
  },
  {
   "cell_type": "code",
   "execution_count": 50,
   "metadata": {},
   "outputs": [
    {
     "data": {
      "text/plain": [
       "['/obra55037-rayito-de-sol']"
      ]
     },
     "execution_count": 50,
     "metadata": {},
     "output_type": "execute_result"
    }
   ],
   "source": [
    "ñ1[-43] = [ñ1[-43][0]]\n",
    "ñ1[-43]"
   ]
  },
  {
   "cell_type": "code",
   "execution_count": 51,
   "metadata": {},
   "outputs": [
    {
     "data": {
      "text/plain": [
       "['/obra37445-el-paraiso-perdido']"
      ]
     },
     "execution_count": 51,
     "metadata": {},
     "output_type": "execute_result"
    }
   ],
   "source": [
    "ñ1[-44] = [ñ1[-44][0]]\n",
    "ñ1[-44]"
   ]
  },
  {
   "cell_type": "code",
   "execution_count": 52,
   "metadata": {},
   "outputs": [
    {
     "data": {
      "text/plain": [
       "['/obra57287-la-voluntad-teatro-a-distancia']"
      ]
     },
     "execution_count": 52,
     "metadata": {},
     "output_type": "execute_result"
    }
   ],
   "source": [
    "ñ1[-45] = [ñ1[-45][0]]\n",
    "ñ1[-45]"
   ]
  },
  {
   "cell_type": "code",
   "execution_count": 53,
   "metadata": {},
   "outputs": [
    {
     "data": {
      "text/plain": [
       "['/obra75779-las-cautivas']"
      ]
     },
     "execution_count": 53,
     "metadata": {},
     "output_type": "execute_result"
    }
   ],
   "source": [
    "ñ1[-46] = [ñ1[-46][0]]\n",
    "ñ1[-46]"
   ]
  },
  {
   "cell_type": "code",
   "execution_count": 54,
   "metadata": {},
   "outputs": [
    {
     "data": {
      "text/plain": [
       "[' /obra28566-proyecto-posadas']"
      ]
     },
     "execution_count": 54,
     "metadata": {},
     "output_type": "execute_result"
    }
   ],
   "source": [
    "ñ1[-47] = [ñ1[-47][1]]\n",
    "ñ1[-47]"
   ]
  },
  {
   "cell_type": "code",
   "execution_count": 55,
   "metadata": {},
   "outputs": [
    {
     "data": {
      "text/plain": [
       "['/obra21551-impalpable']"
      ]
     },
     "execution_count": 55,
     "metadata": {},
     "output_type": "execute_result"
    }
   ],
   "source": [
    "ñ1[-48] = [ñ1[-48][0]]\n",
    "ñ1[-48]"
   ]
  },
  {
   "cell_type": "code",
   "execution_count": 56,
   "metadata": {},
   "outputs": [
    {
     "data": {
      "text/plain": [
       "[' /obra63013-chorus-line']"
      ]
     },
     "execution_count": 56,
     "metadata": {},
     "output_type": "execute_result"
    }
   ],
   "source": [
    "ñ1[-49] = [ñ1[-49][1]]\n",
    "ñ1[-49]"
   ]
  },
  {
   "cell_type": "code",
   "execution_count": 61,
   "metadata": {},
   "outputs": [
    {
     "data": {
      "text/plain": [
       "[[' /obra63013-chorus-line'],\n",
       " ['/obra21551-impalpable'],\n",
       " [' /obra28566-proyecto-posadas'],\n",
       " ['/obra75779-las-cautivas'],\n",
       " ['/obra57287-la-voluntad-teatro-a-distancia'],\n",
       " ['/obra37445-el-paraiso-perdido'],\n",
       " ['/obra55037-rayito-de-sol'],\n",
       " ['/obra28891-piedra-sentada-pata-corrida'],\n",
       " ['/obra4926-la-omision-de-la-familia-coleman'],\n",
       " [' /obra57982-astronautas'],\n",
       " ['/obra47548-christiane-un-biomusical-cientifico'],\n",
       " ['/obra37490-como-si-pasara-un-tren'],\n",
       " ['/obra59320-200-golpes-de-jamon-serrano'],\n",
       " [' /obra33482-hamlet-esta-muerto-sin-fuerza-de-gravedad'],\n",
       " [' /obra27740-edipo-en-ezeiza'],\n",
       " [' /obra34119-la-casa-oscura'],\n",
       " ['/obra45959-tebas-land'],\n",
       " ['/obra64253-trastorno'],\n",
       " ['/obra42663-gurisa'],\n",
       " ['/obra67260-sentada-en-una-casa-de-vidrio'],\n",
       " ['/obra68377-the-pall-mall-twins'],\n",
       " ['/obra52887-la-forma-de-las-cosas'],\n",
       " ['/obra21638-sudado'],\n",
       " ['/obra57660-warangas'],\n",
       " ['/obra15643-doberman'],\n",
       " ['/obra10581-pasionaria'],\n",
       " ['/obra56024-entonces-la-noche'],\n",
       " ['/obra27434-para-mi-sos-hermosa'],\n",
       " ['/obra41759-tarascones'],\n",
       " ['/obra70079-fuck-me'],\n",
       " ['/obra59413-la-vida-extraordinaria'],\n",
       " ['/obra27007-othelo'],\n",
       " ['/obra54345-vigilante'],\n",
       " ['/obra64395-tadeys'],\n",
       " ['/obra80303-nada-de-carne-sobre-nosotras'],\n",
       " ['/obra74477-pieza-para-maniquies-y-un-actor-de-reparto'],\n",
       " ['/obra40037-dos-una-desconexion'],\n",
       " ['/obra71014-suyay'],\n",
       " ['/obra18989-viejo-solo-y-puto'],\n",
       " ['/obra70784-de-la-mejor-manera'],\n",
       " ['/obra51718-lo-quiero-ya'],\n",
       " ['/obra49827-la-guiada'],\n",
       " ['/obra62607-estrella-el-aire-sale-el-aire-entra'],\n",
       " ['/obra61222-las-vengadoras'],\n",
       " ['/obra62944-la-naranja-mecanica'],\n",
       " ['/obra61147-animal-romantico'],\n",
       " [' /obra56662-matate-amor'],\n",
       " ['/obra36442-prueba-y-error'],\n",
       " ['/obra59640-solo-vine-a-ver-el-jardin']]"
      ]
     },
     "execution_count": 61,
     "metadata": {},
     "output_type": "execute_result"
    }
   ],
   "source": [
    "ñ1"
   ]
  },
  {
   "cell_type": "code",
   "execution_count": 62,
   "metadata": {},
   "outputs": [
    {
     "data": {
      "text/plain": [
       "['/obra64382-a-chorus-line, /obra63013-chorus-line',\n",
       " '/obra21551-impalpable, /obra9731-la-madre-impalpable',\n",
       " '/obra69702-proyecto-posadas, /obra28566-proyecto-posadas',\n",
       " '/obra75779-las-cautivas, /obra74450-las-cautivas',\n",
       " '/obra57287-la-voluntad-teatro-a-distancia, /obra33742-la-voluntad-teatro-a-distancia',\n",
       " '/obra37445-el-paraiso-perdido, /obra64890-la-trampa-del-paraiso-perdido',\n",
       " '/obra55037-rayito-de-sol, /obra50667-rayito-de-sol',\n",
       " '/obra28891-piedra-sentada-pata-corrida, /obra45268-piedra-sentada-pata-corrida-farsa-civilizatoria',\n",
       " '/obra4926-la-omision-de-la-familia-coleman, /obra71559-teatro-online-la-omision-de-la-familia-coleman',\n",
       " '/obra63056-asstronautas, /obra57982-astronautas',\n",
       " '/obra47548-christiane-un-biomusical-cientifico, /obra78310-christiane-un-biomusical-cientifico',\n",
       " '/obra37490-como-si-pasara-un-tren, /obra63237-como-si-pasara-un-tren-fiba',\n",
       " '/obra59320-200-golpes-de-jamon-serrano, /obra67639-festival-teatroxlaidentidad-200-golpes-de-jamon-serrano',\n",
       " '/obra50190-cielo-es-una-maquina-hamlet-esta-muerto-sin-fuerza-de-gravedad, /obra33482-hamlet-esta-muerto-sin-fuerza-de-gravedad',\n",
       " '/obra38940-edipo-en-ezeiza, /obra27740-edipo-en-ezeiza',\n",
       " '/obra75159-la-casa-oscura-un-show-documental-sobre-la-salud-mental, /obra34119-la-casa-oscura',\n",
       " '/obra45959-tebas-land, /obra39691-tebas-land',\n",
       " '/obra64253-trastorno, /obra13324-el-trastorno-de-los-pulpos',\n",
       " '/obra42663-gurisa, /obra10357-gurisadas',\n",
       " '/obra67260-sentada-en-una-casa-de-vidrio, /obra66751-sentada-en-una-casa-de-vidrio-work-in-progress',\n",
       " '/obra68377-the-pall-mall-twins, /obra65757-la-casa-de-alba-torrens-16-the-pall-mall-twins',\n",
       " '/obra52887-la-forma-de-las-cosas, /obra13034-la-forma-de-las-cosas',\n",
       " '/obra21638-sudado, /obra41684-teatro-sudado',\n",
       " '/obra57660-warangas, /obra57877-warangas-night-show',\n",
       " '/obra15643-doberman, /obra54977-doberman',\n",
       " '/obra10581-pasionaria, /obra42780-pasionaria-portena',\n",
       " '/obra56024-entonces-la-noche, /obra63291-entonces-la-noche-fiba',\n",
       " '/obra27434-para-mi-sos-hermosa, /obra71470-teatro-online-para-mi-sos-hermosa',\n",
       " '/obra41759-tarascones, /obra49227-tarascones-venga-a-tomar-un-te-con-nosotras',\n",
       " '/obra70079-fuck-me, /obra19793-tacos-fuck-me-cabron',\n",
       " '/obra59413-la-vida-extraordinaria, /obra63744-la-extraordinaria-vida-de-jorge-valente',\n",
       " '/obra27007-othelo, /obra15359-la-mirada-de-othelo',\n",
       " '/obra54345-vigilante, /obra45527-el-vigilante-juancito',\n",
       " '/obra64395-tadeys, /obra67212-es-un-cuento-mi-cuerpo-conversacion-sobre-tadeys',\n",
       " '/obra80303-nada-de-carne-sobre-nosotras, /obra79678-nada-de-carne-sobre-nosotras',\n",
       " '/obra74477-pieza-para-maniquies-y-un-actor-de-reparto, /obra32746-pieza-para-maniquies-y-un-actor-de-reparto-documental-sobre-el-silencio',\n",
       " '/obra40037-dos-una-desconexion, /obra24390-dos-una-desconexion',\n",
       " '/obra71014-suyay, /obra34255-suyai-campion',\n",
       " '/obra18989-viejo-solo-y-puto, /obra71615-teatro-online-viejo-solo-y-puto',\n",
       " '/obra70784-de-la-mejor-manera, /obra8962-tartufo-o-la-mejor-manera-de-hacerse-del-projimo',\n",
       " '/obra51718-lo-quiero-ya, /obra51297-acustico-lo-quiero-ya',\n",
       " '/obra49827-la-guiada, /obra63666-la-visita-guiada-falsa',\n",
       " '/obra62607-estrella-el-aire-sale-el-aire-entra, /obra63242-estrella-el-aire-sale-el-aire-entra-fiba',\n",
       " '/obra61222-las-vengadoras, /obra63243-las-vengadoras-fiba',\n",
       " '/obra62944-la-naranja-mecanica, /obra74698-la-naranja-mecanica-el-musical',\n",
       " '/obra61147-animal-romantico, /obra63054-animal-romantico-fragmento',\n",
       " '/obra59626-charla-sobre-matate-amor, /obra56662-matate-amor',\n",
       " '/obra36442-prueba-y-error, /obra5657-a-pura-prueba-y-error',\n",
       " '/obra59640-solo-vine-a-ver-el-jardin, /obra78-solo-vine-a-ver-el-jardin']"
      ]
     },
     "execution_count": 62,
     "metadata": {},
     "output_type": "execute_result"
    }
   ],
   "source": [
    "ñ0 = [str(i).split(\",\") for i in df_x1['derivadas'].to_list()]\n",
    "ñ0 = [i for i in ñ0 if len(i) == 2 ]\n",
    "ñ0 = [i[0]+','+i[1] for i in ñ0]\n",
    "ñ0"
   ]
  },
  {
   "cell_type": "code",
   "execution_count": 68,
   "metadata": {},
   "outputs": [
    {
     "data": {
      "text/html": [
       "<div>\n",
       "<style scoped>\n",
       "    .dataframe tbody tr th:only-of-type {\n",
       "        vertical-align: middle;\n",
       "    }\n",
       "\n",
       "    .dataframe tbody tr th {\n",
       "        vertical-align: top;\n",
       "    }\n",
       "\n",
       "    .dataframe thead th {\n",
       "        text-align: right;\n",
       "    }\n",
       "</style>\n",
       "<table border=\"1\" class=\"dataframe\">\n",
       "  <thead>\n",
       "    <tr style=\"text-align: right;\">\n",
       "      <th></th>\n",
       "      <th>nombre</th>\n",
       "      <th>urlAT</th>\n",
       "      <th>derivadas</th>\n",
       "      <th>urlF</th>\n",
       "      <th>categoríaF</th>\n",
       "    </tr>\n",
       "  </thead>\n",
       "  <tbody>\n",
       "    <tr>\n",
       "      <th>0</th>\n",
       "      <td>Gansos</td>\n",
       "      <td>NaN</td>\n",
       "      <td>/obra74685-gansos, /obra54414-los-gansos-grazn...</td>\n",
       "      <td>https://farsamag.com/obras/gansos/</td>\n",
       "      <td>Reseña</td>\n",
       "    </tr>\n",
       "    <tr>\n",
       "      <th>1</th>\n",
       "      <td>Las oceánicas</td>\n",
       "      <td>https://www.alternativateatral.com//obra74192-...</td>\n",
       "      <td>/obra74192-las-oceanicas</td>\n",
       "      <td>https://farsamag.com/obras/las-oceanicas/</td>\n",
       "      <td>Reseña</td>\n",
       "    </tr>\n",
       "    <tr>\n",
       "      <th>2</th>\n",
       "      <td>Lorca, el teatro bajo la arena</td>\n",
       "      <td>https://www.alternativateatral.com//obra78212-...</td>\n",
       "      <td>/obra78212-lorca-el-teatro-bajo-la-arena</td>\n",
       "      <td>https://farsamag.com/obras/lorca-el-teatro-baj...</td>\n",
       "      <td>Imperdible</td>\n",
       "    </tr>\n",
       "    <tr>\n",
       "      <th>3</th>\n",
       "      <td>A Chorus Line</td>\n",
       "      <td>https://www.alternativateatral.com/ /obra63013...</td>\n",
       "      <td>/obra64382-a-chorus-line, /obra63013-chorus-line</td>\n",
       "      <td>https://farsamag.com/obras/a-chorus-line/</td>\n",
       "      <td>Reseña</td>\n",
       "    </tr>\n",
       "    <tr>\n",
       "      <th>4</th>\n",
       "      <td>Impalpable</td>\n",
       "      <td>https://www.alternativateatral.com//obra21551-...</td>\n",
       "      <td>/obra21551-impalpable, /obra9731-la-madre-impa...</td>\n",
       "      <td>https://farsamag.com/obras/impalpable/</td>\n",
       "      <td>Destacada</td>\n",
       "    </tr>\n",
       "    <tr>\n",
       "      <th>...</th>\n",
       "      <td>...</td>\n",
       "      <td>...</td>\n",
       "      <td>...</td>\n",
       "      <td>...</td>\n",
       "      <td>...</td>\n",
       "    </tr>\n",
       "    <tr>\n",
       "      <th>294</th>\n",
       "      <td>Los abrazos huecos</td>\n",
       "      <td>https://www.alternativateatral.com//obra63208-...</td>\n",
       "      <td>/obra63208-los-abrazos-huecos</td>\n",
       "      <td>https://farsamag.com/obras/los-abrazos-huecos/</td>\n",
       "      <td>Destacada</td>\n",
       "    </tr>\n",
       "    <tr>\n",
       "      <th>295</th>\n",
       "      <td>Actriz</td>\n",
       "      <td>NaN</td>\n",
       "      <td>/obra69780-actriz, /obra34269-actriz, /obra625...</td>\n",
       "      <td>https://farsamag.com/obras/actriz/</td>\n",
       "      <td>Destacada</td>\n",
       "    </tr>\n",
       "    <tr>\n",
       "      <th>296</th>\n",
       "      <td>Forever Young</td>\n",
       "      <td>NaN</td>\n",
       "      <td>/obra24072-forever-young, /obra69181-forever-y...</td>\n",
       "      <td>https://farsamag.com/obras/forever-young/</td>\n",
       "      <td>Imperdible</td>\n",
       "    </tr>\n",
       "    <tr>\n",
       "      <th>297</th>\n",
       "      <td>Solo vine a ver el jardín</td>\n",
       "      <td>https://www.alternativateatral.com//obra59640-...</td>\n",
       "      <td>/obra59640-solo-vine-a-ver-el-jardin, /obra78-...</td>\n",
       "      <td>https://farsamag.com/obras/solo-vine-a-ver-el-...</td>\n",
       "      <td>Reseña</td>\n",
       "    </tr>\n",
       "    <tr>\n",
       "      <th>298</th>\n",
       "      <td>Hidalgo</td>\n",
       "      <td>NaN</td>\n",
       "      <td>/obra52560-hidalgo, /obra43556-hidalgo, /obra6...</td>\n",
       "      <td>https://farsamag.com/obras/hidalgo/</td>\n",
       "      <td>Reseña</td>\n",
       "    </tr>\n",
       "  </tbody>\n",
       "</table>\n",
       "<p>299 rows × 5 columns</p>\n",
       "</div>"
      ],
      "text/plain": [
       "                             nombre  \\\n",
       "0                            Gansos   \n",
       "1                     Las oceánicas   \n",
       "2    Lorca, el teatro bajo la arena   \n",
       "3                     A Chorus Line   \n",
       "4                        Impalpable   \n",
       "..                              ...   \n",
       "294              Los abrazos huecos   \n",
       "295                          Actriz   \n",
       "296                   Forever Young   \n",
       "297       Solo vine a ver el jardín   \n",
       "298                         Hidalgo   \n",
       "\n",
       "                                                 urlAT  \\\n",
       "0                                                  NaN   \n",
       "1    https://www.alternativateatral.com//obra74192-...   \n",
       "2    https://www.alternativateatral.com//obra78212-...   \n",
       "3    https://www.alternativateatral.com/ /obra63013...   \n",
       "4    https://www.alternativateatral.com//obra21551-...   \n",
       "..                                                 ...   \n",
       "294  https://www.alternativateatral.com//obra63208-...   \n",
       "295                                                NaN   \n",
       "296                                                NaN   \n",
       "297  https://www.alternativateatral.com//obra59640-...   \n",
       "298                                                NaN   \n",
       "\n",
       "                                             derivadas  \\\n",
       "0    /obra74685-gansos, /obra54414-los-gansos-grazn...   \n",
       "1                             /obra74192-las-oceanicas   \n",
       "2             /obra78212-lorca-el-teatro-bajo-la-arena   \n",
       "3     /obra64382-a-chorus-line, /obra63013-chorus-line   \n",
       "4    /obra21551-impalpable, /obra9731-la-madre-impa...   \n",
       "..                                                 ...   \n",
       "294                      /obra63208-los-abrazos-huecos   \n",
       "295  /obra69780-actriz, /obra34269-actriz, /obra625...   \n",
       "296  /obra24072-forever-young, /obra69181-forever-y...   \n",
       "297  /obra59640-solo-vine-a-ver-el-jardin, /obra78-...   \n",
       "298  /obra52560-hidalgo, /obra43556-hidalgo, /obra6...   \n",
       "\n",
       "                                                  urlF  categoríaF  \n",
       "0                   https://farsamag.com/obras/gansos/      Reseña  \n",
       "1            https://farsamag.com/obras/las-oceanicas/      Reseña  \n",
       "2    https://farsamag.com/obras/lorca-el-teatro-baj...  Imperdible  \n",
       "3            https://farsamag.com/obras/a-chorus-line/      Reseña  \n",
       "4               https://farsamag.com/obras/impalpable/   Destacada  \n",
       "..                                                 ...         ...  \n",
       "294     https://farsamag.com/obras/los-abrazos-huecos/   Destacada  \n",
       "295                 https://farsamag.com/obras/actriz/   Destacada  \n",
       "296          https://farsamag.com/obras/forever-young/  Imperdible  \n",
       "297  https://farsamag.com/obras/solo-vine-a-ver-el-...      Reseña  \n",
       "298                https://farsamag.com/obras/hidalgo/      Reseña  \n",
       "\n",
       "[299 rows x 5 columns]"
      ]
     },
     "execution_count": 68,
     "metadata": {},
     "output_type": "execute_result"
    }
   ],
   "source": [
    "for i in range(0,len(ñ0)):\n",
    "    df_x1.loc[df_x1[\"derivadas\"] == ñ0[i], \"urlAT\"] = \"https://www.alternativateatral.com/\" + ñ1[i][0]\n",
    "df_x1"
   ]
  },
  {
   "cell_type": "code",
   "execution_count": 84,
   "metadata": {},
   "outputs": [
    {
     "data": {
      "text/plain": [
       "[nan,\n",
       " 'https://www.alternativateatral.com//obra74192-las-oceanicas',\n",
       " 'https://www.alternativateatral.com//obra78212-lorca-el-teatro-bajo-la-arena',\n",
       " 'https://www.alternativateatral.com/ /obra63013-chorus-line',\n",
       " 'https://www.alternativateatral.com//obra21551-impalpable',\n",
       " 'https://www.alternativateatral.com//obra48652-este-verano-te-mato',\n",
       " nan,\n",
       " 'https://www.alternativateatral.com//obra78746-direccion-desconocida',\n",
       " nan,\n",
       " 'https://www.alternativateatral.com//obra43302-la-culpa-de-nada',\n",
       " 'https://www.alternativateatral.com//obra74699-desertoras',\n",
       " 'https://www.alternativateatral.com//obra50839-el-mundo-es-mas-fuerte-que-yo',\n",
       " 'https://www.alternativateatral.com//obra54251-protocolar',\n",
       " nan,\n",
       " 'https://www.alternativateatral.com//obra70626-pampa-escarlata',\n",
       " 'https://www.alternativateatral.com//obra60566-un-rincon-en-el-mundo',\n",
       " 'https://www.alternativateatral.com//obra75305-la-/obra-publica',\n",
       " 'https://www.alternativateatral.com/ /obra28566-proyecto-posadas',\n",
       " 'https://www.alternativateatral.com//obra75779-las-cautivas',\n",
       " 'https://www.alternativateatral.com//obra57287-la-voluntad-teatro-a-distancia',\n",
       " nan,\n",
       " 'https://www.alternativateatral.com//obra77155-no-hay-banda',\n",
       " 'https://www.alternativateatral.com//obra76025-como-vaca-mirando-un-tren',\n",
       " 'https://www.alternativateatral.com//obra37445-el-paraiso-perdido',\n",
       " 'https://www.alternativateatral.com//obra70670-las-cargas',\n",
       " nan,\n",
       " 'https://www.alternativateatral.com//obra17231-el-bululu-antologia-endiablada',\n",
       " 'https://www.alternativateatral.com//obra33399-menea-para-mi',\n",
       " 'https://www.alternativateatral.com//obra55037-rayito-de-sol',\n",
       " 'https://www.alternativateatral.com//obra75386-olvidame',\n",
       " 'https://www.alternativateatral.com//obra58745-pundonor',\n",
       " 'https://www.alternativateatral.com//obra67638-festival-teatroxlaidentidad-terrenal-pequeno-misterio-acrata',\n",
       " 'https://www.alternativateatral.com//obra53631-el-puente-azul',\n",
       " 'https://www.alternativateatral.com//obra74530-reinas-abolladas',\n",
       " 'https://www.alternativateatral.com//obra40097-enamorarse-es-hablar-corto-y-enredado',\n",
       " 'https://www.alternativateatral.com//obra78555-jijop-una-historia-bailada',\n",
       " 'https://www.alternativateatral.com//obra66693-experiencia-i-la-persona-deprimida',\n",
       " 'https://www.alternativateatral.com//obra63700-que-todas-las-vaquitas-de-argentina-griten-mu-grupo-minimo',\n",
       " 'https://www.alternativateatral.com//obra28891-piedra-sentada-pata-corrida',\n",
       " 'https://www.alternativateatral.com//obra4926-la-omision-de-la-familia-coleman',\n",
       " 'https://www.alternativateatral.com//obra15117-el-loco-y-la-camisa',\n",
       " 'https://www.alternativateatral.com/ /obra57982-astronautas',\n",
       " 'https://www.alternativateatral.com//obra47548-christiane-un-biomusical-cientifico',\n",
       " 'https://www.alternativateatral.com//obra18246-rosa-brillando',\n",
       " 'https://www.alternativateatral.com//obra59952-los-dias-de-la-fragilidad',\n",
       " 'https://www.alternativateatral.com//obra75809-una-/obra-para-mi',\n",
       " 'https://www.alternativateatral.com//obra74405-habitacion-macbeth',\n",
       " 'https://www.alternativateatral.com//obra37490-como-si-pasara-un-tren',\n",
       " 'https://www.alternativateatral.com//obra79559-conurbano-cotidiano',\n",
       " 'https://www.alternativateatral.com//obra75040-luz-testigo',\n",
       " 'https://www.alternativateatral.com//obra70052-cosas-pesadas-caen',\n",
       " 'https://www.alternativateatral.com//obra73936-captura-de-aves-silvestres',\n",
       " nan,\n",
       " nan,\n",
       " nan,\n",
       " 'https://www.alternativateatral.com//obra60898-imprenteros',\n",
       " nan,\n",
       " 'https://www.alternativateatral.com//obra56494-el-ultimo-espectador',\n",
       " nan,\n",
       " nan,\n",
       " nan,\n",
       " 'https://www.alternativateatral.com//obra59320-200-golpes-de-jamon-serrano',\n",
       " nan,\n",
       " 'https://www.alternativateatral.com//obra36093-la-pilarcita',\n",
       " 'https://www.alternativateatral.com//obra68561-las-cunadas',\n",
       " nan,\n",
       " nan,\n",
       " 'https://www.alternativateatral.com/ /obra33482-hamlet-esta-muerto-sin-fuerza-de-gravedad',\n",
       " nan,\n",
       " 'https://www.alternativateatral.com//obra77945-los-finales-felices-son-para-otros',\n",
       " nan,\n",
       " nan,\n",
       " 'https://www.alternativateatral.com//obra6280-la-cuna-vacia',\n",
       " nan,\n",
       " nan,\n",
       " 'https://www.alternativateatral.com//obra60026-sagrado-bosque-de-monstruos',\n",
       " nan,\n",
       " 'https://www.alternativateatral.com//obra53397-el-inestimable-hermano',\n",
       " 'https://www.alternativateatral.com//obra77656-yorick-la-mirada-del-bufon',\n",
       " nan,\n",
       " nan,\n",
       " 'https://www.alternativateatral.com//obra58930-me-decis-de-manana',\n",
       " 'https://www.alternativateatral.com/ /obra27740-edipo-en-ezeiza',\n",
       " 'https://www.alternativateatral.com//obra40120-bufarra-carne-a-la-parrilla',\n",
       " 'https://www.alternativateatral.com/ /obra34119-la-casa-oscura',\n",
       " 'https://www.alternativateatral.com//obra71126-la-falcon-musical-de-tangos-sobre-la-vida-de-ada-falcon',\n",
       " 'https://www.alternativateatral.com//obra52382-mck-las-makallister',\n",
       " nan,\n",
       " 'https://www.alternativateatral.com//obra45959-tebas-land',\n",
       " 'https://www.alternativateatral.com//obra64253-trastorno',\n",
       " 'https://www.alternativateatral.com//obra42663-gurisa',\n",
       " nan,\n",
       " 'https://www.alternativateatral.com//obra67260-sentada-en-una-casa-de-vidrio',\n",
       " 'https://www.alternativateatral.com//obra67542-testimonios-para-invocar-a-un-viajante',\n",
       " 'https://www.alternativateatral.com//obra68377-the-pall-mall-twins',\n",
       " 'https://www.alternativateatral.com//obra52887-la-forma-de-las-cosas',\n",
       " nan,\n",
       " 'https://www.alternativateatral.com//obra77246-el-hombre-de-acero',\n",
       " 'https://www.alternativateatral.com//obra66990-late-el-corazon-de-un-perro',\n",
       " nan,\n",
       " 'https://www.alternativateatral.com//obra29154-la-wagner',\n",
       " 'https://www.alternativateatral.com//obra58330-abnegacion-3',\n",
       " nan,\n",
       " nan,\n",
       " 'https://www.alternativateatral.com//obra59429-la-memoria-fria',\n",
       " 'https://www.alternativateatral.com//obra52842-escritor-fracasado',\n",
       " nan,\n",
       " 'https://www.alternativateatral.com//obra60805-ojala-las-paredes-gritaran',\n",
       " 'https://www.alternativateatral.com//obra77244-el-amateur-segunda-vuelta',\n",
       " nan,\n",
       " nan,\n",
       " 'https://www.alternativateatral.com//obra21638-sudado',\n",
       " 'https://www.alternativateatral.com//obra49807-el-elogio-de-la-risa',\n",
       " 'https://www.alternativateatral.com//obra57660-warangas',\n",
       " nan,\n",
       " 'https://www.alternativateatral.com//obra57645-en-lo-alto-para-siempre',\n",
       " 'https://www.alternativateatral.com//obra52904-pelonintensivo',\n",
       " 'https://www.alternativateatral.com//obra29680-tropico-del-plata',\n",
       " nan,\n",
       " 'https://www.alternativateatral.com//obra29522-todo-lo-que-esta-a-mi-lado',\n",
       " nan,\n",
       " 'https://www.alternativateatral.com//obra36372-mis-dias-sin-victoria',\n",
       " 'https://www.alternativateatral.com//obra57309-noche-de-reyes-nada-es-lo-que-parece',\n",
       " 'https://www.alternativateatral.com//obra15643-doberman',\n",
       " nan,\n",
       " 'https://www.alternativateatral.com//obra10581-pasionaria',\n",
       " 'https://www.alternativateatral.com//obra49664-yo-encarnacion-ezcurra',\n",
       " 'https://www.alternativateatral.com//obra7348-yo-soy-mi-propia-mujer',\n",
       " 'https://www.alternativateatral.com//obra75316-taco-gastado',\n",
       " 'https://www.alternativateatral.com//obra60421-perla-guarani',\n",
       " 'https://www.alternativateatral.com//obra35966-el-amante-de-los-caballos',\n",
       " 'https://www.alternativateatral.com//obra56024-entonces-la-noche',\n",
       " nan,\n",
       " nan,\n",
       " 'https://www.alternativateatral.com//obra67979-la-vis-comica',\n",
       " 'https://www.alternativateatral.com//obra64984-ultimo-round-fragmentos-de-una-herida-de-amor',\n",
       " nan,\n",
       " nan,\n",
       " nan,\n",
       " 'https://www.alternativateatral.com//obra61178-un-almuerzo-argentino',\n",
       " nan,\n",
       " nan,\n",
       " 'https://www.alternativateatral.com//obra63933-la-yegua-muerta',\n",
       " 'https://www.alternativateatral.com//obra64711-toda-persona-vista-de-cerca-es-un-monstruo',\n",
       " nan,\n",
       " nan,\n",
       " nan,\n",
       " nan,\n",
       " 'https://www.alternativateatral.com//obra58743-cruel-basada-en-la-tragedia-de-ricardo-iii',\n",
       " 'https://www.alternativateatral.com//obra54647-orlando-una-ucronia-disforica',\n",
       " 'https://www.alternativateatral.com//obra19804-el-centesimo-mono',\n",
       " 'https://www.alternativateatral.com//obra27434-para-mi-sos-hermosa',\n",
       " 'https://www.alternativateatral.com//obra66777-lo-que-quieren-las-guachas',\n",
       " nan,\n",
       " 'https://www.alternativateatral.com//obra53572-arde-brillante-en-los-bosques-de-la-noche',\n",
       " nan,\n",
       " nan,\n",
       " 'https://www.alternativateatral.com//obra50130-los-golpes-de-clara',\n",
       " 'https://www.alternativateatral.com//obra68172-adela-duerme-serena',\n",
       " 'https://www.alternativateatral.com//obra50932-dashua',\n",
       " 'https://www.alternativateatral.com//obra74424-si-iu-tomorrow-incendiary',\n",
       " nan,\n",
       " 'https://www.alternativateatral.com//obra57703-el-hombre-que-perdio-su-sombra',\n",
       " 'https://www.alternativateatral.com//obra41759-tarascones',\n",
       " nan,\n",
       " 'https://www.alternativateatral.com//obra70079-fuck-me',\n",
       " 'https://www.alternativateatral.com//obra66688-romance-del-baco-y-la-vaca',\n",
       " nan,\n",
       " 'https://www.alternativateatral.com//obra74297-carne-de-consumo-personal',\n",
       " nan,\n",
       " nan,\n",
       " 'https://www.alternativateatral.com//obra69944-recital-olimpico',\n",
       " 'https://www.alternativateatral.com//obra59413-la-vida-extraordinaria',\n",
       " nan,\n",
       " 'https://www.alternativateatral.com//obra76565-ojos-adentro',\n",
       " 'https://www.alternativateatral.com//obra74441-maten-a-hamlet',\n",
       " nan,\n",
       " 'https://www.alternativateatral.com//obra27007-othelo',\n",
       " nan,\n",
       " 'https://www.alternativateatral.com//obra60686-j-timerman',\n",
       " 'https://www.alternativateatral.com//obra68215-turistas-y-exiliades',\n",
       " 'https://www.alternativateatral.com//obra34625-todo-piola',\n",
       " 'https://www.alternativateatral.com//obra66695-experiencia-ii-encuentros-breves-con-hombres-repulsivos',\n",
       " 'https://www.alternativateatral.com//obra70523-new-york-mundo-animal',\n",
       " nan,\n",
       " 'https://www.alternativateatral.com//obra51187-millones-de-segundos',\n",
       " 'https://www.alternativateatral.com//obra45318-la-ponedora-el-ultimo-milagro',\n",
       " nan,\n",
       " 'https://www.alternativateatral.com//obra69497-precarizada',\n",
       " 'https://www.alternativateatral.com//obra58805-kinderbuch',\n",
       " nan,\n",
       " 'https://www.alternativateatral.com//obra16288-absentha',\n",
       " 'https://www.alternativateatral.com//obra77689-algunas-notas-para-inventar-otros-mundos',\n",
       " 'https://www.alternativateatral.com//obra74687-vivir-en-una-casa-prendida-fuego',\n",
       " 'https://www.alternativateatral.com//obra52362-princesa-del-futuro',\n",
       " nan,\n",
       " nan,\n",
       " 'https://www.alternativateatral.com//obra70833-perdimos-todo',\n",
       " nan,\n",
       " 'https://www.alternativateatral.com//obra54345-vigilante',\n",
       " 'https://www.alternativateatral.com//obra42476-mil-federicos',\n",
       " nan,\n",
       " 'https://www.alternativateatral.com//obra76426-me-encantaria-que-gustes-de-mi',\n",
       " nan,\n",
       " nan,\n",
       " 'https://www.alternativateatral.com//obra29895-potencialmente-haydee',\n",
       " 'https://www.alternativateatral.com//obra64395-tadeys',\n",
       " 'https://www.alternativateatral.com//obra14932-un-poyo-rojo',\n",
       " nan,\n",
       " 'https://www.alternativateatral.com//obra80303-nada-de-carne-sobre-nosotras',\n",
       " 'https://www.alternativateatral.com//obra69035-mortajas',\n",
       " nan,\n",
       " nan,\n",
       " nan,\n",
       " 'https://www.alternativateatral.com//obra65367-hombres-y-ratones',\n",
       " 'https://www.alternativateatral.com//obra63493-carcajada-salvaje',\n",
       " 'https://www.alternativateatral.com//obra74477-pieza-para-maniquies-y-un-actor-de-reparto',\n",
       " 'https://www.alternativateatral.com//obra53814-las-quietudes',\n",
       " nan,\n",
       " 'https://www.alternativateatral.com//obra77760-breve-enciclopedia-sobre-la-amistad',\n",
       " 'https://www.alternativateatral.com//obra54212-todo-tendria-sentido-si-no-existiera-la-muerte',\n",
       " nan,\n",
       " 'https://www.alternativateatral.com//obra50814-teresa-esta-liebre',\n",
       " 'https://www.alternativateatral.com//obra66994-beya-durmiente-dj-beya',\n",
       " 'https://www.alternativateatral.com//obra40037-dos-una-desconexion',\n",
       " 'https://www.alternativateatral.com//obra45017-hambre-y-amor-version-de-hedda-gabler-de-henrik-ibsen',\n",
       " nan,\n",
       " 'https://www.alternativateatral.com//obra61003-la-maldad-del-mundo',\n",
       " 'https://www.alternativateatral.com//obra71014-suyay',\n",
       " 'https://www.alternativateatral.com//obra36394-yo-no-duermo-la-siesta',\n",
       " nan,\n",
       " 'https://www.alternativateatral.com//obra70100-el-arrebato',\n",
       " nan,\n",
       " nan,\n",
       " nan,\n",
       " 'https://www.alternativateatral.com//obra18989-viejo-solo-y-puto',\n",
       " 'https://www.alternativateatral.com//obra67605-la-casa-de-las-palomas',\n",
       " 'https://www.alternativateatral.com//obra70784-de-la-mejor-manera',\n",
       " 'https://www.alternativateatral.com//obra65976-algo-perfecto',\n",
       " 'https://www.alternativateatral.com//obra65687-discepolo-las-casas',\n",
       " 'https://www.alternativateatral.com//obra76001-la-comedia-es-peligrosa',\n",
       " nan,\n",
       " 'https://www.alternativateatral.com//obra60872-enobarbo',\n",
       " nan,\n",
       " 'https://www.alternativateatral.com//obra49165-el-ritmo-prueba-5',\n",
       " 'https://www.alternativateatral.com//obra37189-la-fragilidad-del-cielo',\n",
       " 'https://www.alternativateatral.com//obra51718-lo-quiero-ya',\n",
       " nan,\n",
       " 'https://www.alternativateatral.com//obra68096-corina-wilson-extasis-y-demonios',\n",
       " 'https://www.alternativateatral.com//obra66449-la-voluntad-fragmentos-para-simone-weil',\n",
       " 'https://www.alternativateatral.com//obra42363-la-suerte-de-la-fea',\n",
       " nan,\n",
       " 'https://www.alternativateatral.com//obra65457-el-curioso-incidente-del-perro-a-medianoche',\n",
       " nan,\n",
       " nan,\n",
       " nan,\n",
       " 'https://www.alternativateatral.com//obra78547-pequena-pamela',\n",
       " nan,\n",
       " 'https://www.alternativateatral.com//obra21244-parte-de-este-mundo',\n",
       " nan,\n",
       " nan,\n",
       " nan,\n",
       " 'https://www.alternativateatral.com//obra54391-luis-ernesto-llega-vivo',\n",
       " 'https://www.alternativateatral.com//obra49827-la-guiada',\n",
       " nan,\n",
       " nan,\n",
       " 'https://www.alternativateatral.com//obra62607-estrella-el-aire-sale-el-aire-entra',\n",
       " nan,\n",
       " 'https://www.alternativateatral.com//obra50175-asesinato-para-dos',\n",
       " nan,\n",
       " nan,\n",
       " 'https://www.alternativateatral.com//obra29228-la-sala-roja',\n",
       " 'https://www.alternativateatral.com//obra61222-las-vengadoras',\n",
       " nan,\n",
       " nan,\n",
       " nan,\n",
       " 'https://www.alternativateatral.com//obra59476-proyecto-pruebas-el-hipervinculo-prueba-7',\n",
       " 'https://www.alternativateatral.com//obra39875-nadie-es-tan-rubia',\n",
       " 'https://www.alternativateatral.com//obra61132-cae-la-noche-tropical',\n",
       " 'https://www.alternativateatral.com//obra75408-el-recurso-de-amparo',\n",
       " 'https://www.alternativateatral.com//obra63087-fassbinder-todo-es-demasiado',\n",
       " 'https://www.alternativateatral.com//obra62944-la-naranja-mecanica',\n",
       " 'https://www.alternativateatral.com//obra57448-tiestes-y-atreo',\n",
       " 'https://www.alternativateatral.com//obra74429-todos-los-dias-estoy-aburrida-y-lloro-diarios-tempranos',\n",
       " 'https://www.alternativateatral.com//obra67926-el-corazon-del-mundo',\n",
       " nan,\n",
       " 'https://www.alternativateatral.com//obra61147-animal-romantico',\n",
       " 'https://www.alternativateatral.com//obra58815-la-calma-magica',\n",
       " 'https://www.alternativateatral.com/ /obra56662-matate-amor',\n",
       " 'https://www.alternativateatral.com//obra36442-prueba-y-error',\n",
       " nan,\n",
       " 'https://www.alternativateatral.com//obra33661-los-hombres-vuelven-al-monte',\n",
       " nan,\n",
       " nan,\n",
       " 'https://www.alternativateatral.com//obra63208-los-abrazos-huecos',\n",
       " nan,\n",
       " nan,\n",
       " 'https://www.alternativateatral.com//obra59640-solo-vine-a-ver-el-jardin',\n",
       " nan]"
      ]
     },
     "execution_count": 84,
     "metadata": {},
     "output_type": "execute_result"
    }
   ],
   "source": [
    "df_x1[\"urlAT\"].to_list()"
   ]
  },
  {
   "cell_type": "code",
   "execution_count": 91,
   "metadata": {},
   "outputs": [],
   "source": [
    "df_x1.loc[df_x1[\"urlAT\"] == 'https://www.alternativateatral.com/ /obra63013-chorus-line',\"urlAT\"]                                  = 'https://www.alternativateatral.com//obra63013-chorus-line'\n",
    "df_x1.loc[df_x1[\"urlAT\"] == 'https://www.alternativateatral.com/ /obra56662-matate-amor',\"urlAT\"]                                  = 'https://www.alternativateatral.com//obra56662-matate-amor'\n",
    "df_x1.loc[df_x1[\"urlAT\"] == 'https://www.alternativateatral.com/ /obra28566-proyecto-posadas',\"urlAT\"]                             = 'https://www.alternativateatral.com//obra28566-proyecto-posadas'\n",
    "df_x1.loc[df_x1[\"urlAT\"] == 'https://www.alternativateatral.com/ /obra57982-astronautas',\"urlAT\"]                                  = 'https://www.alternativateatral.com//obra57982-astronautas'\n",
    "df_x1.loc[df_x1[\"urlAT\"] == 'https://www.alternativateatral.com/ /obra33482-hamlet-esta-muerto-sin-fuerza-de-gravedad',\"urlAT\"]    = 'https://www.alternativateatral.com//obra33482-hamlet-esta-muerto-sin-fuerza-de-gravedad'\n",
    "df_x1.loc[df_x1[\"urlAT\"] == 'https://www.alternativateatral.com/ /obra27740-edipo-en-ezeiza',\"urlAT\"]                              = 'https://www.alternativateatral.com//obra27740-edipo-en-ezeiza'\n",
    "df_x1.loc[df_x1[\"urlAT\"] == 'https://www.alternativateatral.com/ /obra34119-la-casa-oscura',\"urlAT\"]                               = 'https://www.alternativateatral.com//obra34119-la-casa-oscura'\n"
   ]
  },
  {
   "cell_type": "code",
   "execution_count": 95,
   "metadata": {},
   "outputs": [
    {
     "data": {
      "text/html": [
       "<div>\n",
       "<style scoped>\n",
       "    .dataframe tbody tr th:only-of-type {\n",
       "        vertical-align: middle;\n",
       "    }\n",
       "\n",
       "    .dataframe tbody tr th {\n",
       "        vertical-align: top;\n",
       "    }\n",
       "\n",
       "    .dataframe thead th {\n",
       "        text-align: right;\n",
       "    }\n",
       "</style>\n",
       "<table border=\"1\" class=\"dataframe\">\n",
       "  <thead>\n",
       "    <tr style=\"text-align: right;\">\n",
       "      <th></th>\n",
       "      <th>nombre</th>\n",
       "      <th>urlAT</th>\n",
       "      <th>derivadas</th>\n",
       "      <th>urlF</th>\n",
       "      <th>categoríaF</th>\n",
       "    </tr>\n",
       "  </thead>\n",
       "  <tbody>\n",
       "    <tr>\n",
       "      <th>0</th>\n",
       "      <td>Gansos</td>\n",
       "      <td>NaN</td>\n",
       "      <td>/obra74685-gansos, /obra54414-los-gansos-grazn...</td>\n",
       "      <td>https://farsamag.com/obras/gansos/</td>\n",
       "      <td>Reseña</td>\n",
       "    </tr>\n",
       "    <tr>\n",
       "      <th>1</th>\n",
       "      <td>Las oceánicas</td>\n",
       "      <td>https://www.alternativateatral.com//obra74192-...</td>\n",
       "      <td>/obra74192-las-oceanicas</td>\n",
       "      <td>https://farsamag.com/obras/las-oceanicas/</td>\n",
       "      <td>Reseña</td>\n",
       "    </tr>\n",
       "    <tr>\n",
       "      <th>2</th>\n",
       "      <td>Lorca, el teatro bajo la arena</td>\n",
       "      <td>https://www.alternativateatral.com//obra78212-...</td>\n",
       "      <td>/obra78212-lorca-el-teatro-bajo-la-arena</td>\n",
       "      <td>https://farsamag.com/obras/lorca-el-teatro-baj...</td>\n",
       "      <td>Imperdible</td>\n",
       "    </tr>\n",
       "    <tr>\n",
       "      <th>3</th>\n",
       "      <td>A Chorus Line</td>\n",
       "      <td>https://www.alternativateatral.com//obra63013-...</td>\n",
       "      <td>/obra64382-a-chorus-line, /obra63013-chorus-line</td>\n",
       "      <td>https://farsamag.com/obras/a-chorus-line/</td>\n",
       "      <td>Reseña</td>\n",
       "    </tr>\n",
       "    <tr>\n",
       "      <th>4</th>\n",
       "      <td>Impalpable</td>\n",
       "      <td>https://www.alternativateatral.com//obra21551-...</td>\n",
       "      <td>/obra21551-impalpable, /obra9731-la-madre-impa...</td>\n",
       "      <td>https://farsamag.com/obras/impalpable/</td>\n",
       "      <td>Destacada</td>\n",
       "    </tr>\n",
       "    <tr>\n",
       "      <th>...</th>\n",
       "      <td>...</td>\n",
       "      <td>...</td>\n",
       "      <td>...</td>\n",
       "      <td>...</td>\n",
       "      <td>...</td>\n",
       "    </tr>\n",
       "    <tr>\n",
       "      <th>294</th>\n",
       "      <td>Los abrazos huecos</td>\n",
       "      <td>https://www.alternativateatral.com//obra63208-...</td>\n",
       "      <td>/obra63208-los-abrazos-huecos</td>\n",
       "      <td>https://farsamag.com/obras/los-abrazos-huecos/</td>\n",
       "      <td>Destacada</td>\n",
       "    </tr>\n",
       "    <tr>\n",
       "      <th>295</th>\n",
       "      <td>Actriz</td>\n",
       "      <td>NaN</td>\n",
       "      <td>/obra69780-actriz, /obra34269-actriz, /obra625...</td>\n",
       "      <td>https://farsamag.com/obras/actriz/</td>\n",
       "      <td>Destacada</td>\n",
       "    </tr>\n",
       "    <tr>\n",
       "      <th>296</th>\n",
       "      <td>Forever Young</td>\n",
       "      <td>NaN</td>\n",
       "      <td>/obra24072-forever-young, /obra69181-forever-y...</td>\n",
       "      <td>https://farsamag.com/obras/forever-young/</td>\n",
       "      <td>Imperdible</td>\n",
       "    </tr>\n",
       "    <tr>\n",
       "      <th>297</th>\n",
       "      <td>Solo vine a ver el jardín</td>\n",
       "      <td>https://www.alternativateatral.com//obra59640-...</td>\n",
       "      <td>/obra59640-solo-vine-a-ver-el-jardin, /obra78-...</td>\n",
       "      <td>https://farsamag.com/obras/solo-vine-a-ver-el-...</td>\n",
       "      <td>Reseña</td>\n",
       "    </tr>\n",
       "    <tr>\n",
       "      <th>298</th>\n",
       "      <td>Hidalgo</td>\n",
       "      <td>NaN</td>\n",
       "      <td>/obra52560-hidalgo, /obra43556-hidalgo, /obra6...</td>\n",
       "      <td>https://farsamag.com/obras/hidalgo/</td>\n",
       "      <td>Reseña</td>\n",
       "    </tr>\n",
       "  </tbody>\n",
       "</table>\n",
       "<p>299 rows × 5 columns</p>\n",
       "</div>"
      ],
      "text/plain": [
       "                             nombre  \\\n",
       "0                            Gansos   \n",
       "1                     Las oceánicas   \n",
       "2    Lorca, el teatro bajo la arena   \n",
       "3                     A Chorus Line   \n",
       "4                        Impalpable   \n",
       "..                              ...   \n",
       "294              Los abrazos huecos   \n",
       "295                          Actriz   \n",
       "296                   Forever Young   \n",
       "297       Solo vine a ver el jardín   \n",
       "298                         Hidalgo   \n",
       "\n",
       "                                                 urlAT  \\\n",
       "0                                                  NaN   \n",
       "1    https://www.alternativateatral.com//obra74192-...   \n",
       "2    https://www.alternativateatral.com//obra78212-...   \n",
       "3    https://www.alternativateatral.com//obra63013-...   \n",
       "4    https://www.alternativateatral.com//obra21551-...   \n",
       "..                                                 ...   \n",
       "294  https://www.alternativateatral.com//obra63208-...   \n",
       "295                                                NaN   \n",
       "296                                                NaN   \n",
       "297  https://www.alternativateatral.com//obra59640-...   \n",
       "298                                                NaN   \n",
       "\n",
       "                                             derivadas  \\\n",
       "0    /obra74685-gansos, /obra54414-los-gansos-grazn...   \n",
       "1                             /obra74192-las-oceanicas   \n",
       "2             /obra78212-lorca-el-teatro-bajo-la-arena   \n",
       "3     /obra64382-a-chorus-line, /obra63013-chorus-line   \n",
       "4    /obra21551-impalpable, /obra9731-la-madre-impa...   \n",
       "..                                                 ...   \n",
       "294                      /obra63208-los-abrazos-huecos   \n",
       "295  /obra69780-actriz, /obra34269-actriz, /obra625...   \n",
       "296  /obra24072-forever-young, /obra69181-forever-y...   \n",
       "297  /obra59640-solo-vine-a-ver-el-jardin, /obra78-...   \n",
       "298  /obra52560-hidalgo, /obra43556-hidalgo, /obra6...   \n",
       "\n",
       "                                                  urlF  categoríaF  \n",
       "0                   https://farsamag.com/obras/gansos/      Reseña  \n",
       "1            https://farsamag.com/obras/las-oceanicas/      Reseña  \n",
       "2    https://farsamag.com/obras/lorca-el-teatro-baj...  Imperdible  \n",
       "3            https://farsamag.com/obras/a-chorus-line/      Reseña  \n",
       "4               https://farsamag.com/obras/impalpable/   Destacada  \n",
       "..                                                 ...         ...  \n",
       "294     https://farsamag.com/obras/los-abrazos-huecos/   Destacada  \n",
       "295                 https://farsamag.com/obras/actriz/   Destacada  \n",
       "296          https://farsamag.com/obras/forever-young/  Imperdible  \n",
       "297  https://farsamag.com/obras/solo-vine-a-ver-el-...      Reseña  \n",
       "298                https://farsamag.com/obras/hidalgo/      Reseña  \n",
       "\n",
       "[299 rows x 5 columns]"
      ]
     },
     "execution_count": 95,
     "metadata": {},
     "output_type": "execute_result"
    }
   ],
   "source": [
    "df_x1"
   ]
  },
  {
   "cell_type": "code",
   "execution_count": 96,
   "metadata": {},
   "outputs": [],
   "source": [
    "df_x1.to_csv(\"data/df_x1.csv\", encoding='utf-8', index=False)"
   ]
  }
 ],
 "metadata": {
  "kernelspec": {
   "display_name": "Python 3",
   "language": "python",
   "name": "python3"
  },
  "language_info": {
   "codemirror_mode": {
    "name": "ipython",
    "version": 3
   },
   "file_extension": ".py",
   "mimetype": "text/x-python",
   "name": "python",
   "nbconvert_exporter": "python",
   "pygments_lexer": "ipython3",
   "version": "3.10.9"
  },
  "orig_nbformat": 4,
  "vscode": {
   "interpreter": {
    "hash": "f8ca15d83b6fb72cece3edcf60f6aa40d2cbdeb5c60e0f188ff8c7c65828fd00"
   }
  }
 },
 "nbformat": 4,
 "nbformat_minor": 2
}
