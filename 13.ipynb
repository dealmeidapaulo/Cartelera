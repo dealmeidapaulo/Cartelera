{
 "cells": [
  {
   "cell_type": "code",
   "execution_count": 1,
   "metadata": {},
   "outputs": [],
   "source": [
    "import pandas as pd\n",
    "from csv import writer\n",
    "import numpy as np\n",
    "import pandas as pd\n",
    "from lib import lib_soup_alternativaTeatral as alternativaTeatral"
   ]
  },
  {
   "attachments": {},
   "cell_type": "markdown",
   "metadata": {},
   "source": [
    "Voy a querer obtener los Comentarios del Público en Alternativa Teatral."
   ]
  },
  {
   "cell_type": "code",
   "execution_count": 5,
   "metadata": {},
   "outputs": [
    {
     "data": {
      "text/plain": [
       "[('https://www.alternativateatral.com//obra77358-imposible-violar-a-esta-mujer-llena-de-vicios',\n",
       "  '3'),\n",
       " ('https://www.alternativateatral.com//obra73014-experiencia-carrusel', '4'),\n",
       " ('https://www.alternativateatral.com//obra76853-otro-dia-de-suerte--apostando-fuerte',\n",
       "  '5'),\n",
       " ('https://www.alternativateatral.com//obra76853-otro-dia-de-suerte--apostando-fuerte',\n",
       "  '4'),\n",
       " ('https://www.alternativateatral.com//obra77474-cuando-despertemos-muertos',\n",
       "  '0'),\n",
       " ('https://www.alternativateatral.com//obra73577-el-dia-en-que-me-voy-a-morir',\n",
       "  '5'),\n",
       " ('https://www.alternativateatral.com//obra73014-experiencia-carrusel', '4')]"
      ]
     },
     "execution_count": 5,
     "metadata": {},
     "output_type": "execute_result"
    }
   ],
   "source": [
    "alternativaTeatral.opiniones_getOpiniones(8061)"
   ]
  },
  {
   "cell_type": "code",
   "execution_count": 2,
   "metadata": {},
   "outputs": [
    {
     "data": {
      "text/html": [
       "<div>\n",
       "<style scoped>\n",
       "    .dataframe tbody tr th:only-of-type {\n",
       "        vertical-align: middle;\n",
       "    }\n",
       "\n",
       "    .dataframe tbody tr th {\n",
       "        vertical-align: top;\n",
       "    }\n",
       "\n",
       "    .dataframe thead th {\n",
       "        text-align: right;\n",
       "    }\n",
       "</style>\n",
       "<table border=\"1\" class=\"dataframe\">\n",
       "  <thead>\n",
       "    <tr style=\"text-align: right;\">\n",
       "      <th></th>\n",
       "      <th>urlAT</th>\n",
       "      <th>categoríaAT</th>\n",
       "      <th>página</th>\n",
       "    </tr>\n",
       "  </thead>\n",
       "  <tbody>\n",
       "  </tbody>\n",
       "</table>\n",
       "</div>"
      ],
      "text/plain": [
       "Empty DataFrame\n",
       "Columns: [urlAT, categoríaAT, página]\n",
       "Index: []"
      ]
     },
     "execution_count": 2,
     "metadata": {},
     "output_type": "execute_result"
    }
   ],
   "source": [
    "df_x4 = pd.DataFrame(columns = [\"urlAT\",\"categoríaAT\",\"página\"])\n",
    "df_x4"
   ]
  },
  {
   "cell_type": "code",
   "execution_count": 4,
   "metadata": {},
   "outputs": [
    {
     "data": {
      "text/html": [
       "<div>\n",
       "<style scoped>\n",
       "    .dataframe tbody tr th:only-of-type {\n",
       "        vertical-align: middle;\n",
       "    }\n",
       "\n",
       "    .dataframe tbody tr th {\n",
       "        vertical-align: top;\n",
       "    }\n",
       "\n",
       "    .dataframe thead th {\n",
       "        text-align: right;\n",
       "    }\n",
       "</style>\n",
       "<table border=\"1\" class=\"dataframe\">\n",
       "  <thead>\n",
       "    <tr style=\"text-align: right;\">\n",
       "      <th></th>\n",
       "      <th>urlAT</th>\n",
       "      <th>categoríaAT</th>\n",
       "      <th>página</th>\n",
       "    </tr>\n",
       "  </thead>\n",
       "  <tbody>\n",
       "    <tr>\n",
       "      <th>0</th>\n",
       "      <td>https://www.alternativateatral.com//obra82180-...</td>\n",
       "      <td>4</td>\n",
       "      <td>1</td>\n",
       "    </tr>\n",
       "    <tr>\n",
       "      <th>1</th>\n",
       "      <td>https://www.alternativateatral.com//obra82177-...</td>\n",
       "      <td>5</td>\n",
       "      <td>1</td>\n",
       "    </tr>\n",
       "    <tr>\n",
       "      <th>2</th>\n",
       "      <td>https://www.alternativateatral.com//obra82180-...</td>\n",
       "      <td>3</td>\n",
       "      <td>1</td>\n",
       "    </tr>\n",
       "    <tr>\n",
       "      <th>3</th>\n",
       "      <td>https://www.alternativateatral.com//obra67150-...</td>\n",
       "      <td>4</td>\n",
       "      <td>1</td>\n",
       "    </tr>\n",
       "    <tr>\n",
       "      <th>4</th>\n",
       "      <td>https://www.alternativateatral.com//obra73854-...</td>\n",
       "      <td>0</td>\n",
       "      <td>1</td>\n",
       "    </tr>\n",
       "    <tr>\n",
       "      <th>...</th>\n",
       "      <td>...</td>\n",
       "      <td>...</td>\n",
       "      <td>...</td>\n",
       "    </tr>\n",
       "    <tr>\n",
       "      <th>30487</th>\n",
       "      <td>https://www.alternativateatral.com//obra49722-...</td>\n",
       "      <td>5</td>\n",
       "      <td>4578</td>\n",
       "    </tr>\n",
       "    <tr>\n",
       "      <th>30488</th>\n",
       "      <td>https://www.alternativateatral.com//obra79234-...</td>\n",
       "      <td>5</td>\n",
       "      <td>4578</td>\n",
       "    </tr>\n",
       "    <tr>\n",
       "      <th>30489</th>\n",
       "      <td>https://www.alternativateatral.com//obra78980-...</td>\n",
       "      <td>4</td>\n",
       "      <td>4578</td>\n",
       "    </tr>\n",
       "    <tr>\n",
       "      <th>30490</th>\n",
       "      <td>https://www.alternativateatral.com//obra32723-...</td>\n",
       "      <td>5</td>\n",
       "      <td>4578</td>\n",
       "    </tr>\n",
       "    <tr>\n",
       "      <th>30491</th>\n",
       "      <td>https://www.alternativateatral.com//obra69229-...</td>\n",
       "      <td>4</td>\n",
       "      <td>4578</td>\n",
       "    </tr>\n",
       "  </tbody>\n",
       "</table>\n",
       "<p>30492 rows × 3 columns</p>\n",
       "</div>"
      ],
      "text/plain": [
       "                                                   urlAT  categoríaAT  página\n",
       "0      https://www.alternativateatral.com//obra82180-...            4       1\n",
       "1      https://www.alternativateatral.com//obra82177-...            5       1\n",
       "2      https://www.alternativateatral.com//obra82180-...            3       1\n",
       "3      https://www.alternativateatral.com//obra67150-...            4       1\n",
       "4      https://www.alternativateatral.com//obra73854-...            0       1\n",
       "...                                                  ...          ...     ...\n",
       "30487  https://www.alternativateatral.com//obra49722-...            5    4578\n",
       "30488  https://www.alternativateatral.com//obra79234-...            5    4578\n",
       "30489  https://www.alternativateatral.com//obra78980-...            4    4578\n",
       "30490  https://www.alternativateatral.com//obra32723-...            5    4578\n",
       "30491  https://www.alternativateatral.com//obra69229-...            4    4578\n",
       "\n",
       "[30492 rows x 3 columns]"
      ]
     },
     "execution_count": 4,
     "metadata": {},
     "output_type": "execute_result"
    }
   ],
   "source": [
    "df_x4 = pd.read_csv(\"data//df_x4.csv\")\n",
    "df_x4"
   ]
  },
  {
   "cell_type": "code",
   "execution_count": 3,
   "metadata": {},
   "outputs": [
    {
     "name": "stdout",
     "output_type": "stream",
     "text": [
      "4266\n",
      "4322\n",
      "4329\n",
      "4339\n",
      "4360\n",
      "4372\n",
      "4381\n",
      "4405\n",
      "4420\n",
      "4436\n",
      "4451\n",
      "4484\n",
      "4504\n",
      "4571\n"
     ]
    }
   ],
   "source": [
    "j = 28086\n",
    "for i in range(4221,42272):\n",
    "    try:\n",
    "        L = alternativaTeatral.opiniones_getOpiniones(i)\n",
    "        for l in L:\n",
    "            df_x4.loc[j] = [l[0],l[1],i]\n",
    "            j += 1\n",
    "        df_x4.to_csv(\"data/df_x4.csv\", encoding='utf-8', index=False)\n",
    "    except: print(i)"
   ]
  }
 ],
 "metadata": {
  "kernelspec": {
   "display_name": "Python 3",
   "language": "python",
   "name": "python3"
  },
  "language_info": {
   "codemirror_mode": {
    "name": "ipython",
    "version": 3
   },
   "file_extension": ".py",
   "mimetype": "text/x-python",
   "name": "python",
   "nbconvert_exporter": "python",
   "pygments_lexer": "ipython3",
   "version": "3.10.10"
  },
  "orig_nbformat": 4,
  "vscode": {
   "interpreter": {
    "hash": "f8ca15d83b6fb72cece3edcf60f6aa40d2cbdeb5c60e0f188ff8c7c65828fd00"
   }
  }
 },
 "nbformat": 4,
 "nbformat_minor": 2
}
